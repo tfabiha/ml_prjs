{
  "nbformat": 4,
  "nbformat_minor": 0,
  "metadata": {
    "colab": {
      "provenance": [],
      "machine_shape": "hm"
    },
    "kernelspec": {
      "name": "python3",
      "display_name": "Python 3"
    },
    "language_info": {
      "codemirror_mode": {
        "name": "ipython",
        "version": 3
      },
      "file_extension": ".py",
      "mimetype": "text/x-python",
      "name": "python",
      "nbconvert_exporter": "python",
      "pygments_lexer": "ipython3",
      "version": "3.7.2"
    },
    "accelerator": "GPU"
  },
  "cells": [
    {
      "cell_type": "markdown",
      "source": [
        "# AIM\n",
        "\n",
        "Learn through implementation the use of HMMs and RNNs in serving as prediction models"
      ],
      "metadata": {
        "id": "4ARFeBFlHB0U"
      }
    },
    {
      "cell_type": "markdown",
      "metadata": {
        "id": "5fiHWc4VyZ1s"
      },
      "source": [
        "# Hidden Markov Models"
      ]
    },
    {
      "cell_type": "code",
      "metadata": {
        "id": "BwBfNO5idqj2"
      },
      "source": [
        "# helper functions\n",
        "\n",
        "import numpy as np\n",
        "import matplotlib.pyplot as plt\n",
        "\n",
        "np.set_printoptions(2)\n",
        "\n",
        "def norm(x): \n",
        "    '''\n",
        "    Return the input normalized to have sum of 1. \n",
        "    '''\n",
        "    return(x/x.sum())\n",
        "\n",
        "def row_norm(x):\n",
        "    '''\n",
        "    Return the input normalized so that each row sums to 1. \n",
        "    '''\n",
        "    return x / x.sum(1, keepdims=True)"
      ],
      "execution_count": null,
      "outputs": []
    },
    {
      "cell_type": "markdown",
      "metadata": {
        "id": "BC7-fry3dqj4"
      },
      "source": [
        "## Sampling from the HMM \n"
      ]
    },
    {
      "cell_type": "code",
      "metadata": {
        "id": "8ET1yJ6Jdqj5"
      },
      "source": [
        "def sampleHMM(gamma0, T, E, S):\n",
        "    '''\n",
        "Sample from the HMM\n",
        "\n",
        "Parameters\n",
        "----------\n",
        "gamma0\n",
        "    initial distribution over states of the HMM\n",
        "T\n",
        "    transition matrix of size K x K\n",
        "E\n",
        "    emission matrix size K x L\n",
        "S\n",
        "    sequence length\n",
        "\n",
        "Returns\n",
        "-------\n",
        "x\n",
        "    Vector of hidden states\n",
        "y\n",
        "    Vector of observations\n",
        "    '''\n",
        "    K = gamma0.size\n",
        "    L = E.shape[1]\n",
        "    x = np.zeros(S, dtype = np.int32)\n",
        "    y = np.zeros(S, dtype = np.int32)\n",
        "    x[0] = np.random.choice(K, p=gamma0)\n",
        "    y[0] = np.random.choice(L, p=E[x[0], :])\n",
        "    for t in range(1,S):\n",
        "        x[t] = np.random.choice(K, p = T[x[t-1], :])\n",
        "        y[t] = np.random.choice(L, p = E[x[t], :])\n",
        "    return (x,y)"
      ],
      "execution_count": null,
      "outputs": []
    },
    {
      "cell_type": "code",
      "metadata": {
        "id": "8_CrsVKfdqj7",
        "colab": {
          "base_uri": "https://localhost:8080/",
          "height": 562
        },
        "outputId": "b3e5c584-738b-418a-fbdf-e4af57c809a7"
      },
      "source": [
        "# test a 2-state HMM and sample to observe outputs\n",
        "\n",
        "gamma0_true = np.array([0., 1.]) # start in state 1 (rather than 0)\n",
        "T_true = np.array([[0.8, 0.2], [0.1, 0.9]]) # usually stay in the same state, a \"sticky\" HMM\n",
        "E_true = np.array([[0.4, 0.4, 0.1, 0.1], [0.1, 0.1, 0.4, 0.4]]) \n",
        "\n",
        "np.random.seed(3)\n",
        "x,y = sampleHMM(gamma0_true, T_true, E_true, S = 100)\n",
        "\n",
        "plt.figure(figsize=(14,4))\n",
        "plt.plot(x, \"o\")\n",
        "plt.title(\"Hidden state x\")\n",
        "\n",
        "plt.figure(figsize=(14,4))\n",
        "plt.plot(y, \"o\")\n",
        "plt.title(\"Observations y\")"
      ],
      "execution_count": null,
      "outputs": [
        {
          "output_type": "execute_result",
          "data": {
            "text/plain": [
              "Text(0.5, 1.0, 'Observations y')"
            ]
          },
          "metadata": {},
          "execution_count": 4
        },
        {
          "output_type": "display_data",
          "data": {
            "text/plain": [
              "<Figure size 1008x288 with 1 Axes>"
            ],
            "image/png": "[encoded data removed]"
          },
          "metadata": {
            "needs_background": "light"
          }
        },
        {
          "output_type": "display_data",
          "data": {
            "text/plain": [
              "<Figure size 1008x288 with 1 Axes>"
            ],
            "image/png": "[encoded data removed]"
          },
          "metadata": {
            "needs_background": "light"
          }
        }
      ]
    },
    {
      "cell_type": "markdown",
      "metadata": {
        "id": "Xi6YPPeUdqj-"
      },
      "source": [
        "## Forwards-backwards\n",
        "\n",
        "For forward pass initialized\n",
        "$$ f_{1:} = \\text{norm}( \\gamma_0 \\cdot E_{:y_{1}} ) $$ \n",
        "where $f = \\text{norm}(f_*)$ implies\n",
        "$$ f_i = \\frac{ f^*_i }{ \\sum_{i'} f^*_{i'} } $$\n",
        "\n",
        "\n",
        "At each time point $t$\n",
        "$$ r_{ti} = \\sum_j T_{ji} f_{(t-1)j} $$\n",
        "$$ f^*_{ti} = r_{ti} E_{iy_t} $$\n",
        "$$ f_{ti} = \\frac{ f^*_{ti} }{ \\sum_{i'} f^*_{ti'} } $$\n",
        "\n",
        "\n",
        "The subsequent time point updates are\n",
        "$$ r_{t:} = f_{t-1:}T $$\n",
        "$$ f^*_{t:} = r_{t:} \\cdot E_{:y_i} $$\n",
        "$$ f_{t:} = \\frac{ f^*_{t:} }{ \\sum_{t'} f^*_{t':} } $$"
      ]
    },
    {
      "cell_type": "code",
      "metadata": {
        "id": "VnOrJlkRdqj_"
      },
      "source": [
        "def forwards(y, gamma0, T, E):\n",
        "    '''\n",
        "Forward pass of forwards-backwards algorithm. \n",
        "\n",
        "Parameters\n",
        "----------\n",
        "y\n",
        "    vector of observations, assumed to be in range(E.shape[1])\n",
        "gamma0\n",
        "    initial distribution as vector of size K\n",
        "T\n",
        "    transition matrix of size K x K\n",
        "E\n",
        "    emission matrix size K x L\n",
        "Returns\n",
        "-------\n",
        "f\n",
        "    forward \"messages\" f[t,k] = P(x[t]=k | y[0:t]=y[0:t]) for 0<=k<K and 0<=t<S\n",
        "  '''\n",
        "    S = y.size\n",
        "    K = T.shape[0]\n",
        "    \n",
        "    f = np.zeros((S, K))\n",
        "\n",
        "    f_star = np.multiply(gamma0, E[:,y[0]])\n",
        "    f[0,:] = f_star / sum(f_star)\n",
        "\n",
        "    for i in range(1,S):\n",
        "      r = np.dot(f[i-1,:], T)\n",
        "      f_star = np.multiply(r, E[:,y[i]])\n",
        "      f[i,:] = f_star / sum(f_star)\n",
        "    return f"
      ],
      "execution_count": null,
      "outputs": []
    },
    {
      "cell_type": "markdown",
      "metadata": {
        "id": "kWdudRQQdqkB"
      },
      "source": [
        "For backwards pass time point updates are\n",
        "$$ q_{ti} = \\sum_j{ E_{jy_{t+1} }} \\cdot b_{t+1 j} $$\n",
        "$$ b_{ti} = T_{ij} \\cdot q_{ti} $$"
      ]
    },
    {
      "cell_type": "code",
      "metadata": {
        "id": "zJzvSQSbdqkB"
      },
      "source": [
        "def backwards(y, T, E):\n",
        "    '''\n",
        "Backwards pass of forwards-backwards algorithm. \n",
        "\n",
        "Parameters\n",
        "----------\n",
        "y\n",
        "    vector of observations, assumed to be in range(E.shape[1])\n",
        "gamma0\n",
        "    initial distribution as vector of size K\n",
        "T\n",
        "    transition matrix of size K x K\n",
        "E\n",
        "    emission matrix size K x L\n",
        "\n",
        "Returns\n",
        "-------\n",
        "b\n",
        "    Backward \"messages\" b[t,k] = [P(y[t+1:n] | X[t]=k) for 0<=k<K and 1<=t<S      \n",
        "  '''\n",
        "    S = y.size\n",
        "    K = T.shape[0]\n",
        "\n",
        "    b = np.ones((S, K))\n",
        "\n",
        "    for i in range(S-2, -1, -1):\n",
        "      b[i,:] = np.dot( T, np.multiply(E[:,y[i+1]], b[i+1,:]))\n",
        "    return b"
      ],
      "execution_count": null,
      "outputs": []
    },
    {
      "cell_type": "code",
      "metadata": {
        "id": "TpYOrSVXdqkE"
      },
      "source": [
        "# combine forwards and backwards to get the posterior\n",
        "def forwards_backwards( y, gamma0, T, E ):\n",
        "    f = forwards(y, gamma0, T, E) # eq to S x K\n",
        "    b = backwards(y, T, E)\n",
        "    gamma = row_norm( f * b ) # gamma[t,k] = P(X[t]=k | y[0:S]) is posterior\n",
        "    return gamma, f, b\n",
        "\n",
        "gamma, f, b = forwards_backwards( y, gamma0_true, T_true, E_true )\n",
        "\n",
        "# check forwards_backwards results for correctness\n",
        "assert( abs(gamma[-1,1] - 0.6397375803142555) < 1e-10  ) \n",
        "assert( abs(gamma[-50,1] - 0.9566209571811642) < 1e-10  ) "
      ],
      "execution_count": null,
      "outputs": []
    },
    {
      "cell_type": "code",
      "metadata": {
        "id": "9iGex8S_dqkH",
        "colab": {
          "base_uri": "https://localhost:8080/",
          "height": 282
        },
        "outputId": "76e1f869-b248-4567-b87d-8fae9db44a80"
      },
      "source": [
        "# compare posterior X over true X\n",
        "\n",
        "plt.figure(figsize=(14,4))\n",
        "plt.plot(gamma[:,1], \"-o\") # P(X[t] = 1 | Y[0:t])\n",
        "plt.plot(x, \"o\")"
      ],
      "execution_count": null,
      "outputs": [
        {
          "output_type": "execute_result",
          "data": {
            "text/plain": [
              "[<matplotlib.lines.Line2D at 0x7f14021c22d0>]"
            ]
          },
          "metadata": {},
          "execution_count": 8
        },
        {
          "output_type": "display_data",
          "data": {
            "text/plain": [
              "<Figure size 1008x288 with 1 Axes>"
            ],
            "image/png": "[encoded data removed]"
          },
          "metadata": {
            "needs_background": "light"
          }
        }
      ]
    },
    {
      "cell_type": "code",
      "metadata": {
        "id": "I71-j6QwdqkK",
        "colab": {
          "base_uri": "https://localhost:8080/"
        },
        "outputId": "cae5b9db-7286-47cb-f57d-f715e503e822"
      },
      "source": [
        "# how often does posterior X match true X\n",
        "\n",
        "np.mean((gamma[:,1] > .5) == (x==1))"
      ],
      "execution_count": null,
      "outputs": [
        {
          "output_type": "execute_result",
          "data": {
            "text/plain": [
              "0.86"
            ]
          },
          "metadata": {},
          "execution_count": 9
        }
      ]
    },
    {
      "cell_type": "markdown",
      "metadata": {
        "id": "H9mZAXuwdqkK"
      },
      "source": [
        "Posterior tends towards the correct hidden state 86% of the time"
      ]
    },
    {
      "cell_type": "markdown",
      "metadata": {
        "id": "h9TOGWB_dqkN"
      },
      "source": [
        "## Baum-Welch\n"
      ]
    },
    {
      "cell_type": "code",
      "metadata": {
        "id": "iCtITHLcPRkJ"
      },
      "source": [
        "def baum_welch(y, gamma0, tol=1e-4, maxIt = 100):\n",
        "    '''\n",
        "    Compute maximum likehood estimate using Expectation-Maximization\n",
        "\n",
        "    Parameters\n",
        "    ----------\n",
        "    y\n",
        "        vector of observations\n",
        "    gamma0\n",
        "        initial distribution of the hidden chain\n",
        "    tol\n",
        "        tolerance for the stopping criterion\n",
        "    maxIt\n",
        "        maximal number of iterations\n",
        "\n",
        "    Returns\n",
        "    -------\n",
        "    T\n",
        "        K x K estimate of the transition matrix T[i,j] = P(X[t]=j | X[t-1]=i)\n",
        "    E\n",
        "        K x L estimate of the emission matrix E[i,j] = P(Y[t]=j | X[t]=i)\n",
        "  '''  \n",
        "    K = gamma0.size\n",
        "    L = 1+max(y)\n",
        "    S = y.size\n",
        "    Y = np.zeros([S, L])\n",
        "    Y[range(S), np.int_(y)] = 1\n",
        "\n",
        "    # gamma S x K\n",
        "    # Y S x L\n",
        "\n",
        "    # randomly initialize T, E\n",
        "    T = row_norm( np.random.rand(K, K).astype(np.float32) )\n",
        "    E = row_norm( np.random.rand(K, L).astype(np.float32) )\n",
        "\n",
        "    it = 0\n",
        "    oldT = T\n",
        "    oldE = E + tol +1\n",
        "\n",
        "    while (np.abs(oldT-T).sum() + np.abs(oldE-E).sum() > tol) and (it<maxIt):\n",
        "        it += 1\n",
        "\n",
        "        oldT = T.copy()\n",
        "        oldE = E.copy()\n",
        "\n",
        "        # E-step\n",
        "        gamma, f, b = forwards_backwards(y, gamma0, T, E)\n",
        "        \n",
        "        # M-step\n",
        "        Tstar = np.zeros((K,K))\n",
        "        for t in range(S-1):\n",
        "            Tstar += norm( T * np.outer( f[t,:], E[:,y[t+1]] * b[t+1,:] ) )\n",
        "        T = row_norm(Tstar)\n",
        "\n",
        "        # E update\n",
        "        E_star = np.dot(gamma.T, Y)\n",
        "        E = row_norm(E_star)\n",
        "\n",
        "    return (T, E)"
      ],
      "execution_count": null,
      "outputs": []
    },
    {
      "cell_type": "code",
      "metadata": {
        "id": "VRGpsj0edqkQ",
        "colab": {
          "base_uri": "https://localhost:8080/"
        },
        "outputId": "ef421c5f-e92b-46b7-9429-88850a0823b2"
      },
      "source": [
        "# check if Baum-Welch can recover true E and T\n",
        "\n",
        "np.random.seed(2)\n",
        "\n",
        "T_mle, E_mle = baum_welch(y, gamma0_true)\n",
        "\n",
        "print(\"True T:\\n\", T_true)\n",
        "print(\"Infered T:\\n\", T_mle)\n",
        "print(\"Mean absolute error in T: %.3f\" % np.mean(np.abs(T_true - T_mle)))\n",
        "\n",
        "print(\"True E:\\n\", E_true)\n",
        "print(\"Infered E:\\n\", E_mle )\n",
        "print(\"Mean absolute error in E: %.3f\" % np.mean(np.abs(E_true - E_mle)))\n",
        "\n",
        "assert( abs(E_mle[0,0] - 0.19228533549712362) < 1e-10 )"
      ],
      "execution_count": null,
      "outputs": [
        {
          "output_type": "stream",
          "name": "stdout",
          "text": [
            "True T:\n",
            " [[0.8 0.2]\n",
            " [0.1 0.9]]\n",
            "Infered T:\n",
            " [[0.91 0.09]\n",
            " [0.08 0.92]]\n",
            "Mean absolute error in T: 0.066\n",
            "True E:\n",
            " [[0.4 0.4 0.1 0.1]\n",
            " [0.1 0.1 0.4 0.4]]\n",
            "Infered E:\n",
            " [[1.92e-01 3.87e-01 2.20e-01 2.01e-01]\n",
            " [2.44e-01 4.46e-13 4.44e-01 3.11e-01]]\n",
            "Mean absolute error in E: 0.102\n"
          ]
        }
      ]
    },
    {
      "cell_type": "code",
      "metadata": {
        "id": "mcA1_e2ldqkS",
        "colab": {
          "base_uri": "https://localhost:8080/",
          "height": 282
        },
        "outputId": "0540ff04-2038-44c5-b4c6-b01e206369e8"
      },
      "source": [
        "# compare posterior X over true X\n",
        "\n",
        "gamma, f, b = forwards_backwards(y, gamma0_true, T_mle, E_mle) \n",
        "plt.figure(figsize=(14,4))\n",
        "plt.plot(gamma[:,1], \"-o\") # P(X[t] = 1 | Y[0:t])\n",
        "plt.plot(x, \"o\")"
      ],
      "execution_count": null,
      "outputs": [
        {
          "output_type": "execute_result",
          "data": {
            "text/plain": [
              "[<matplotlib.lines.Line2D at 0x7f14021493d0>]"
            ]
          },
          "metadata": {},
          "execution_count": 12
        },
        {
          "output_type": "display_data",
          "data": {
            "text/plain": [
              "<Figure size 1008x288 with 1 Axes>"
            ],
            "image/png": "[encoded data removed]"
          },
          "metadata": {
            "needs_background": "light"
          }
        }
      ]
    },
    {
      "cell_type": "code",
      "metadata": {
        "id": "Ca8bFmwddqkV",
        "colab": {
          "base_uri": "https://localhost:8080/"
        },
        "outputId": "8bb35629-de8e-4baf-b108-62ac59ba5a7f"
      },
      "source": [
        "# how often does posterior X match true X\n",
        "\n",
        "np.mean((gamma[:,1] > .5) == (x==1))"
      ],
      "execution_count": null,
      "outputs": [
        {
          "output_type": "execute_result",
          "data": {
            "text/plain": [
              "0.69"
            ]
          },
          "metadata": {},
          "execution_count": 13
        }
      ]
    },
    {
      "cell_type": "markdown",
      "metadata": {
        "id": "SZwwxU0adqkU"
      },
      "source": [
        "Posterior tends towards the correct hidden state 69% of the time, still better than random"
      ]
    },
    {
      "cell_type": "code",
      "metadata": {
        "id": "RbJLFbi9dqkY"
      },
      "source": [
        "# baum welch but with pseudocount to offset error coming from the recovered E matrix\n",
        "\n",
        "def baum_welch_with_pseudocount(y, gamma0, tol=1e-4, maxIt = 100):\n",
        "    '''\n",
        "    Compute maximum likehood estimate using Expectation-Maximization\n",
        "\n",
        "    Parameters\n",
        "    ----------\n",
        "    y\n",
        "        vector of observations\n",
        "    gamma0\n",
        "        initial distribution of the hidden chain\n",
        "    tol\n",
        "        tolerance for the stopping criterion\n",
        "    maxIt\n",
        "        maximal number of iterations\n",
        "\n",
        "    Returns\n",
        "    -------\n",
        "    T\n",
        "        K x K estimate of the transition matrix T[i,j] = P(X[t]=j | X[t-1]=i)\n",
        "    E\n",
        "        K x L estimate of the emission matrix E[i,j] = P(Y[t]=j | X[t]=i)\n",
        "  '''  \n",
        "    K = gamma0.size\n",
        "    L = 1+max(y)\n",
        "    S = y.size\n",
        "    Y = np.zeros([S, L])\n",
        "    Y[range(S), np.int_(y)] = 1\n",
        "\n",
        "    # randomly initialize T, E\n",
        "    T = row_norm( np.random.rand(K, K).astype(np.float32) )\n",
        "    E = row_norm( np.random.rand(K, L).astype(np.float32) )\n",
        "\n",
        "    it = 0\n",
        "    oldT = T\n",
        "    oldE = E + tol +1\n",
        "\n",
        "    while (np.abs(oldT-T).sum() + np.abs(oldE-E).sum() > tol) and (it<maxIt):\n",
        "        it += 1\n",
        "\n",
        "        oldT = T.copy()\n",
        "        oldE = E.copy()\n",
        "\n",
        "        # E-step\n",
        "        gamma, f, b = forwards_backwards(y, gamma0, T, E)\n",
        "        \n",
        "        # M-step\n",
        "        Tstar = np.zeros((K,K))\n",
        "        for t in range(S-1):\n",
        "            Tstar += norm( T * np.outer( f[t,:], E[:,y[t+1]] * b[t+1,:] ) )\n",
        "        T = row_norm(Tstar + 1)\n",
        "\n",
        "        # E update with pseudocount\n",
        "        E_star = np.dot(gamma.T, Y)\n",
        "        E = row_norm(E_star + 1)\n",
        "\n",
        "    return (T, E)"
      ],
      "execution_count": null,
      "outputs": []
    },
    {
      "cell_type": "code",
      "metadata": {
        "id": "_dtLNGOcdqka",
        "colab": {
          "base_uri": "https://localhost:8080/"
        },
        "outputId": "64c60d0c-aa01-4253-ca1c-cdd890106d6e"
      },
      "source": [
        "np.random.seed(2)\n",
        "\n",
        "T_mle, E_mle = baum_welch_with_pseudocount(y, gamma0_true)\n",
        "\n",
        "assert( abs(E_mle[0,0] - 0.298322068734388) < 1e-10 )\n",
        "\n",
        "print(\"True T:\\n\", T_true)\n",
        "print(\"Infered T:\\n\", T_mle)\n",
        "print(\"Mean absolute error in T: %.3f\" % np.mean(np.abs(T_true - T_mle)))\n",
        "\n",
        "print(\"True E:\\n\", E_true)\n",
        "print(\"Infered E:\\n\", E_mle )\n",
        "print(\"Mean absolute error in E: %.3f\" % np.mean(np.abs(E_true - E_mle)))"
      ],
      "execution_count": null,
      "outputs": [
        {
          "output_type": "stream",
          "name": "stdout",
          "text": [
            "True T:\n",
            " [[0.8 0.2]\n",
            " [0.1 0.9]]\n",
            "Infered T:\n",
            " [[0.76 0.24]\n",
            " [0.11 0.89]]\n",
            "Mean absolute error in T: 0.026\n",
            "True E:\n",
            " [[0.4 0.4 0.1 0.1]\n",
            " [0.1 0.1 0.4 0.4]]\n",
            "Infered E:\n",
            " [[0.3  0.43 0.16 0.11]\n",
            " [0.19 0.07 0.41 0.33]]\n",
            "Mean absolute error in E: 0.050\n"
          ]
        }
      ]
    },
    {
      "cell_type": "markdown",
      "metadata": {
        "id": "mCxVsqEwdqkc"
      },
      "source": [
        "Make sure the assertion passes! These estimates are a lot closer to the ground truth than without the pseudocounts. That will result in a better recovery of x too: "
      ]
    },
    {
      "cell_type": "code",
      "metadata": {
        "id": "kC-Yq9ZHdqkc",
        "colab": {
          "base_uri": "https://localhost:8080/",
          "height": 282
        },
        "outputId": "3567c55a-f7f1-49a4-d933-b52c9663d26c"
      },
      "source": [
        "# compare posterior X over true X\n",
        "\n",
        "gamma, f, b = forwards_backwards(y, gamma0_true, T_mle, E_mle) \n",
        "plt.figure(figsize=(14,4))\n",
        "plt.plot(gamma[:,1], \"-o\") # P(X[t] = 1 | Y[0:t])\n",
        "plt.plot(x, \"o\")"
      ],
      "execution_count": null,
      "outputs": [
        {
          "output_type": "execute_result",
          "data": {
            "text/plain": [
              "[<matplotlib.lines.Line2D at 0x7f1402133d50>]"
            ]
          },
          "metadata": {},
          "execution_count": 16
        },
        {
          "output_type": "display_data",
          "data": {
            "text/plain": [
              "<Figure size 1008x288 with 1 Axes>"
            ],
            "image/png": "[encoded data removed]"
          },
          "metadata": {
            "needs_background": "light"
          }
        }
      ]
    },
    {
      "cell_type": "code",
      "metadata": {
        "id": "Vnuf_43cdqkg",
        "colab": {
          "base_uri": "https://localhost:8080/"
        },
        "outputId": "1ca29631-c8b7-40d4-9fe4-de375627c857"
      },
      "source": [
        "np.mean((gamma[:,1] > .5) == (x==1))"
      ],
      "execution_count": null,
      "outputs": [
        {
          "output_type": "execute_result",
          "data": {
            "text/plain": [
              "0.85"
            ]
          },
          "metadata": {},
          "execution_count": 17
        }
      ]
    },
    {
      "cell_type": "markdown",
      "metadata": {
        "id": "mnh2vk1Hdqke"
      },
      "source": [
        "Posterior tends towards the correct hidden state 85% of the time, an increase in accuracy from 69%"
      ]
    },
    {
      "cell_type": "markdown",
      "metadata": {
        "id": "i8mDY0Xvdqkl"
      },
      "source": [
        "# Real data: single cell bisulphite sequencing\n",
        "\n",
        "Data is of the single cell Bisulphite sequencing (\"scBS-seq\") data from the DeepCpG paper.  "
      ]
    },
    {
      "cell_type": "code",
      "metadata": {
        "id": "Ui2KnfbIYX4W",
        "colab": {
          "base_uri": "https://localhost:8080/"
        },
        "outputId": "6d30c2e6-41a6-4092-90d5-cbf355f7d962"
      },
      "source": [
        "from google.colab import drive\n",
        "drive.mount('/content/drive')"
      ],
      "execution_count": null,
      "outputs": [
        {
          "output_type": "stream",
          "name": "stdout",
          "text": [
            "Mounted at /content/drive\n"
          ]
        }
      ]
    },
    {
      "cell_type": "code",
      "metadata": {
        "id": "RfA3xOtAczdt",
        "colab": {
          "base_uri": "https://localhost:8080/"
        },
        "outputId": "23c95c7b-f2fe-4162-f56e-47f3689139e2"
      },
      "source": [
        "import numpy as np \n",
        "\n",
        "scBSseq = np.load(\"/content/drive/MyDrive/Junior Year/Spring/ML4FG/A3/scBSseq.npz\")\n",
        "\n",
        "meth_mat = scBSseq[\"meth_mat\"] # positions x cells matrix of counts of methylated CpGs\n",
        "unmeth_mat = scBSseq[\"unmeth_mat\"] # positions x cells matrix of counts of unmethylated CpGs (i.e. C got converted to T)\n",
        "positions = scBSseq[\"positions\"] # genomic position of each CpG\n",
        "chroms = scBSseq[\"chroms\"] # chromomsome of each CpG\n",
        "cell_names = scBSseq[\"cell_names\"] # cell type and an arbitrary ID\n",
        "cell_names"
      ],
      "execution_count": null,
      "outputs": [
        {
          "output_type": "execute_result",
          "data": {
            "text/plain": [
              "array(['2i_1', '2i_10', '2i_11', '2i_12', '2i_2', '2i_3', '2i_4', '2i_5',\n",
              "       '2i_6', '2i_7', '2i_8', '2i_9', 'MII_1', 'MII_10', 'MII_11',\n",
              "       'MII_12', 'MII_2', 'MII_3', 'MII_4', 'MII_5', 'MII_6', 'MII_7',\n",
              "       'MII_8', 'MII_9', 'Ser1', 'Ser10', 'Ser11', 'Ser12', 'Ser13',\n",
              "       'Ser14', 'Ser15', 'Ser16', 'Ser17', 'Ser18', 'Ser19', 'Ser2',\n",
              "       'Ser20', 'Ser3', 'Ser4', 'Ser5', 'Ser6', 'Ser7', 'Ser8', 'Ser9'],\n",
              "      dtype='<U6')"
            ]
          },
          "metadata": {},
          "execution_count": 19
        }
      ]
    },
    {
      "cell_type": "markdown",
      "metadata": {
        "id": "tOjoB9b1dqkq"
      },
      "source": [
        "## Exploratory data analysis\n",
        "\n",
        "Explore to see how sparse the data is"
      ]
    },
    {
      "cell_type": "code",
      "metadata": {
        "id": "Cla1xBIjdqkr",
        "colab": {
          "base_uri": "https://localhost:8080/",
          "height": 293
        },
        "outputId": "4f4f9c1f-7a38-4971-99ec-c01ae664296e"
      },
      "source": [
        "import matplotlib.pyplot as plt\n",
        "\n",
        "total_counts = meth_mat + unmeth_mat\n",
        "ncells_with_reads = (total_counts > 0).sum(1)\n",
        "plt.hist(ncells_with_reads, np.arange(-.5,30.5) )\n",
        "np.mean(total_counts > 0)"
      ],
      "execution_count": null,
      "outputs": [
        {
          "output_type": "execute_result",
          "data": {
            "text/plain": [
              "0.2968330165185542"
            ]
          },
          "metadata": {},
          "execution_count": 20
        },
        {
          "output_type": "display_data",
          "data": {
            "text/plain": [
              "<Figure size 432x288 with 1 Axes>"
            ],
            "image/png": "[encoded data removed]"
          },
          "metadata": {
            "needs_background": "light"
          }
        }
      ]
    },
    {
      "cell_type": "markdown",
      "metadata": {
        "id": "JpIjEafodqkt"
      },
      "source": [
        "About 30% of entries have data"
      ]
    },
    {
      "cell_type": "code",
      "metadata": {
        "id": "jiEIQV_Edqku",
        "colab": {
          "base_uri": "https://localhost:8080/",
          "height": 296
        },
        "outputId": "e07b4201-7ca4-4be0-ff64-a381d34ee477"
      },
      "source": [
        "# apply PCA for eda\n",
        "\n",
        "# adding psuedocount bc there is so much missing data\n",
        "# w psuedocount we're only looking at CpGs that have data for at least 25 cells\n",
        "pseudocount = 0.25\n",
        "meth_level = ( meth_mat + pseudocount) / (total_counts + 2 * pseudocount)\n",
        "meth_level = meth_level[ncells_with_reads >= 25,:] # only consider CpG positions with reads in 25 (out of 44) cells\n",
        "\n",
        "meth_level_centered = meth_level - meth_level.mean(1, keepdims=True) # remove the per position mean\n",
        "\n",
        "# u,s,vh = np.linalg.svd(meth_level_centered, full_matrices=True) \n",
        "# use SVD to do PCA\n",
        "import torch\n",
        "torch.manual_seed(0)\n",
        "usvh = torch.pca_lowrank( torch.tensor(meth_level_centered).to(\"cuda\"), q=44, center=False, niter=10)\n",
        "u,s,vh = [ g.cpu().numpy() for g in usvh ]\n",
        "vh = vh.transpose()\n",
        "\n",
        "plt.plot(100 * s**2 / np.sum(s**2), \"o-\")\n",
        "plt.ylabel(\"Percent variance explained\")\n",
        "plt.xlabel(\"PC\")"
      ],
      "execution_count": null,
      "outputs": [
        {
          "output_type": "execute_result",
          "data": {
            "text/plain": [
              "Text(0.5, 0, 'PC')"
            ]
          },
          "metadata": {},
          "execution_count": 21
        },
        {
          "output_type": "display_data",
          "data": {
            "text/plain": [
              "<Figure size 432x288 with 1 Axes>"
            ],
            "image/png": "[encoded data removed]"
          },
          "metadata": {
            "needs_background": "light"
          }
        }
      ]
    },
    {
      "cell_type": "markdown",
      "metadata": {
        "id": "BokTU6SxDtXr"
      },
      "source": [
        "Graph depicts that most of the variation is captured by the first two PCs"
      ]
    },
    {
      "cell_type": "code",
      "metadata": {
        "colab": {
          "base_uri": "https://localhost:8080/"
        },
        "id": "NNk4x-67Ox-7",
        "outputId": "33ff72c5-8aa5-48c5-fca2-a3e0b2f3d28d"
      },
      "source": [
        "vh.shape"
      ],
      "execution_count": null,
      "outputs": [
        {
          "output_type": "execute_result",
          "data": {
            "text/plain": [
              "(44, 44)"
            ]
          },
          "metadata": {},
          "execution_count": 22
        }
      ]
    },
    {
      "cell_type": "code",
      "metadata": {
        "id": "Kv2WLRlChUC1",
        "colab": {
          "base_uri": "https://localhost:8080/",
          "height": 444
        },
        "outputId": "290a1138-dce6-486d-fb7b-ac62fca54e87"
      },
      "source": [
        "# plot the first two PCs\n",
        "\n",
        "import seaborn as sns\n",
        "import pandas as pd\n",
        "\n",
        "df = pd.DataFrame(\n",
        "    { \"pc1\" : vh[0,:],\n",
        "      \"pc2\" : vh[1,:],\n",
        "      \"cell_type\" : [ cn[:2] for cn in cell_names ] } )\n",
        "\n",
        "_ = sns.pairplot(x_vars = [\"pc1\"], y_vars = [\"pc2\"], hue = \"cell_type\", data = df, height=6 )"
      ],
      "execution_count": null,
      "outputs": [
        {
          "output_type": "display_data",
          "data": {
            "text/plain": [
              "<Figure size 484.5x432 with 1 Axes>"
            ],
            "image/png": "[encoded data removed]"
          },
          "metadata": {
            "needs_background": "light"
          }
        }
      ]
    },
    {
      "cell_type": "markdown",
      "source": [
        "Plot shows that cell type derives much of the variation in the data "
      ],
      "metadata": {
        "id": "lW3L2HLhEhSG"
      }
    },
    {
      "cell_type": "markdown",
      "metadata": {
        "id": "Ffxyn9oxEsJd"
      },
      "source": [
        "## Applying the HMM\n",
        "\n",
        "PCA can't handle missingness and also does not take into account the sequential nature of the data. Therefore it is better in this case to use HMMs especially since the data at each CpG position is a vector of methylated and unmethylated counts, which can be easily modeled using a binomial likelihood"
      ]
    },
    {
      "cell_type": "code",
      "metadata": {
        "id": "xzrLyW7ddqky"
      },
      "source": [
        "# change the forwards-backwards algorithm to be agnostic to the form of the likelihood\n",
        "\n",
        "def forwards_generic(gamma0, T, O):\n",
        "    '''\n",
        "Forward pass of forwards-backwards algorithm. \n",
        "\n",
        "Parameters\n",
        "----------\n",
        "gamma0\n",
        "    initial distribution as vector of size K\n",
        "T\n",
        "    transition matrix of size K x K\n",
        "O\n",
        "    likelihood terms for observations: P(Y_t | X_t = k) K x S\n",
        "\n",
        "Returns\n",
        "-------\n",
        "f\n",
        "    S x K matrix: forward \"messages\" f[t,k] = P(x[t]=k | y[0:t]=y[0:t]) for 0<=k<K and 0<=t<S\n",
        "  '''  \n",
        "    S = O.shape[1]\n",
        "    K = T.shape[0]\n",
        "\n",
        "    f = np.zeros((S, K))\n",
        "    \n",
        "    f_star = np.multiply(gamma0, O[:,0])\n",
        "    f[0,:] = norm(f_star)\n",
        "\n",
        "    for i in range(1,S):\n",
        "      r = np.dot(f[i-1,:], T)\n",
        "      f_star = np.multiply(r, O[:,i])\n",
        "      f[i,:] = norm(f_star)\n",
        "\n",
        "    return f\n",
        "\n",
        "def backwards_generic(T, O):\n",
        "    '''\n",
        "Backwards pass of forwards-backwards algorithm. \n",
        "\n",
        "Parameters\n",
        "----------\n",
        "gamma0\n",
        "    initial distribution as vector of size K\n",
        "T\n",
        "    transition matrix of size K x K\n",
        "O\n",
        "    likelihood terms for observations: P(Y_t | X_t = k) K x S\n",
        "\n",
        "Returns\n",
        "-------\n",
        "b\n",
        "    S x K matrix: Backward \"messages\" b[t,k] = [P(y[t+1:n] | X[t]=k) for 0<=k<K and 1<=t<S      \n",
        "  '''\n",
        "    S = O.shape[1]\n",
        "    K = T.shape[0]\n",
        "\n",
        "    b = np.ones((S, K))\n",
        "\n",
        "    for i in range(S-2, -1, -1):\n",
        "      b_star = np.dot( T, np.multiply(O[:,i+1], b[i+1,:]) )\n",
        "      b[i,:] = norm(b_star)\n",
        "    return b\n",
        "\n",
        "def forwards_backwards_generic(gamma0, T, O):\n",
        "    '''\n",
        "Forwards-backwards algorithm. \n",
        "\n",
        "Parameters\n",
        "----------\n",
        "gamma0\n",
        "    initial distribution as vector of size K\n",
        "T\n",
        "    transition matrix of size K x K\n",
        "O\n",
        "    likelihood terms for observations: P(Y_t | X_t = k) K x S\n",
        "\n",
        "Returns\n",
        "-------\n",
        "gamma\n",
        "    S x K matrix: posterior gamma[t,k] = P(X[t]=k | y[0:S])\n",
        "f\n",
        "    S x K matrix: forward \"messages\" f[t,k] = P(x[t]=k | y[0:t]=y[0:t]) for 0<=k<K and 0<=t<S\n",
        "b\n",
        "    S x K matrix: Backward \"messages\" b[t,k] = [P(y[t+1:n] | X[t]=k) for 0<=k<K and 1<=t<S      \n",
        "  '''\n",
        "    f = forwards_generic(gamma0, T, O) \n",
        "    b = backwards_generic(T, O)\n",
        "    gamma = row_norm( f * b ) \n",
        "    return gamma, f, b\n",
        "\n",
        "def forwards_backwards_check( y, gamma0, T, E ):\n",
        "    O = E[:,y] # calculate O from E and y\n",
        "    return forwards_backwards_generic(gamma0, T, O)\n",
        "\n",
        "gamma, f, b = forwards_backwards( y, gamma0_true, T_true, E_true )\n",
        "gamma_check, f, b = forwards_backwards_check( y, gamma0_true, T_true, E_true )\n",
        "assert( abs(gamma[-1,1] - gamma_check[-1,1]) < 1e-10  )"
      ],
      "execution_count": null,
      "outputs": []
    },
    {
      "cell_type": "markdown",
      "metadata": {
        "id": "anPGJt95t-5d"
      },
      "source": [
        "## Binomial HMM\n",
        "\n",
        "To make a version of forward-backwards for our binomial vectors. We want \n",
        "$$ O_{kt} = P(Y_t | X_t = k) = \\prod_{n=1}^N P(Y_{tn} | X_t = k) $$ \n",
        "\n",
        "The binomial likelihood for an individual cell is \n",
        "$$ P(Y_{tn} | X_t = k) = Bin( M_{tn} | M_{tn} + U_{tn}, E_{k n} ) = E_{k n}^{M_{tn}} (1-E_{k n})^{U_{tn}} $$\n",
        "where $M_{tn}$ and $U_{tn}$ are the methylated and unmethylated counts respectively and $E_{ij} = P(Y_{tj} = 1 | X_t = i )$ is a matrix of binomial probabilities \n",
        "\n",
        "<br>\n",
        "\n",
        "$\\log O_{kt}$ in terms of $E$, $M$ and $U$: \n",
        "$$\\log O_{kt} = \\sum_{n=1}^N M_{tn} \\log(E_{kn}) + U_{tn} \\log( 1 - E_{kn}) $$\n",
        "\n",
        "$$\\log O = \\log E \\cdot M^T + \\log(1 - E) \\cdot U^T $$\n"
      ]
    },
    {
      "cell_type": "code",
      "metadata": {
        "id": "xwD5G_Y9uP0O"
      },
      "source": [
        "def forwards_backwards_binomial( meth_mat, unmeth_mat, gamma0, T, E ):\n",
        "    #calculate logO\n",
        "    logO = np.dot(np.log(E), meth_mat.T) + np.dot(np.log1p(1-E-1), unmeth_mat.T)\n",
        "    logO -= logO.max(0,keepdims=True) # more numerically stable\n",
        "    O = np.exp(logO)\n",
        "\n",
        "    # print(\"logO shape: \", logO.shape)\n",
        "    \n",
        "    gamma, f, b = forwards_backwards_generic(gamma0, T, O)\n",
        "    return gamma, f, b, O"
      ],
      "execution_count": null,
      "outputs": []
    },
    {
      "cell_type": "code",
      "metadata": {
        "id": "RuYmvhA9yQJW",
        "colab": {
          "base_uri": "https://localhost:8080/"
        },
        "outputId": "c8adddc0-5f44-4da5-df6a-1ecd2b1ecd1e"
      },
      "source": [
        "# use PCA to initialize E for HMM\n",
        "K = 10 # use top 10 PCs\n",
        "\n",
        "# rescale PCs to get valid probabilities\n",
        "E_init = vh[:K,:]\n",
        "E_init -= E_init.min(1, keepdims=True)\n",
        "E_init /= E_init.max(1, keepdims=True)\n",
        "E_init = 0.8 * E_init + 0.1\n",
        "\n",
        "# transition matrix\n",
        "T_init = row_norm(np.identity(K) + 1/K)\n",
        "\n",
        "# test forwards backwards\n",
        "\n",
        "S = 30000 # np.sum(chroms=='1') # just run on chromosome 1\n",
        "\n",
        "gamma0 = np.full(K,1/K)\n",
        "gamma, f, b, O = forwards_backwards_binomial( meth_mat[:S,:], unmeth_mat[:S,:], gamma0, T_init, E_init )\n",
        "\n",
        "print(\"E shape: \", E_init.shape)\n",
        "print(\"meth shape: \", meth_mat[:S,:].shape)\n",
        "print(\"gamma shape: \", gamma.shape)\n",
        "print(gamma[-1,4])\n",
        "\n",
        "assert( abs(gamma[-1,4] - 1.0168727093165696e-06) < 1e-10  )"
      ],
      "execution_count": null,
      "outputs": [
        {
          "output_type": "stream",
          "name": "stdout",
          "text": [
            "E shape:  (10, 44)\n",
            "meth shape:  (30000, 44)\n",
            "gamma shape:  (30000, 10)\n",
            "1.0168727093164815e-06\n"
          ]
        }
      ]
    },
    {
      "cell_type": "markdown",
      "metadata": {
        "id": "kETBTLf_EqCQ"
      },
      "source": [
        "## Baum-Welch for the binomial HMM\n",
        "\n",
        "Implement Baum-Welch to find parameters E and T for binomial HMM applied to the methylation data"
      ]
    },
    {
      "cell_type": "code",
      "metadata": {
        "id": "CbeWfzkqQg7-"
      },
      "source": [
        "def baum_welch_binomial(meth_mat, unmeth_mat, gamma0, E_init = None, T_init = None, tol=1e-4, maxIt = 100):\n",
        "    '''\n",
        "    Compute maximum likehood estimate using Expectation-Maximization\n",
        "\n",
        "    Parameters\n",
        "    ----------\n",
        "    meth_mat\n",
        "        S x L matrix of methylated counts\n",
        "    unmeth_mat\n",
        "        S x L matrix of unmethylated counts\n",
        "    gamma0\n",
        "        initial distribution of the hidden chain\n",
        "    E_init\n",
        "        Optional initialization of emission matrix E. \n",
        "    T_init\n",
        "        Optional initialization of transition matrix T. \n",
        "    tol\n",
        "        tolerance for the stopping criterion\n",
        "    maxIt\n",
        "        maximal number of iterations\n",
        "\n",
        "    Returns\n",
        "    -------\n",
        "    T\n",
        "        K x K estimate of the transition matrix T[i,j] = P(X[t]=j | X[t-1]=i)\n",
        "    E\n",
        "        K x L estimate of the emission matrix E[i,j], the binomial probability of methylation in cell j, given X[t]=i. \n",
        "  '''  \n",
        "    K = gamma0.size\n",
        "    L = meth_mat.shape[1]\n",
        "    S = meth_mat.shape[0]\n",
        "    \n",
        "    # randomly initialize T, E\n",
        "    T = row_norm( np.random.rand(K, K).astype(np.float32) ) if (T_init is None) else T_init\n",
        "    E = 0.1 + 0.8 * np.random.rand(K,L) if (E_init is None) else E_init # don't put values too close to 0 or 1\n",
        "\n",
        "    it = 0\n",
        "\n",
        "    param_change = np.inf\n",
        "    \n",
        "    while (param_change > tol) and (it<maxIt):\n",
        "        it += 1\n",
        "        print(\"Iteration: %i Param change: %.3g\" % (it, param_change))\n",
        "        oldT = T.copy()\n",
        "        oldE = E.copy()\n",
        "\n",
        "        # E-step\n",
        "        gamma, f, b, O = forwards_backwards_binomial(meth_mat, unmeth_mat, gamma0, T, E )\n",
        "        assert(not np.any(np.isnan(gamma)))\n",
        "\n",
        "        # M-step \n",
        "        Tstar = np.zeros((K,K))\n",
        "        for t in range(S-1):\n",
        "            Tstar += norm( T * np.outer( f[t,:], O[:,t+1] * b[t+1,:] ) )\n",
        "        T = row_norm(Tstar)\n",
        "\n",
        "        # M-step update for E\n",
        "        E = np.divide(gamma.T @ meth_mat + 1, gamma.T @ (meth_mat + unmeth_mat) + 2 )\n",
        "\n",
        "        assert(not np.any(np.isnan(E)))\n",
        "        \n",
        "        param_change = max( np.abs(oldT-T).max() , np.abs(oldE-E).max() )\n",
        "\n",
        "    return (T, E, gamma)"
      ],
      "execution_count": null,
      "outputs": []
    },
    {
      "cell_type": "code",
      "metadata": {
        "id": "3RypCsWsdqk1",
        "colab": {
          "base_uri": "https://localhost:8080/"
        },
        "outputId": "204bfa55-b51b-4bfd-f93e-6b99249829fa"
      },
      "source": [
        "# test on first 30k positions\n",
        "# can't test estimates of T and E against ground truth so instead approach is to hold out counts for entries and try to imipute them\n",
        "\n",
        "test_meth = meth_mat[:S, :]\n",
        "test_unmeth = unmeth_mat[:S, :]\n",
        "test_total = test_meth + test_unmeth\n",
        "to_mask = test_total >= 2 \n",
        "print(to_mask.mean())\n",
        "test_meth_masked = test_meth.copy() \n",
        "test_meth_masked[to_mask] = 0\n",
        "test_unmeth_masked = test_unmeth.copy() \n",
        "test_unmeth_masked[to_mask] = 0\n",
        "\n",
        "print(E_init.shape)\n",
        "\n",
        "T,E,gamma = baum_welch_binomial( test_meth_masked, test_unmeth_masked, gamma0, E_init = E_init, T_init = T_init, tol = 0.01 )"
      ],
      "execution_count": null,
      "outputs": [
        {
          "output_type": "stream",
          "name": "stdout",
          "text": [
            "0.13284242424242423\n",
            "(10, 44)\n",
            "Iteration: 1 Param change: inf\n",
            "Iteration: 2 Param change: 0.763\n",
            "Iteration: 3 Param change: 0.256\n",
            "Iteration: 4 Param change: 0.177\n",
            "Iteration: 5 Param change: 0.299\n",
            "Iteration: 6 Param change: 0.184\n",
            "Iteration: 7 Param change: 0.0812\n",
            "Iteration: 8 Param change: 0.0568\n",
            "Iteration: 9 Param change: 0.0465\n",
            "Iteration: 10 Param change: 0.0543\n",
            "Iteration: 11 Param change: 0.0539\n",
            "Iteration: 12 Param change: 0.0459\n",
            "Iteration: 13 Param change: 0.0348\n",
            "Iteration: 14 Param change: 0.0246\n",
            "Iteration: 15 Param change: 0.0198\n",
            "Iteration: 16 Param change: 0.0223\n",
            "Iteration: 17 Param change: 0.0253\n",
            "Iteration: 18 Param change: 0.0289\n",
            "Iteration: 19 Param change: 0.0334\n",
            "Iteration: 20 Param change: 0.0377\n",
            "Iteration: 21 Param change: 0.0392\n",
            "Iteration: 22 Param change: 0.0364\n",
            "Iteration: 23 Param change: 0.0314\n",
            "Iteration: 24 Param change: 0.0266\n",
            "Iteration: 25 Param change: 0.0217\n",
            "Iteration: 26 Param change: 0.0177\n",
            "Iteration: 27 Param change: 0.0149\n",
            "Iteration: 28 Param change: 0.0141\n",
            "Iteration: 29 Param change: 0.0142\n",
            "Iteration: 30 Param change: 0.0138\n",
            "Iteration: 31 Param change: 0.0141\n",
            "Iteration: 32 Param change: 0.0156\n",
            "Iteration: 33 Param change: 0.0181\n",
            "Iteration: 34 Param change: 0.0211\n",
            "Iteration: 35 Param change: 0.0224\n",
            "Iteration: 36 Param change: 0.0217\n",
            "Iteration: 37 Param change: 0.0198\n",
            "Iteration: 38 Param change: 0.0179\n",
            "Iteration: 39 Param change: 0.0164\n",
            "Iteration: 40 Param change: 0.0167\n",
            "Iteration: 41 Param change: 0.0171\n",
            "Iteration: 42 Param change: 0.0173\n",
            "Iteration: 43 Param change: 0.0175\n",
            "Iteration: 44 Param change: 0.0175\n",
            "Iteration: 45 Param change: 0.0169\n",
            "Iteration: 46 Param change: 0.0155\n",
            "Iteration: 47 Param change: 0.0136\n",
            "Iteration: 48 Param change: 0.0118\n",
            "Iteration: 49 Param change: 0.0108\n"
          ]
        }
      ]
    },
    {
      "cell_type": "code",
      "metadata": {
        "id": "lfNP0vWNdqk3",
        "colab": {
          "base_uri": "https://localhost:8080/",
          "height": 283
        },
        "outputId": "a0279ff2-2e18-425e-ee17-f23f19d313bc"
      },
      "source": [
        "# learnt transition matrix T\n",
        "# shows HMM mostly stays in the same state\n",
        "\n",
        "plt.imshow(T,vmin=0, vmax=1)\n",
        "plt.colorbar()\n",
        "plt.ylabel(\"Hidden state\")\n",
        "plt.xlabel(\"x[t+1]\")\n",
        "_ = plt.ylabel(\"x[t]\")"
      ],
      "execution_count": null,
      "outputs": [
        {
          "output_type": "display_data",
          "data": {
            "text/plain": [
              "<Figure size 432x288 with 2 Axes>"
            ],
            "image/png": "[encoded data removed]"
          },
          "metadata": {
            "needs_background": "light"
          }
        }
      ]
    },
    {
      "cell_type": "markdown",
      "metadata": {
        "id": "Y5pIK_ETdqk5"
      },
      "source": [
        "Mostly here the HMM stays in the same state, but various other transitions  have substantial mass too. \n",
        "\n",
        "We can also look at the emission matrix, which shows clear patterns of states that correspond to methylation shared across cells of a specific type. "
      ]
    },
    {
      "cell_type": "code",
      "metadata": {
        "id": "cR3b-YLAdqk5",
        "colab": {
          "base_uri": "https://localhost:8080/",
          "height": 476
        },
        "outputId": "8e48b6d5-d513-4c7c-c5f3-a6fdb7aeb9e3"
      },
      "source": [
        "# emission matrix\n",
        "# shows patterns of states corresponding to methylation being the same across cells of specific types\n",
        "\n",
        "plt.figure(figsize=(18,8))\n",
        "plt.imshow(E, vmin=0, vmax=1)\n",
        "_ = plt.xticks(np.arange(len(cell_names)), cell_names, rotation=\"vertical\")\n",
        "plt.colorbar()\n",
        "plt.xlabel(\"Cell name\")\n",
        "_ = plt.ylabel(\"Hidden state\")"
      ],
      "execution_count": null,
      "outputs": [
        {
          "output_type": "display_data",
          "data": {
            "text/plain": [
              "<Figure size 1296x576 with 2 Axes>"
            ],
            "image/png": "[encoded data removed]"
          },
          "metadata": {
            "needs_background": "light"
          }
        }
      ]
    },
    {
      "cell_type": "code",
      "metadata": {
        "id": "HfIagD_4dqlA",
        "colab": {
          "base_uri": "https://localhost:8080/"
        },
        "outputId": "9af888d8-a924-4ebb-bbb3-ba35cd2464f3"
      },
      "source": [
        "# calculate probability of correct prediction\n",
        "\n",
        "Z = gamma @ E\n",
        "Y_obs = test_meth / test_total\n",
        "correct_pred = (Y_obs[to_mask]>.5) == (Z[to_mask]>.5)\n",
        "correct_pred.mean()"
      ],
      "execution_count": null,
      "outputs": [
        {
          "output_type": "stream",
          "name": "stderr",
          "text": [
            "/usr/local/lib/python3.7/dist-packages/ipykernel_launcher.py:3: RuntimeWarning: invalid value encountered in true_divide\n",
            "  This is separate from the ipykernel package so we can avoid doing imports until\n"
          ]
        },
        {
          "output_type": "execute_result",
          "data": {
            "text/plain": [
              "0.878427391760573"
            ]
          },
          "metadata": {},
          "execution_count": 33
        }
      ]
    },
    {
      "cell_type": "code",
      "metadata": {
        "id": "cF6qrAovE9WE",
        "colab": {
          "base_uri": "https://localhost:8080/",
          "height": 550
        },
        "outputId": "0df91169-3dbe-4ab9-9e48-a4b848884197"
      },
      "source": [
        "# visualize predictions\n",
        "\n",
        "(cpg_start,cpg_end) = (10232143, 10233428)\n",
        "\n",
        "window = 20000\n",
        "\n",
        "in_cpg = np.logical_and( chroms == \"1\" , np.logical_and( cpg_start - window < positions , positions < cpg_end + window ))\n",
        "\n",
        "meth_mat[in_cpg,:]\n",
        "unmeth_mat[in_cpg,:]\n",
        "\n",
        "y = meth_mat[in_cpg,:] / ( unmeth_mat[in_cpg,:] + meth_mat[in_cpg,:] )\n",
        "\n",
        "plt.figure(figsize=(16,8))\n",
        "_ = plt.plot( positions[in_cpg], y[:,:12], \"o\")\n",
        "_ = plt.plot( positions[in_cpg], Z[in_cpg[:S],:12], \"-\")"
      ],
      "execution_count": null,
      "outputs": [
        {
          "output_type": "stream",
          "name": "stderr",
          "text": [
            "/usr/local/lib/python3.7/dist-packages/ipykernel_launcher.py:10: RuntimeWarning: invalid value encountered in true_divide\n",
            "  # Remove the CWD from sys.path while we load stuff.\n"
          ]
        },
        {
          "output_type": "display_data",
          "data": {
            "text/plain": [
              "<Figure size 1152x576 with 1 Axes>"
            ],
            "image/png": "[encoded data removed]"
          },
          "metadata": {
            "needs_background": "light"
          }
        }
      ]
    },
    {
      "cell_type": "code",
      "metadata": {
        "id": "zPRaDXqtNZUz",
        "colab": {
          "base_uri": "https://localhost:8080/"
        },
        "outputId": "6114dd98-b108-4470-9783-5e87a2c66e68"
      },
      "source": [
        "# observe impact of varying the hidden states and how it impacts imputation accuracy and run time\n",
        "\n",
        "from datetime import datetime\n",
        "\n",
        "k_list = []\n",
        "imp_acc = []\n",
        "run_time = []\n",
        "\n",
        "for K in range(1,11):\n",
        "  k_list.append(K)\n",
        "\n",
        "  E_init = vh[:K,:]\n",
        "  E_init -= E_init.min(1, keepdims=True)\n",
        "  E_init /= E_init.max(1, keepdims=True)\n",
        "  E_init = 0.8 * E_init + 0.1\n",
        "\n",
        "  T_init = row_norm(np.identity(K) + 1/K)\n",
        "\n",
        "  S = 30000 # np.sum(chroms=='1') # just run on chromosome 1\n",
        "\n",
        "  gamma0 = np.full(K,1/K)\n",
        "\n",
        "  test_meth = meth_mat[:S, :]\n",
        "  test_unmeth = unmeth_mat[:S, :]\n",
        "  test_total = test_meth + test_unmeth\n",
        "  to_mask = test_total >= 2 # often you would use a random set of entries\n",
        "  print(to_mask.mean()) # how many entries are we testing on? \n",
        "  test_meth_masked = test_meth.copy() \n",
        "  test_meth_masked[to_mask] = 0\n",
        "  test_unmeth_masked = test_unmeth.copy() \n",
        "  test_unmeth_masked[to_mask] = 0\n",
        "\n",
        "  print(E_init.shape)\n",
        "\n",
        "  start = datetime.now()\n",
        "  T,E,gamma = baum_welch_binomial( test_meth_masked, test_unmeth_masked, gamma0, E_init = E_init, T_init = T_init, tol = 0.01 )\n",
        "  run_time.append((datetime.now() - start).total_seconds())\n",
        "\n",
        "  # TODO: calculate Z as the expected Y given the posterior over X. Should be S x L\n",
        "  Z = gamma @ E\n",
        "  Y_obs = test_meth / test_total\n",
        "  correct_pred = (Y_obs[to_mask]>.5) == (Z[to_mask]>.5)\n",
        "  imp_acc.append( correct_pred.mean() )"
      ],
      "execution_count": null,
      "outputs": [
        {
          "output_type": "stream",
          "name": "stdout",
          "text": [
            "0.13284242424242423\n",
            "(1, 44)\n",
            "Iteration: 1 Param change: inf\n",
            "Iteration: 2 Param change: 0.375\n"
          ]
        },
        {
          "output_type": "stream",
          "name": "stderr",
          "text": [
            "/usr/local/lib/python3.7/dist-packages/ipykernel_launcher.py:39: RuntimeWarning: invalid value encountered in true_divide\n"
          ]
        },
        {
          "output_type": "stream",
          "name": "stdout",
          "text": [
            "0.13284242424242423\n",
            "(2, 44)\n",
            "Iteration: 1 Param change: inf\n",
            "Iteration: 2 Param change: 0.802\n",
            "Iteration: 3 Param change: 0.0875\n",
            "Iteration: 4 Param change: 0.0205\n",
            "0.13284242424242423\n",
            "(3, 44)\n",
            "Iteration: 1 Param change: inf\n",
            "Iteration: 2 Param change: 0.822\n",
            "Iteration: 3 Param change: 0.261\n",
            "Iteration: 4 Param change: 0.119\n",
            "Iteration: 5 Param change: 0.0815\n",
            "Iteration: 6 Param change: 0.0328\n",
            "Iteration: 7 Param change: 0.0137\n",
            "0.13284242424242423\n",
            "(4, 44)\n",
            "Iteration: 1 Param change: inf\n",
            "Iteration: 2 Param change: 0.729\n",
            "Iteration: 3 Param change: 0.23\n",
            "Iteration: 4 Param change: 0.125\n",
            "Iteration: 5 Param change: 0.0734\n",
            "Iteration: 6 Param change: 0.0531\n",
            "Iteration: 7 Param change: 0.0345\n",
            "Iteration: 8 Param change: 0.0242\n",
            "Iteration: 9 Param change: 0.0195\n",
            "Iteration: 10 Param change: 0.0177\n",
            "Iteration: 11 Param change: 0.0171\n",
            "Iteration: 12 Param change: 0.0165\n",
            "Iteration: 13 Param change: 0.0159\n",
            "Iteration: 14 Param change: 0.0157\n",
            "Iteration: 15 Param change: 0.0156\n",
            "Iteration: 16 Param change: 0.0154\n",
            "Iteration: 17 Param change: 0.0156\n",
            "Iteration: 18 Param change: 0.0158\n",
            "Iteration: 19 Param change: 0.0158\n",
            "Iteration: 20 Param change: 0.0154\n",
            "Iteration: 21 Param change: 0.0151\n",
            "Iteration: 22 Param change: 0.0157\n",
            "Iteration: 23 Param change: 0.0171\n",
            "Iteration: 24 Param change: 0.0195\n",
            "Iteration: 25 Param change: 0.0226\n",
            "Iteration: 26 Param change: 0.0257\n",
            "Iteration: 27 Param change: 0.0274\n",
            "Iteration: 28 Param change: 0.0273\n",
            "Iteration: 29 Param change: 0.026\n",
            "Iteration: 30 Param change: 0.0239\n",
            "Iteration: 31 Param change: 0.0212\n",
            "Iteration: 32 Param change: 0.0181\n",
            "Iteration: 33 Param change: 0.015\n",
            "Iteration: 34 Param change: 0.0137\n",
            "Iteration: 35 Param change: 0.0126\n",
            "Iteration: 36 Param change: 0.0117\n",
            "Iteration: 37 Param change: 0.0107\n",
            "0.13284242424242423\n",
            "(5, 44)\n",
            "Iteration: 1 Param change: inf\n",
            "Iteration: 2 Param change: 0.781\n",
            "Iteration: 3 Param change: 0.235\n",
            "Iteration: 4 Param change: 0.236\n",
            "Iteration: 5 Param change: 0.184\n",
            "Iteration: 6 Param change: 0.092\n",
            "Iteration: 7 Param change: 0.0406\n",
            "Iteration: 8 Param change: 0.0249\n",
            "Iteration: 9 Param change: 0.0228\n",
            "Iteration: 10 Param change: 0.0177\n",
            "Iteration: 11 Param change: 0.0145\n",
            "Iteration: 12 Param change: 0.0128\n",
            "0.13284242424242423\n",
            "(6, 44)\n",
            "Iteration: 1 Param change: inf\n",
            "Iteration: 2 Param change: 0.791\n",
            "Iteration: 3 Param change: 0.226\n",
            "Iteration: 4 Param change: 0.221\n",
            "Iteration: 5 Param change: 0.203\n",
            "Iteration: 6 Param change: 0.107\n",
            "Iteration: 7 Param change: 0.0544\n",
            "Iteration: 8 Param change: 0.0332\n",
            "Iteration: 9 Param change: 0.027\n",
            "Iteration: 10 Param change: 0.0231\n",
            "Iteration: 11 Param change: 0.0193\n",
            "Iteration: 12 Param change: 0.0154\n",
            "Iteration: 13 Param change: 0.016\n",
            "Iteration: 14 Param change: 0.0172\n",
            "Iteration: 15 Param change: 0.0129\n",
            "0.13284242424242423\n",
            "(7, 44)\n",
            "Iteration: 1 Param change: inf\n",
            "Iteration: 2 Param change: 0.787\n",
            "Iteration: 3 Param change: 0.225\n",
            "Iteration: 4 Param change: 0.223\n",
            "Iteration: 5 Param change: 0.251\n",
            "Iteration: 6 Param change: 0.122\n",
            "Iteration: 7 Param change: 0.0626\n",
            "Iteration: 8 Param change: 0.0347\n",
            "Iteration: 9 Param change: 0.0337\n",
            "Iteration: 10 Param change: 0.0303\n",
            "Iteration: 11 Param change: 0.0255\n",
            "Iteration: 12 Param change: 0.0206\n",
            "Iteration: 13 Param change: 0.0163\n",
            "Iteration: 14 Param change: 0.0214\n",
            "Iteration: 15 Param change: 0.0251\n",
            "Iteration: 16 Param change: 0.0204\n",
            "Iteration: 17 Param change: 0.0317\n",
            "Iteration: 18 Param change: 0.0377\n",
            "Iteration: 19 Param change: 0.0203\n",
            "Iteration: 20 Param change: 0.0182\n",
            "Iteration: 21 Param change: 0.0167\n",
            "Iteration: 22 Param change: 0.0149\n",
            "Iteration: 23 Param change: 0.013\n",
            "Iteration: 24 Param change: 0.0111\n",
            "0.13284242424242423\n",
            "(8, 44)\n",
            "Iteration: 1 Param change: inf\n",
            "Iteration: 2 Param change: 0.75\n",
            "Iteration: 3 Param change: 0.276\n",
            "Iteration: 4 Param change: 0.155\n",
            "Iteration: 5 Param change: 0.248\n",
            "Iteration: 6 Param change: 0.194\n",
            "Iteration: 7 Param change: 0.0785\n",
            "Iteration: 8 Param change: 0.0493\n",
            "Iteration: 9 Param change: 0.0395\n",
            "Iteration: 10 Param change: 0.036\n",
            "Iteration: 11 Param change: 0.051\n",
            "Iteration: 12 Param change: 0.025\n",
            "Iteration: 13 Param change: 0.0245\n",
            "Iteration: 14 Param change: 0.0248\n",
            "Iteration: 15 Param change: 0.0284\n",
            "Iteration: 16 Param change: 0.0323\n",
            "Iteration: 17 Param change: 0.0365\n",
            "Iteration: 18 Param change: 0.0409\n",
            "Iteration: 19 Param change: 0.0442\n",
            "Iteration: 20 Param change: 0.042\n",
            "Iteration: 21 Param change: 0.0354\n",
            "Iteration: 22 Param change: 0.029\n",
            "Iteration: 23 Param change: 0.0227\n",
            "Iteration: 24 Param change: 0.0181\n",
            "Iteration: 25 Param change: 0.0155\n",
            "Iteration: 26 Param change: 0.0147\n",
            "Iteration: 27 Param change: 0.0141\n",
            "Iteration: 28 Param change: 0.0137\n",
            "Iteration: 29 Param change: 0.0135\n",
            "Iteration: 30 Param change: 0.0133\n",
            "Iteration: 31 Param change: 0.013\n",
            "Iteration: 32 Param change: 0.0128\n",
            "Iteration: 33 Param change: 0.0126\n",
            "Iteration: 34 Param change: 0.0125\n",
            "Iteration: 35 Param change: 0.0125\n",
            "Iteration: 36 Param change: 0.0124\n",
            "Iteration: 37 Param change: 0.0123\n",
            "Iteration: 38 Param change: 0.0121\n",
            "Iteration: 39 Param change: 0.0118\n",
            "Iteration: 40 Param change: 0.0115\n",
            "Iteration: 41 Param change: 0.0111\n",
            "Iteration: 42 Param change: 0.0106\n",
            "Iteration: 43 Param change: 0.0102\n",
            "0.13284242424242423\n",
            "(9, 44)\n",
            "Iteration: 1 Param change: inf\n",
            "Iteration: 2 Param change: 0.759\n",
            "Iteration: 3 Param change: 0.265\n",
            "Iteration: 4 Param change: 0.166\n",
            "Iteration: 5 Param change: 0.279\n",
            "Iteration: 6 Param change: 0.186\n",
            "Iteration: 7 Param change: 0.0835\n",
            "Iteration: 8 Param change: 0.0576\n",
            "Iteration: 9 Param change: 0.0447\n",
            "Iteration: 10 Param change: 0.0359\n",
            "Iteration: 11 Param change: 0.042\n",
            "Iteration: 12 Param change: 0.0305\n",
            "Iteration: 13 Param change: 0.0235\n",
            "Iteration: 14 Param change: 0.0261\n",
            "Iteration: 15 Param change: 0.0275\n",
            "Iteration: 16 Param change: 0.0275\n",
            "Iteration: 17 Param change: 0.0291\n",
            "Iteration: 18 Param change: 0.032\n",
            "Iteration: 19 Param change: 0.0363\n",
            "Iteration: 20 Param change: 0.0395\n",
            "Iteration: 21 Param change: 0.038\n",
            "Iteration: 22 Param change: 0.0318\n",
            "Iteration: 23 Param change: 0.0271\n",
            "Iteration: 24 Param change: 0.0227\n",
            "Iteration: 25 Param change: 0.0186\n",
            "Iteration: 26 Param change: 0.0156\n",
            "Iteration: 27 Param change: 0.0134\n",
            "Iteration: 28 Param change: 0.012\n",
            "Iteration: 29 Param change: 0.0108\n",
            "0.13284242424242423\n",
            "(10, 44)\n",
            "Iteration: 1 Param change: inf\n",
            "Iteration: 2 Param change: 0.763\n",
            "Iteration: 3 Param change: 0.256\n",
            "Iteration: 4 Param change: 0.177\n",
            "Iteration: 5 Param change: 0.299\n",
            "Iteration: 6 Param change: 0.184\n",
            "Iteration: 7 Param change: 0.0812\n",
            "Iteration: 8 Param change: 0.0568\n",
            "Iteration: 9 Param change: 0.0465\n",
            "Iteration: 10 Param change: 0.0543\n",
            "Iteration: 11 Param change: 0.0539\n",
            "Iteration: 12 Param change: 0.0459\n",
            "Iteration: 13 Param change: 0.0348\n",
            "Iteration: 14 Param change: 0.0246\n",
            "Iteration: 15 Param change: 0.0198\n",
            "Iteration: 16 Param change: 0.0223\n",
            "Iteration: 17 Param change: 0.0253\n",
            "Iteration: 18 Param change: 0.0289\n",
            "Iteration: 19 Param change: 0.0334\n",
            "Iteration: 20 Param change: 0.0377\n",
            "Iteration: 21 Param change: 0.0392\n",
            "Iteration: 22 Param change: 0.0364\n",
            "Iteration: 23 Param change: 0.0314\n",
            "Iteration: 24 Param change: 0.0266\n",
            "Iteration: 25 Param change: 0.0217\n",
            "Iteration: 26 Param change: 0.0177\n",
            "Iteration: 27 Param change: 0.0149\n",
            "Iteration: 28 Param change: 0.0141\n",
            "Iteration: 29 Param change: 0.0142\n",
            "Iteration: 30 Param change: 0.0138\n",
            "Iteration: 31 Param change: 0.0141\n",
            "Iteration: 32 Param change: 0.0156\n",
            "Iteration: 33 Param change: 0.0181\n",
            "Iteration: 34 Param change: 0.0211\n",
            "Iteration: 35 Param change: 0.0224\n",
            "Iteration: 36 Param change: 0.0217\n",
            "Iteration: 37 Param change: 0.0198\n",
            "Iteration: 38 Param change: 0.0179\n",
            "Iteration: 39 Param change: 0.0164\n",
            "Iteration: 40 Param change: 0.0167\n",
            "Iteration: 41 Param change: 0.0171\n",
            "Iteration: 42 Param change: 0.0173\n",
            "Iteration: 43 Param change: 0.0175\n",
            "Iteration: 44 Param change: 0.0175\n",
            "Iteration: 45 Param change: 0.0169\n",
            "Iteration: 46 Param change: 0.0155\n",
            "Iteration: 47 Param change: 0.0136\n",
            "Iteration: 48 Param change: 0.0118\n",
            "Iteration: 49 Param change: 0.0108\n"
          ]
        }
      ]
    },
    {
      "cell_type": "code",
      "source": [
        "import matplotlib.pyplot as plt\n",
        "\n",
        "plt.plot(k_list, imp_acc, label=\"imputed accuracy\")\n",
        "\n",
        "plt.xlabel(\"number of hidden states\")\n",
        "plt.ylabel(\"imputed accuracy\")\n",
        "plt.title(\"Hidden States vs Imputed Accuracy\")\n",
        "plt.show()\n"
      ],
      "metadata": {
        "id": "OiFjaumdcRHo",
        "colab": {
          "base_uri": "https://localhost:8080/",
          "height": 295
        },
        "outputId": "29bac2b0-0e99-4d29-ee06-13b9cdbf4332"
      },
      "execution_count": null,
      "outputs": [
        {
          "output_type": "display_data",
          "data": {
            "text/plain": [
              "<Figure size 432x288 with 1 Axes>"
            ],
            "image/png": "[encoded data removed]"
          },
          "metadata": {
            "needs_background": "light"
          }
        }
      ]
    },
    {
      "cell_type": "markdown",
      "source": [
        "Increasing the number of hidden states increases the imputed accuracy, but there's diminishing returns on how much increase there is from each additional hidden state"
      ],
      "metadata": {
        "id": "UqIRBD464FTX"
      }
    },
    {
      "cell_type": "code",
      "source": [
        "plt.plot(k_list, run_time, label=\"runtime\")\n",
        "\n",
        "plt.xlabel(\"number of hidden states\")\n",
        "plt.ylabel(\"runtime in seconds\")\n",
        "plt.title(\"Hidden States vs Runtime\")\n",
        "plt.show()\n"
      ],
      "metadata": {
        "colab": {
          "base_uri": "https://localhost:8080/",
          "height": 295
        },
        "id": "eZZUm_6xMIEm",
        "outputId": "82638bbd-bcbf-4513-99a9-de34d9b709dd"
      },
      "execution_count": null,
      "outputs": [
        {
          "output_type": "display_data",
          "data": {
            "text/plain": [
              "<Figure size 432x288 with 1 Axes>"
            ],
            "image/png": "[encoded data removed]"
          },
          "metadata": {
            "needs_background": "light"
          }
        }
      ]
    },
    {
      "cell_type": "markdown",
      "source": [
        "While increasing the number of hidden states does seem to increase the runtime, the function isn't entirely just increasing, which could be useful for getting better results with more hidden states without having to sacrifice runtime"
      ],
      "metadata": {
        "id": "dp9vQVe-4RfL"
      }
    },
    {
      "cell_type": "markdown",
      "metadata": {
        "id": "V_N8DSN4dqlE"
      },
      "source": [
        "# RNNs\n",
        "\n",
        "In deep learning RNNs are often used to handle sequential data. \n",
        "\n",
        "## Vanilla RNN"
      ]
    },
    {
      "cell_type": "code",
      "metadata": {
        "id": "sRlQ2odpdqlF"
      },
      "source": [
        "import torch.nn as nn\n",
        "import torch \n",
        "import torch.nn.functional as F\n",
        "\n",
        "class MyVanillaRNNCell(nn.Module): # individual computation unit for the RNN\n",
        "    \n",
        "    def __init__(self, input_size, hidden_size):\n",
        "        super(MyVanillaRNNCell, self).__init__()\n",
        "        self.input_size = input_size\n",
        "        self.hidden_size = hidden_size\n",
        "        self.linear = nn.Linear(input_size + hidden_size, hidden_size)\n",
        "        \n",
        "    def forward(self, x, h_in):\n",
        "        \"\"\"\n",
        "        Forward computation. \n",
        "        \n",
        "        Parameters\n",
        "        ----------\n",
        "        x : torch.tensor\n",
        "            [batch_size x input_size] input\n",
        "        h_in : torch.tensor\n",
        "            [batch_size x hidden_size] hidden state from previous time point\n",
        "            \n",
        "        Returns\n",
        "        -------\n",
        "        h_out : torch.tensor\n",
        "            [batch_size x hidden_size] new hidden state \n",
        "        \"\"\"\n",
        "        combined = torch.cat((x, h_in), 1) # concatenate in feature dimension\n",
        "        h_out = torch.tanh( self.linear(combined) )\n",
        "        return h_out\n",
        "\n"
      ],
      "execution_count": null,
      "outputs": []
    },
    {
      "cell_type": "code",
      "metadata": {
        "id": "hN2yFa2SdqlH"
      },
      "source": [
        "class MyRNNLayer(nn.Module):\n",
        "    \n",
        "    def __init__(self, rnn_cell):\n",
        "        super(MyRNNLayer, self).__init__()\n",
        "        self.rnn_cell = rnn_cell\n",
        "\n",
        "    @property\n",
        "    def hidden_size(self):\n",
        "        return self.rnn_cell.hidden_size\n",
        "\n",
        "    @property\n",
        "    def input_size(self):\n",
        "        return self.rnn_cell.input_size\n",
        "        \n",
        "    def forward(self, x): \n",
        "        (seq_len, batch_size, input_size) = x.shape\n",
        "        hidden = torch.zeros(batch_size, self.hidden_size, device = x.device) # could be an input to the function\n",
        "        output = torch.zeros(seq_len, batch_size, self.hidden_size, device = x.device)\n",
        "        for i in range(seq_len): # iterate over sequence\n",
        "            hidden = self.rnn_cell(x[i,:,:], hidden)\n",
        "            output[i,:,:] = hidden\n",
        "        return output"
      ],
      "execution_count": null,
      "outputs": []
    },
    {
      "cell_type": "code",
      "metadata": {
        "id": "XJiSAOFodqlJ",
        "colab": {
          "base_uri": "https://localhost:8080/",
          "height": 265
        },
        "outputId": "34b842d4-322a-4940-9249-bf06df479c78"
      },
      "source": [
        "# run rnn with random input\n",
        "input_size = 4\n",
        "hidden_size = 2\n",
        "rnn_cell = MyVanillaRNNCell(input_size, hidden_size)\n",
        "rnn = MyRNNLayer(rnn_cell)\n",
        "\n",
        "x = torch.randn(100, 1, input_size) # random input length 100, batch_size = 1\n",
        "hidden_state = rnn(x)\n",
        "\n",
        "_ = plt.plot(hidden_state.detach().numpy().squeeze())"
      ],
      "execution_count": null,
      "outputs": [
        {
          "output_type": "display_data",
          "data": {
            "text/plain": [
              "<Figure size 432x288 with 1 Axes>"
            ],
            "image/png": "[encoded data removed]"
          },
          "metadata": {
            "needs_background": "light"
          }
        }
      ]
    },
    {
      "cell_type": "markdown",
      "metadata": {
        "id": "Sp7LN4CidqlK"
      },
      "source": [
        "Vanilla RNN isn't very useful because of vanishing gradients\n",
        "\n",
        "Implement less vanilla RNN cell that has the following\n",
        "$$ f_t = \\sigma( W_f [ x_t , h_{t-1} ]^T + \\mu_f ) $$\n",
        "$$ g_t = \\tanh( W_g [ x_t , h_{t-1} ]^T + \\mu_g ) $$\n",
        "$$ h_t = f_t \\cdot h_{t-1} + (1 - f_t) \\cdot g_t $$"
      ]
    },
    {
      "cell_type": "code",
      "metadata": {
        "id": "9AscxWkrdqlM",
        "colab": {
          "base_uri": "https://localhost:8080/",
          "height": 265
        },
        "outputId": "5dc8a08d-5558-45fc-8a36-50acca0e0d4e"
      },
      "source": [
        "class MyLessVanillaRNNCell(nn.Module):\n",
        "    def __init__(self, input_size, hidden_size):\n",
        "        super(MyLessVanillaRNNCell, self).__init__()\n",
        "        self.input_size = input_size\n",
        "        self.hidden_size = hidden_size\n",
        "        self.linear = nn.Linear(input_size + hidden_size, hidden_size)\n",
        "        \n",
        "    def forward(self, x, h_in):\n",
        "        \"\"\"\n",
        "        Forward computation. \n",
        "        \n",
        "        Parameters\n",
        "        ----------\n",
        "        x : torch.tensor\n",
        "            [batch_size x input_size] input\n",
        "        h_in : torch.tensor\n",
        "            [batch_size x hidden_size] hidden state from previous time point\n",
        "            \n",
        "        Returns\n",
        "        -------\n",
        "        h_out : torch.tensor\n",
        "            [batch_size x hidden_size] new hidden state \n",
        "        \"\"\"\n",
        "        combined = torch.cat((x, h_in), 1) # concatenate in feature dimension\n",
        "        f = torch.sigmoid( self.linear(combined) )\n",
        "        g = torch.tanh( self.linear(combined) )\n",
        "        h_out = h_in * f + (1 - f) * g\n",
        "        return h_out\n",
        "\n",
        "rnn_cell = MyLessVanillaRNNCell(input_size, hidden_size)\n",
        "rnn = MyRNNLayer(rnn_cell)\n",
        "output = rnn(x)\n",
        "_ = plt.plot(output.detach().numpy().squeeze())"
      ],
      "execution_count": null,
      "outputs": [
        {
          "output_type": "display_data",
          "data": {
            "text/plain": [
              "<Figure size 432x288 with 1 Axes>"
            ],
            "image/png": "[encoded data removed]"
          },
          "metadata": {
            "needs_background": "light"
          }
        }
      ]
    },
    {
      "cell_type": "code",
      "metadata": {
        "id": "CeZqdvYXJAqE",
        "colab": {
          "base_uri": "https://localhost:8080/"
        },
        "outputId": "24e4c0a4-4f68-4973-c78d-8534a74f21d7"
      },
      "source": [
        "class BasicRNN(nn.Module):\n",
        "    \n",
        "    def __init__(self, rnn_layer, output_size):\n",
        "        super(BasicRNN, self).__init__()\n",
        "        self.rnn_layer = rnn_layer\n",
        "        self.linear = nn.Linear(rnn_layer.hidden_size, output_size)\n",
        "\n",
        "    def forward(self, x):\n",
        "        h = self.rnn_layer(x)\n",
        "        output = self.linear(h)\n",
        "        return output\n",
        "\n",
        "output_size = 3\n",
        "rnn_cell = MyLessVanillaRNNCell(input_size, hidden_size)\n",
        "rnn_layer = MyRNNLayer(rnn_cell)\n",
        "model = BasicRNN(rnn_layer, output_size)\n",
        "model(x).shape"
      ],
      "execution_count": null,
      "outputs": [
        {
          "output_type": "execute_result",
          "data": {
            "text/plain": [
              "torch.Size([100, 1, 3])"
            ]
          },
          "metadata": {},
          "execution_count": 42
        }
      ]
    },
    {
      "cell_type": "code",
      "metadata": {
        "id": "H9pfBYyJdqlT"
      },
      "source": [
        "class MethModel(nn.Module):\n",
        "    def __init__(self, rnn_layer, input_size = 2, output_size = 1):\n",
        "        super(MethModel, self).__init__()\n",
        "        self.hidden_size = rnn_layer.hidden_size\n",
        "        self.embed = nn.Linear(input_size, rnn_layer.input_size) # the embed layer runs independently on each pair of meth/unmeth counts\n",
        "        self.rnn_layer = rnn_layer\n",
        "        self.linear = nn.Linear(self.hidden_size, output_size)\n",
        "\n",
        "    def forward(self, meth, unmeth): # meth is seq x batch x cells\n",
        "        batch_size = meth.shape[1]\n",
        "        num_cells = meth.shape[2]\n",
        "        meth = meth.view(meth.shape[0], batch_size * num_cells)\n",
        "        unmeth = unmeth.view(unmeth.shape[0], batch_size * num_cells)\n",
        "\n",
        "        # RNN input will be methylated and unmethylated counts\n",
        "        x = torch.stack((meth,unmeth),2) # seq x (cells x batch) x channels(=meth and unmeth counts)\n",
        "        x = self.embed(x) # seq x cells(=batch) x channels\n",
        "        x = F.relu(x)\n",
        "\n",
        "        h = self.rnn_layer(x) \n",
        "        if isinstance(rnn_layer, nn.RNNBase): h = h[0] # torch RNN layers give h[0:t] and h[-1]\n",
        "        \n",
        "        output = self.linear(h)\n",
        "        output = output.view(output.shape[0], batch_size, num_cells, output.shape[-1])\n",
        "        output = output[:,:,:,0]\n",
        "        return output"
      ],
      "execution_count": null,
      "outputs": []
    },
    {
      "cell_type": "code",
      "metadata": {
        "id": "e60XryUQko-H"
      },
      "source": [
        "class CpgDataset(torch.utils.data.Dataset):\n",
        "\n",
        "    def __init__(self, meth_counts, unmeth_counts, seq_len = 1000):\n",
        "        super(CpgDataset, self).__init__()\n",
        "        self.meth_counts = meth_counts\n",
        "        self.unmeth_counts = unmeth_counts\n",
        "        self.seq_len = seq_len\n",
        "\n",
        "    def __getitem__(self, i): \n",
        "        return(self.meth_counts[i*self.seq_len:(i+1)*self.seq_len].astype(np.float32), \n",
        "               self.unmeth_counts[i*self.seq_len:(i+1)*self.seq_len].astype(np.float32))\n",
        "            \n",
        "    def __len__(self):\n",
        "        return self.meth_counts.shape[0] // self.seq_len"
      ],
      "execution_count": null,
      "outputs": []
    },
    {
      "cell_type": "code",
      "metadata": {
        "id": "AIAfpbJpsDGF"
      },
      "source": [
        "import timeit\n",
        "\n",
        "def run_one_epoch(train_flag, dataloader, model, optimizer, device=\"cuda\"):\n",
        "\n",
        "    torch.set_grad_enabled(train_flag)\n",
        "    model.train() if train_flag else model.eval()\n",
        "\n",
        "    losses = []\n",
        "    accuracies = []\n",
        "\n",
        "    for meth,unmeth in dataloader:\n",
        "        \n",
        "        # DataLoader's automatic batching makes batch x seq x cells tensors, \n",
        "        # For RNNs we want seq x batch x cells\n",
        "        meth = meth.transpose(0,1).contiguous() \n",
        "        unmeth = unmeth.transpose(0,1).contiguous()\n",
        "\n",
        "        (meth, unmeth) = ( meth.to(device), unmeth.to(device) ) # transfer data to GPU\n",
        "\n",
        "        # forward\n",
        "        logodds = model(meth, unmeth) # the output is seq x batch x cells\n",
        "\n",
        "        lo = logodds[:-1,:,:] # shift by one since we're doing one-step (i.e. one CpG) ahead prediction\n",
        "        prob_methylated = torch.sigmoid(lo)\n",
        "\n",
        "        # calculate binomial loss\n",
        "        loss = -torch.mean( meth[:-1,:,:] * prob_methylated.log() + unmeth[:-1,:,:] * (1 - prob_methylated.log() ))\n",
        "        losses.append(loss.detach().cpu().numpy())\n",
        "\n",
        "        if train_flag: \n",
        "            loss.backward() # back propagation\n",
        "            optimizer.step()\n",
        "            optimizer.zero_grad()\n",
        "\n",
        "        # calculate accuracy\n",
        "        meth_sum = meth[1:,:,:] + unmeth[1:,:,:]\n",
        "        meth_rate = meth[1:,:,:] / meth_sum\n",
        "        correct = ((meth_rate > .5) == (prob_methylated > .5))[meth_sum > 0]\n",
        "        accuracy = torch.mean( correct.float() )\n",
        "\n",
        "        accuracies.append(accuracy.detach().cpu().numpy())  \n",
        "\n",
        "    return( np.mean(losses), np.mean(accuracies) )\n",
        "\n",
        "def train_loop(model,\n",
        "               optimizer,\n",
        "               train_dataloader, \n",
        "               validation_dataloader,\n",
        "               check_point_filename = '/content/drive/My Drive/scBSseq/rnn_checkpoint.pt',\n",
        "               max_epochs = 100, \n",
        "               patience = 10,\n",
        "               device = \"cuda\"):\n",
        "\n",
        "    train_accs = []\n",
        "    val_accs = []\n",
        "    patience_counter = patience\n",
        "    best_val_loss = np.inf\n",
        "\n",
        "    for epoch in range(max_epochs):\n",
        "        start_time = timeit.default_timer()\n",
        "        train_loss, train_acc = run_one_epoch(True, train_dataloader, model, optimizer, device)\n",
        "        val_loss, val_acc = run_one_epoch(False, validation_dataloader, model, optimizer, device)\n",
        "        train_accs.append(train_acc)\n",
        "        val_accs.append(val_acc)\n",
        "\n",
        "        elapsed = float(timeit.default_timer() - start_time)\n",
        "        print(\"Epoch %i took %.2fs. Train loss: %.4f acc: %.4f. Val loss: %.4f acc: %.4f. Patience left: %i\" % \n",
        "            (epoch+1, elapsed, train_loss, train_acc, val_loss, val_acc, patience_counter ))\n",
        "        \n",
        "        if val_loss < best_val_loss: \n",
        "            torch.save(model.state_dict(), check_point_filename)\n",
        "            best_val_loss = val_loss\n",
        "            patience_counter = patience\n",
        "        else: \n",
        "            patience_counter -= 1\n",
        "            if patience_counter <= 0: \n",
        "                model.load_state_dict(torch.load(check_point_filename)) # recover the best model so far\n",
        "                break\n",
        "    \n",
        "    return(train_accs, val_accs)"
      ],
      "execution_count": null,
      "outputs": []
    },
    {
      "cell_type": "code",
      "source": [
        "import gc\n",
        "gc.collect()\n",
        "torch.cuda.empty_cache()"
      ],
      "metadata": {
        "id": "mYYWEZgpTQ6M"
      },
      "execution_count": null,
      "outputs": []
    },
    {
      "cell_type": "code",
      "metadata": {
        "id": "W0zTtQ8ldqlW",
        "colab": {
          "base_uri": "https://localhost:8080/"
        },
        "outputId": "b67ee25e-f01d-45d9-af32-53b05d369476"
      },
      "source": [
        "# train the methmodel\n",
        "\n",
        "batch_size = 100\n",
        "seq_len = 1000\n",
        "\n",
        "training_cpg = chroms == \"18\"\n",
        "train_dataset = CpgDataset(meth_mat[training_cpg,:], unmeth_mat[training_cpg,:], seq_len = seq_len)\n",
        "train_dataloader = torch.utils.data.DataLoader(train_dataset, \n",
        "                                               batch_size = batch_size, \n",
        "                                               num_workers = 0 )\n",
        "\n",
        "val_cpg = chroms == \"19\"\n",
        "val_dataset = CpgDataset(meth_mat[val_cpg,:], unmeth_mat[val_cpg,:], seq_len = seq_len)\n",
        "validation_dataloader = torch.utils.data.DataLoader(val_dataset, \n",
        "                                               batch_size = batch_size, \n",
        "                                               num_workers = 0)\n",
        "\n",
        "hidden_size = 32\n",
        "\n",
        "rnn_cell = MyLessVanillaRNNCell(input_size = hidden_size, hidden_size = hidden_size) \n",
        "rnn_layer = MyRNNLayer(rnn_cell)\n",
        "\n",
        "model = MethModel(rnn_layer)\n",
        "\n",
        "device = \"cuda\"\n",
        "model.to(device)\n",
        "\n",
        "optimizer = torch.optim.Adam(model.parameters(), amsgrad=True)\n",
        "\n",
        "train_accs, val_accs = train_loop(model,\n",
        "                                optimizer,\n",
        "                                train_dataloader, \n",
        "                                validation_dataloader,\n",
        "                                check_point_filename = 'rnn_checkpoint.pt',\n",
        "                                device = device,\n",
        "                                max_epochs = 30)\n",
        "\n",
        "test_cpg = chroms == \"17\"\n",
        "test_dataset = CpgDataset(meth_mat[test_cpg,:], unmeth_mat[test_cpg,:], seq_len = seq_len)\n",
        "test_dataloader = torch.utils.data.DataLoader(test_dataset, \n",
        "                                               batch_size = batch_size, \n",
        "                                               num_workers = 0)\n",
        "\n",
        "test_loss, test_acc = run_one_epoch(False, test_dataloader, model, optimizer, device)\n",
        "print(test_acc)"
      ],
      "execution_count": null,
      "outputs": [
        {
          "output_type": "stream",
          "name": "stdout",
          "text": [
            "Epoch 1 took 32.26s. Train loss: -0.5014 acc: 0.3864. Val loss: -0.5820 acc: 0.3995. Patience left: 10\n",
            "Epoch 2 took 31.75s. Train loss: -0.5149 acc: 0.4463. Val loss: -0.5982 acc: 0.5039. Patience left: 10\n",
            "Epoch 3 took 31.70s. Train loss: -0.5291 acc: 0.5467. Val loss: -0.6154 acc: 0.6340. Patience left: 10\n",
            "Epoch 4 took 31.73s. Train loss: -0.5443 acc: 0.6783. Val loss: -0.6341 acc: 0.8323. Patience left: 10\n",
            "Epoch 5 took 31.72s. Train loss: -0.5608 acc: 0.7935. Val loss: -0.6546 acc: 0.7672. Patience left: 10\n",
            "Epoch 6 took 31.76s. Train loss: -0.5789 acc: 0.7246. Val loss: -0.6773 acc: 0.7240. Patience left: 10\n",
            "Epoch 7 took 31.78s. Train loss: -0.5988 acc: 0.6858. Val loss: -0.7024 acc: 0.7044. Patience left: 10\n",
            "Epoch 8 took 31.75s. Train loss: -0.6208 acc: 0.6672. Val loss: -0.7300 acc: 0.6937. Patience left: 10\n",
            "Epoch 9 took 31.75s. Train loss: -0.6449 acc: 0.6573. Val loss: -0.7604 acc: 0.6878. Patience left: 10\n",
            "Epoch 10 took 31.78s. Train loss: -0.6712 acc: 0.6519. Val loss: -0.7933 acc: 0.6843. Patience left: 10\n",
            "Epoch 11 took 31.74s. Train loss: -0.6995 acc: 0.6488. Val loss: -0.8286 acc: 0.6824. Patience left: 10\n",
            "Epoch 12 took 31.72s. Train loss: -0.7294 acc: 0.6470. Val loss: -0.8655 acc: 0.6811. Patience left: 10\n",
            "Epoch 13 took 31.76s. Train loss: -0.7604 acc: 0.6458. Val loss: -0.9032 acc: 0.6803. Patience left: 10\n",
            "Epoch 14 took 31.78s. Train loss: -0.7917 acc: 0.6451. Val loss: -0.9409 acc: 0.6799. Patience left: 10\n",
            "Epoch 15 took 31.84s. Train loss: -0.8226 acc: 0.6447. Val loss: -0.9779 acc: 0.6798. Patience left: 10\n",
            "Epoch 16 took 31.79s. Train loss: -0.8529 acc: 0.6446. Val loss: -1.0139 acc: 0.6799. Patience left: 10\n",
            "Epoch 17 took 31.74s. Train loss: -0.8824 acc: 0.6448. Val loss: -1.0489 acc: 0.6804. Patience left: 10\n",
            "Epoch 18 took 31.72s. Train loss: -0.9113 acc: 0.6453. Val loss: -1.0832 acc: 0.6812. Patience left: 10\n",
            "Epoch 19 took 31.69s. Train loss: -0.9403 acc: 0.6461. Val loss: -1.1174 acc: 0.6824. Patience left: 10\n",
            "Epoch 20 took 31.73s. Train loss: -0.9697 acc: 0.6474. Val loss: -1.1519 acc: 0.6844. Patience left: 10\n",
            "Epoch 21 took 31.76s. Train loss: -1.0003 acc: 0.6495. Val loss: -1.1871 acc: 0.6872. Patience left: 10\n",
            "Epoch 22 took 31.74s. Train loss: -1.0322 acc: 0.6527. Val loss: -1.2231 acc: 0.6914. Patience left: 10\n",
            "Epoch 23 took 31.79s. Train loss: -1.0657 acc: 0.6573. Val loss: -1.2597 acc: 0.6973. Patience left: 10\n",
            "Epoch 24 took 31.77s. Train loss: -1.1003 acc: 0.6638. Val loss: -1.2963 acc: 0.7051. Patience left: 10\n",
            "Epoch 25 took 31.76s. Train loss: -1.1354 acc: 0.6724. Val loss: -1.3324 acc: 0.7144. Patience left: 10\n",
            "Epoch 26 took 31.75s. Train loss: -1.1701 acc: 0.6828. Val loss: -1.3682 acc: 0.7250. Patience left: 10\n",
            "Epoch 27 took 31.73s. Train loss: -1.2046 acc: 0.6944. Val loss: -1.4051 acc: 0.7353. Patience left: 10\n",
            "Epoch 28 took 31.73s. Train loss: -1.2397 acc: 0.7060. Val loss: -1.4444 acc: 0.7449. Patience left: 10\n",
            "Epoch 29 took 31.69s. Train loss: -1.2764 acc: 0.7168. Val loss: -1.4861 acc: 0.7540. Patience left: 10\n",
            "Epoch 30 took 31.70s. Train loss: -1.3148 acc: 0.7276. Val loss: -1.5290 acc: 0.7633. Patience left: 10\n",
            "0.7468341\n"
          ]
        }
      ]
    },
    {
      "cell_type": "code",
      "metadata": {
        "id": "Q84zOAN5agIU",
        "colab": {
          "base_uri": "https://localhost:8080/",
          "height": 296
        },
        "outputId": "c87f7e50-2fde-411c-fd12-78f5c2ffd935"
      },
      "source": [
        "plt.plot(train_accs,  \"--\", label=\"train\")\n",
        "plt.plot(val_accs, label=\"validation\")\n",
        "plt.axhline(test_acc)\n",
        "plt.legend()\n",
        "plt.xlabel(\"epoch\")\n",
        "plt.ylabel(\"accuracy\")"
      ],
      "execution_count": null,
      "outputs": [
        {
          "output_type": "execute_result",
          "data": {
            "text/plain": [
              "Text(0, 0.5, 'accuracy')"
            ]
          },
          "metadata": {},
          "execution_count": 48
        },
        {
          "output_type": "display_data",
          "data": {
            "text/plain": [
              "<Figure size 432x288 with 1 Axes>"
            ],
            "image/png": "[encoded data removed]"
          },
          "metadata": {
            "needs_background": "light"
          }
        }
      ]
    },
    {
      "cell_type": "markdown",
      "metadata": {
        "id": "pJMyrdfm5kgM"
      },
      "source": [
        "## Compare the LessVanillaRNN, VanillaRNN, GRU and LSTM"
      ]
    },
    {
      "cell_type": "code",
      "metadata": {
        "id": "iCGA3HMcBYBp"
      },
      "source": [
        "def run_model(layer):\n",
        "  model = MethModel(layer)\n",
        "\n",
        "  device = \"cuda\"\n",
        "  model.to(device)\n",
        "\n",
        "  optimizer = torch.optim.Adam(model.parameters(), amsgrad=True)\n",
        "\n",
        "  train_accs, val_accs = train_loop(model,\n",
        "                                  optimizer,\n",
        "                                  train_dataloader, \n",
        "                                  validation_dataloader,\n",
        "                                  check_point_filename = 'rnn_checkpoint.pt',\n",
        "                                  device = device,\n",
        "                                  max_epochs = 30)\n",
        "\n",
        "  test_cpg = chroms == \"17\"\n",
        "  test_dataset = CpgDataset(meth_mat[test_cpg,:], unmeth_mat[test_cpg,:], seq_len = seq_len)\n",
        "  test_dataloader = torch.utils.data.DataLoader(test_dataset, \n",
        "                                                batch_size = batch_size, \n",
        "                                                num_workers = 0)\n",
        "\n",
        "  test_loss, test_acc = run_one_epoch(False, test_dataloader, model, optimizer, device)\n",
        "  return (train_accs[-1], val_accs[-1], test_acc)\n",
        "  "
      ],
      "execution_count": null,
      "outputs": []
    },
    {
      "cell_type": "code",
      "source": [
        "lessvanillarnn_results = []\n",
        "rnn_results = []\n",
        "GRU_results = []\n",
        "LSTM_results = []"
      ],
      "metadata": {
        "id": "hbHPyv8M5y_p"
      },
      "execution_count": null,
      "outputs": []
    },
    {
      "cell_type": "code",
      "source": [
        "rnn_results = []\n",
        "GRU_results = []\n",
        "LSTM_results = []"
      ],
      "metadata": {
        "id": "__BiIogGwDRE"
      },
      "execution_count": null,
      "outputs": []
    },
    {
      "cell_type": "code",
      "source": [
        "for i in range(3):\n",
        "  rnn_cell = MyLessVanillaRNNCell(input_size = hidden_size, hidden_size = hidden_size) \n",
        "  rnn_layer = MyRNNLayer(rnn_cell)\n",
        "\n",
        "  lessvanillarnn_results.append( run_model(rnn_layer) )"
      ],
      "metadata": {
        "colab": {
          "base_uri": "https://localhost:8080/"
        },
        "id": "f9LcLDmc53p8",
        "outputId": "573d66a7-e7e2-4991-91d3-cff3752af699"
      },
      "execution_count": null,
      "outputs": [
        {
          "output_type": "stream",
          "name": "stdout",
          "text": [
            "Epoch 1 took 31.75s. Train loss: -0.5119 acc: 0.6412. Val loss: -0.6022 acc: 0.6761. Patience left: 10\n",
            "Epoch 2 took 31.73s. Train loss: -0.5297 acc: 0.6412. Val loss: -0.6237 acc: 0.6763. Patience left: 10\n",
            "Epoch 3 took 31.72s. Train loss: -0.5489 acc: 0.6414. Val loss: -0.6470 acc: 0.6763. Patience left: 10\n",
            "Epoch 4 took 31.74s. Train loss: -0.5698 acc: 0.6414. Val loss: -0.6726 acc: 0.6763. Patience left: 10\n",
            "Epoch 5 took 31.70s. Train loss: -0.5926 acc: 0.6414. Val loss: -0.7007 acc: 0.6763. Patience left: 10\n",
            "Epoch 6 took 31.69s. Train loss: -0.6175 acc: 0.6414. Val loss: -0.7315 acc: 0.6763. Patience left: 10\n",
            "Epoch 7 took 31.68s. Train loss: -0.6448 acc: 0.6414. Val loss: -0.7653 acc: 0.6763. Patience left: 10\n",
            "Epoch 8 took 31.74s. Train loss: -0.6746 acc: 0.6414. Val loss: -0.8024 acc: 0.6763. Patience left: 10\n",
            "Epoch 9 took 31.76s. Train loss: -0.7071 acc: 0.6414. Val loss: -0.8429 acc: 0.6763. Patience left: 10\n",
            "Epoch 10 took 31.75s. Train loss: -0.7426 acc: 0.6414. Val loss: -0.8872 acc: 0.6763. Patience left: 10\n",
            "Epoch 11 took 31.73s. Train loss: -0.7810 acc: 0.6414. Val loss: -0.9353 acc: 0.6763. Patience left: 10\n",
            "Epoch 12 took 31.72s. Train loss: -0.8225 acc: 0.6414. Val loss: -0.9868 acc: 0.6763. Patience left: 10\n",
            "Epoch 13 took 31.78s. Train loss: -0.8664 acc: 0.6414. Val loss: -1.0409 acc: 0.6763. Patience left: 10\n",
            "Epoch 14 took 31.70s. Train loss: -0.9119 acc: 0.6414. Val loss: -1.0961 acc: 0.6763. Patience left: 10\n",
            "Epoch 15 took 31.78s. Train loss: -0.9574 acc: 0.6414. Val loss: -1.1503 acc: 0.6763. Patience left: 10\n",
            "Epoch 16 took 31.73s. Train loss: -1.0013 acc: 0.6414. Val loss: -1.2018 acc: 0.6763. Patience left: 10\n",
            "Epoch 17 took 31.77s. Train loss: -1.0425 acc: 0.6414. Val loss: -1.2498 acc: 0.6764. Patience left: 10\n",
            "Epoch 18 took 31.73s. Train loss: -1.0811 acc: 0.6415. Val loss: -1.2948 acc: 0.6765. Patience left: 10\n",
            "Epoch 19 took 31.67s. Train loss: -1.1177 acc: 0.6417. Val loss: -1.3377 acc: 0.6769. Patience left: 10\n",
            "Epoch 20 took 31.70s. Train loss: -1.1538 acc: 0.6421. Val loss: -1.3801 acc: 0.6777. Patience left: 10\n",
            "Epoch 21 took 31.69s. Train loss: -1.1909 acc: 0.6429. Val loss: -1.4237 acc: 0.6796. Patience left: 10\n",
            "Epoch 22 took 31.67s. Train loss: -1.2311 acc: 0.6451. Val loss: -1.4700 acc: 0.6836. Patience left: 10\n",
            "Epoch 23 took 31.74s. Train loss: -1.2757 acc: 0.6498. Val loss: -1.5194 acc: 0.6913. Patience left: 10\n",
            "Epoch 24 took 31.71s. Train loss: -1.3251 acc: 0.6591. Val loss: -1.5697 acc: 0.7044. Patience left: 10\n",
            "Epoch 25 took 31.67s. Train loss: -1.3761 acc: 0.6745. Val loss: -1.6166 acc: 0.7235. Patience left: 10\n",
            "Epoch 26 took 31.61s. Train loss: -1.4233 acc: 0.6969. Val loss: -1.6576 acc: 0.7459. Patience left: 10\n",
            "Epoch 27 took 31.53s. Train loss: -1.4643 acc: 0.7226. Val loss: -1.6986 acc: 0.7670. Patience left: 10\n",
            "Epoch 28 took 31.58s. Train loss: -1.5049 acc: 0.7458. Val loss: -1.7473 acc: 0.7824. Patience left: 10\n",
            "Epoch 29 took 31.64s. Train loss: -1.5515 acc: 0.7631. Val loss: -1.8017 acc: 0.7922. Patience left: 10\n",
            "Epoch 30 took 31.78s. Train loss: -1.6007 acc: 0.7761. Val loss: -1.8516 acc: 0.7991. Patience left: 10\n",
            "Epoch 1 took 31.68s. Train loss: -0.4969 acc: 0.6365. Val loss: -0.5880 acc: 0.6763. Patience left: 10\n",
            "Epoch 2 took 31.71s. Train loss: -0.5155 acc: 0.6413. Val loss: -0.6096 acc: 0.6763. Patience left: 10\n",
            "Epoch 3 took 31.72s. Train loss: -0.5347 acc: 0.6413. Val loss: -0.6319 acc: 0.6763. Patience left: 10\n",
            "Epoch 4 took 31.71s. Train loss: -0.5546 acc: 0.6413. Val loss: -0.6554 acc: 0.6763. Patience left: 10\n",
            "Epoch 5 took 31.71s. Train loss: -0.5754 acc: 0.6413. Val loss: -0.6802 acc: 0.6763. Patience left: 10\n",
            "Epoch 6 took 31.67s. Train loss: -0.5975 acc: 0.6413. Val loss: -0.7064 acc: 0.6763. Patience left: 10\n",
            "Epoch 7 took 31.72s. Train loss: -0.6208 acc: 0.6413. Val loss: -0.7343 acc: 0.6763. Patience left: 10\n",
            "Epoch 8 took 31.71s. Train loss: -0.6456 acc: 0.6413. Val loss: -0.7641 acc: 0.6763. Patience left: 10\n",
            "Epoch 9 took 31.74s. Train loss: -0.6720 acc: 0.6413. Val loss: -0.7961 acc: 0.6763. Patience left: 10\n",
            "Epoch 10 took 31.71s. Train loss: -0.7004 acc: 0.6413. Val loss: -0.8305 acc: 0.6763. Patience left: 10\n",
            "Epoch 11 took 31.72s. Train loss: -0.7309 acc: 0.6413. Val loss: -0.8677 acc: 0.6763. Patience left: 10\n",
            "Epoch 12 took 31.64s. Train loss: -0.7638 acc: 0.6414. Val loss: -0.9080 acc: 0.6763. Patience left: 10\n",
            "Epoch 13 took 31.69s. Train loss: -0.7993 acc: 0.6414. Val loss: -0.9513 acc: 0.6763. Patience left: 10\n",
            "Epoch 14 took 31.73s. Train loss: -0.8373 acc: 0.6414. Val loss: -0.9977 acc: 0.6764. Patience left: 10\n",
            "Epoch 15 took 31.75s. Train loss: -0.8777 acc: 0.6415. Val loss: -1.0467 acc: 0.6765. Patience left: 10\n",
            "Epoch 16 took 31.68s. Train loss: -0.9200 acc: 0.6415. Val loss: -1.0974 acc: 0.6766. Patience left: 10\n",
            "Epoch 17 took 31.66s. Train loss: -0.9633 acc: 0.6417. Val loss: -1.1486 acc: 0.6767. Patience left: 10\n",
            "Epoch 18 took 31.68s. Train loss: -1.0064 acc: 0.6418. Val loss: -1.1988 acc: 0.6770. Patience left: 10\n",
            "Epoch 19 took 31.71s. Train loss: -1.0482 acc: 0.6421. Val loss: -1.2471 acc: 0.6774. Patience left: 10\n",
            "Epoch 20 took 31.68s. Train loss: -1.0884 acc: 0.6426. Val loss: -1.2937 acc: 0.6783. Patience left: 10\n",
            "Epoch 21 took 31.73s. Train loss: -1.1281 acc: 0.6436. Val loss: -1.3399 acc: 0.6801. Patience left: 10\n",
            "Epoch 22 took 31.67s. Train loss: -1.1689 acc: 0.6456. Val loss: -1.3874 acc: 0.6836. Patience left: 10\n",
            "Epoch 23 took 31.70s. Train loss: -1.2128 acc: 0.6501. Val loss: -1.4374 acc: 0.6913. Patience left: 10\n",
            "Epoch 24 took 31.72s. Train loss: -1.2610 acc: 0.6599. Val loss: -1.4903 acc: 0.7064. Patience left: 10\n",
            "Epoch 25 took 31.69s. Train loss: -1.3135 acc: 0.6797. Val loss: -1.5441 acc: 0.7343. Patience left: 10\n",
            "Epoch 26 took 31.65s. Train loss: -1.3678 acc: 0.7166. Val loss: -1.5955 acc: 0.7753. Patience left: 10\n",
            "Epoch 27 took 31.71s. Train loss: -1.4183 acc: 0.7677. Val loss: -1.6414 acc: 0.8095. Patience left: 10\n",
            "Epoch 28 took 31.70s. Train loss: -1.4606 acc: 0.7993. Val loss: -1.6851 acc: 0.8135. Patience left: 10\n",
            "Epoch 29 took 31.76s. Train loss: -1.5004 acc: 0.8010. Val loss: -1.7293 acc: 0.8060. Patience left: 10\n",
            "Epoch 30 took 31.77s. Train loss: -1.5383 acc: 0.7934. Val loss: -1.7671 acc: 0.7966. Patience left: 10\n",
            "Epoch 1 took 31.86s. Train loss: -0.4601 acc: 0.3576. Val loss: -0.5424 acc: 0.3232. Patience left: 10\n",
            "Epoch 2 took 31.74s. Train loss: -0.4808 acc: 0.3587. Val loss: -0.5668 acc: 0.3336. Patience left: 10\n",
            "Epoch 3 took 31.70s. Train loss: -0.5029 acc: 0.4568. Val loss: -0.5930 acc: 0.6648. Patience left: 10\n",
            "Epoch 4 took 31.71s. Train loss: -0.5265 acc: 0.6844. Val loss: -0.6209 acc: 0.7728. Patience left: 10\n",
            "Epoch 5 took 31.66s. Train loss: -0.5517 acc: 0.7679. Val loss: -0.6509 acc: 0.8018. Patience left: 10\n",
            "Epoch 6 took 31.73s. Train loss: -0.5787 acc: 0.7873. Val loss: -0.6829 acc: 0.8060. Patience left: 10\n",
            "Epoch 7 took 31.73s. Train loss: -0.6075 acc: 0.7906. Val loss: -0.7171 acc: 0.8018. Patience left: 10\n",
            "Epoch 8 took 31.78s. Train loss: -0.6382 acc: 0.7733. Val loss: -0.7536 acc: 0.7820. Patience left: 10\n",
            "Epoch 9 took 31.76s. Train loss: -0.6710 acc: 0.7552. Val loss: -0.7927 acc: 0.7607. Patience left: 10\n",
            "Epoch 10 took 31.74s. Train loss: -0.7060 acc: 0.7271. Val loss: -0.8347 acc: 0.7421. Patience left: 10\n",
            "Epoch 11 took 31.70s. Train loss: -0.7435 acc: 0.7092. Val loss: -0.8798 acc: 0.7348. Patience left: 10\n",
            "Epoch 12 took 31.70s. Train loss: -0.7839 acc: 0.7037. Val loss: -0.9285 acc: 0.7300. Patience left: 10\n",
            "Epoch 13 took 31.77s. Train loss: -0.8272 acc: 0.6983. Val loss: -0.9809 acc: 0.7221. Patience left: 10\n",
            "Epoch 14 took 31.80s. Train loss: -0.8739 acc: 0.6891. Val loss: -1.0370 acc: 0.7163. Patience left: 10\n",
            "Epoch 15 took 31.79s. Train loss: -0.9237 acc: 0.6827. Val loss: -1.0968 acc: 0.7121. Patience left: 10\n",
            "Epoch 16 took 31.84s. Train loss: -0.9765 acc: 0.6778. Val loss: -1.1595 acc: 0.7069. Patience left: 10\n",
            "Epoch 17 took 31.76s. Train loss: -1.0314 acc: 0.6727. Val loss: -1.2239 acc: 0.7034. Patience left: 10\n",
            "Epoch 18 took 31.75s. Train loss: -1.0872 acc: 0.6688. Val loss: -1.2882 acc: 0.7004. Patience left: 10\n",
            "Epoch 19 took 31.69s. Train loss: -1.1420 acc: 0.6657. Val loss: -1.3501 acc: 0.6985. Patience left: 10\n",
            "Epoch 20 took 31.70s. Train loss: -1.1940 acc: 0.6638. Val loss: -1.4079 acc: 0.6979. Patience left: 10\n",
            "Epoch 21 took 31.70s. Train loss: -1.2422 acc: 0.6634. Val loss: -1.4616 acc: 0.6988. Patience left: 10\n",
            "Epoch 22 took 31.75s. Train loss: -1.2875 acc: 0.6647. Val loss: -1.5126 acc: 0.7016. Patience left: 10\n",
            "Epoch 23 took 31.80s. Train loss: -1.3316 acc: 0.6682. Val loss: -1.5627 acc: 0.7067. Patience left: 10\n",
            "Epoch 24 took 31.77s. Train loss: -1.3764 acc: 0.6741. Val loss: -1.6130 acc: 0.7143. Patience left: 10\n",
            "Epoch 25 took 31.81s. Train loss: -1.4226 acc: 0.6832. Val loss: -1.6635 acc: 0.7252. Patience left: 10\n",
            "Epoch 26 took 31.75s. Train loss: -1.4702 acc: 0.6961. Val loss: -1.7135 acc: 0.7395. Patience left: 10\n",
            "Epoch 27 took 31.75s. Train loss: -1.5179 acc: 0.7131. Val loss: -1.7615 acc: 0.7560. Patience left: 10\n",
            "Epoch 28 took 31.73s. Train loss: -1.5640 acc: 0.7332. Val loss: -1.8068 acc: 0.7739. Patience left: 10\n",
            "Epoch 29 took 31.77s. Train loss: -1.6071 acc: 0.7554. Val loss: -1.8491 acc: 0.7915. Patience left: 10\n",
            "Epoch 30 took 31.82s. Train loss: -1.6468 acc: 0.7770. Val loss: -1.8882 acc: 0.8057. Patience left: 10\n"
          ]
        }
      ]
    },
    {
      "cell_type": "code",
      "source": [
        "for i in range(3):\n",
        "  rnn_layer = nn.RNN(input_size = hidden_size, hidden_size = hidden_size) \n",
        "\n",
        "  rnn_results.append( run_model(rnn_layer) )"
      ],
      "metadata": {
        "colab": {
          "base_uri": "https://localhost:8080/"
        },
        "id": "ssjwAKvX6FaA",
        "outputId": "b95223fd-e09e-40d4-e51c-d81d2b57ef58"
      },
      "execution_count": null,
      "outputs": [
        {
          "output_type": "stream",
          "name": "stdout",
          "text": [
            "Epoch 1 took 1.91s. Train loss: -0.6018 acc: 0.6311. Val loss: -0.7216 acc: 0.6707. Patience left: 10\n",
            "Epoch 2 took 1.77s. Train loss: -0.6327 acc: 0.6383. Val loss: -0.7564 acc: 0.6755. Patience left: 10\n",
            "Epoch 3 took 1.93s. Train loss: -0.6643 acc: 0.6409. Val loss: -0.7921 acc: 0.6762. Patience left: 10\n",
            "Epoch 4 took 1.96s. Train loss: -0.6966 acc: 0.6413. Val loss: -0.8288 acc: 0.6763. Patience left: 10\n",
            "Epoch 5 took 1.89s. Train loss: -0.7298 acc: 0.6413. Val loss: -0.8665 acc: 0.6763. Patience left: 10\n",
            "Epoch 6 took 1.82s. Train loss: -0.7639 acc: 0.6413. Val loss: -0.9053 acc: 0.6763. Patience left: 10\n",
            "Epoch 7 took 1.96s. Train loss: -0.7990 acc: 0.6414. Val loss: -0.9451 acc: 0.6764. Patience left: 10\n",
            "Epoch 8 took 1.85s. Train loss: -0.8350 acc: 0.6415. Val loss: -0.9862 acc: 0.6768. Patience left: 10\n",
            "Epoch 9 took 1.79s. Train loss: -0.8719 acc: 0.6421. Val loss: -1.0283 acc: 0.6777. Patience left: 10\n",
            "Epoch 10 took 1.77s. Train loss: -0.9098 acc: 0.6432. Val loss: -1.0714 acc: 0.6790. Patience left: 10\n",
            "Epoch 11 took 1.78s. Train loss: -0.9487 acc: 0.6448. Val loss: -1.1156 acc: 0.6810. Patience left: 10\n",
            "Epoch 12 took 1.79s. Train loss: -0.9886 acc: 0.6471. Val loss: -1.1609 acc: 0.6839. Patience left: 10\n",
            "Epoch 13 took 1.78s. Train loss: -1.0295 acc: 0.6504. Val loss: -1.2074 acc: 0.6879. Patience left: 10\n",
            "Epoch 14 took 1.78s. Train loss: -1.0716 acc: 0.6549. Val loss: -1.2550 acc: 0.6934. Patience left: 10\n",
            "Epoch 15 took 1.78s. Train loss: -1.1150 acc: 0.6610. Val loss: -1.3038 acc: 0.7007. Patience left: 10\n",
            "Epoch 16 took 1.78s. Train loss: -1.1597 acc: 0.6695. Val loss: -1.3536 acc: 0.7103. Patience left: 10\n",
            "Epoch 17 took 1.77s. Train loss: -1.2056 acc: 0.6802. Val loss: -1.4044 acc: 0.7230. Patience left: 10\n",
            "Epoch 18 took 1.78s. Train loss: -1.2526 acc: 0.6943. Val loss: -1.4556 acc: 0.7387. Patience left: 10\n",
            "Epoch 19 took 1.77s. Train loss: -1.3002 acc: 0.7127. Val loss: -1.5067 acc: 0.7584. Patience left: 10\n",
            "Epoch 20 took 1.79s. Train loss: -1.3478 acc: 0.7355. Val loss: -1.5571 acc: 0.7809. Patience left: 10\n",
            "Epoch 21 took 1.78s. Train loss: -1.3947 acc: 0.7629. Val loss: -1.6059 acc: 0.8057. Patience left: 10\n",
            "Epoch 22 took 1.78s. Train loss: -1.4394 acc: 0.7935. Val loss: -1.6508 acc: 0.8268. Patience left: 10\n",
            "Epoch 23 took 1.77s. Train loss: -1.4788 acc: 0.8142. Val loss: -1.6911 acc: 0.8289. Patience left: 10\n",
            "Epoch 24 took 1.81s. Train loss: -1.5147 acc: 0.8147. Val loss: -1.7316 acc: 0.8245. Patience left: 10\n",
            "Epoch 25 took 1.78s. Train loss: -1.5505 acc: 0.8098. Val loss: -1.7713 acc: 0.8203. Patience left: 10\n",
            "Epoch 26 took 1.78s. Train loss: -1.5857 acc: 0.8055. Val loss: -1.8111 acc: 0.8173. Patience left: 10\n",
            "Epoch 27 took 1.77s. Train loss: -1.6214 acc: 0.8015. Val loss: -1.8519 acc: 0.8150. Patience left: 10\n",
            "Epoch 28 took 1.78s. Train loss: -1.6579 acc: 0.7972. Val loss: -1.8929 acc: 0.8122. Patience left: 10\n",
            "Epoch 29 took 1.78s. Train loss: -1.6949 acc: 0.7944. Val loss: -1.9337 acc: 0.8144. Patience left: 10\n",
            "Epoch 30 took 1.77s. Train loss: -1.7321 acc: 0.7972. Val loss: -1.9728 acc: 0.8188. Patience left: 10\n",
            "Epoch 1 took 1.78s. Train loss: -0.4545 acc: 0.3587. Val loss: -0.5329 acc: 0.3356. Patience left: 10\n",
            "Epoch 2 took 1.78s. Train loss: -0.4764 acc: 0.3657. Val loss: -0.5597 acc: 0.4272. Patience left: 10\n",
            "Epoch 3 took 1.78s. Train loss: -0.5007 acc: 0.4747. Val loss: -0.5888 acc: 0.5713. Patience left: 10\n",
            "Epoch 4 took 1.81s. Train loss: -0.5271 acc: 0.6159. Val loss: -0.6202 acc: 0.7195. Patience left: 10\n",
            "Epoch 5 took 1.78s. Train loss: -0.5555 acc: 0.7122. Val loss: -0.6536 acc: 0.7546. Patience left: 10\n",
            "Epoch 6 took 1.78s. Train loss: -0.5856 acc: 0.7330. Val loss: -0.6890 acc: 0.7617. Patience left: 10\n",
            "Epoch 7 took 1.76s. Train loss: -0.6174 acc: 0.7357. Val loss: -0.7264 acc: 0.7628. Patience left: 10\n",
            "Epoch 8 took 1.78s. Train loss: -0.6511 acc: 0.7306. Val loss: -0.7660 acc: 0.7533. Patience left: 10\n",
            "Epoch 9 took 1.78s. Train loss: -0.6868 acc: 0.7239. Val loss: -0.8082 acc: 0.7505. Patience left: 10\n",
            "Epoch 10 took 1.77s. Train loss: -0.7248 acc: 0.7196. Val loss: -0.8531 acc: 0.7452. Patience left: 10\n",
            "Epoch 11 took 1.77s. Train loss: -0.7651 acc: 0.7126. Val loss: -0.9006 acc: 0.7380. Patience left: 10\n",
            "Epoch 12 took 1.79s. Train loss: -0.8075 acc: 0.7066. Val loss: -0.9502 acc: 0.7343. Patience left: 10\n",
            "Epoch 13 took 1.78s. Train loss: -0.8516 acc: 0.7025. Val loss: -1.0011 acc: 0.7324. Patience left: 10\n",
            "Epoch 14 took 1.77s. Train loss: -0.8966 acc: 0.7006. Val loss: -1.0526 acc: 0.7301. Patience left: 10\n",
            "Epoch 15 took 1.77s. Train loss: -0.9418 acc: 0.6980. Val loss: -1.1036 acc: 0.7292. Patience left: 10\n",
            "Epoch 16 took 1.78s. Train loss: -0.9865 acc: 0.6972. Val loss: -1.1537 acc: 0.7283. Patience left: 10\n",
            "Epoch 17 took 1.78s. Train loss: -1.0304 acc: 0.6958. Val loss: -1.2028 acc: 0.7288. Patience left: 10\n",
            "Epoch 18 took 1.78s. Train loss: -1.0736 acc: 0.6966. Val loss: -1.2511 acc: 0.7307. Patience left: 10\n",
            "Epoch 19 took 1.80s. Train loss: -1.1164 acc: 0.6989. Val loss: -1.2989 acc: 0.7340. Patience left: 10\n",
            "Epoch 20 took 1.83s. Train loss: -1.1592 acc: 0.7027. Val loss: -1.3467 acc: 0.7385. Patience left: 10\n",
            "Epoch 21 took 1.98s. Train loss: -1.2024 acc: 0.7081. Val loss: -1.3946 acc: 0.7444. Patience left: 10\n",
            "Epoch 22 took 1.79s. Train loss: -1.2459 acc: 0.7151. Val loss: -1.4423 acc: 0.7518. Patience left: 10\n",
            "Epoch 23 took 1.78s. Train loss: -1.2896 acc: 0.7235. Val loss: -1.4896 acc: 0.7602. Patience left: 10\n",
            "Epoch 24 took 1.78s. Train loss: -1.3331 acc: 0.7330. Val loss: -1.5362 acc: 0.7692. Patience left: 10\n",
            "Epoch 25 took 1.79s. Train loss: -1.3759 acc: 0.7436. Val loss: -1.5819 acc: 0.7791. Patience left: 10\n",
            "Epoch 26 took 1.78s. Train loss: -1.4178 acc: 0.7552. Val loss: -1.6267 acc: 0.7892. Patience left: 10\n",
            "Epoch 27 took 1.93s. Train loss: -1.4586 acc: 0.7667. Val loss: -1.6705 acc: 0.7982. Patience left: 10\n",
            "Epoch 28 took 1.80s. Train loss: -1.4984 acc: 0.7778. Val loss: -1.7134 acc: 0.8069. Patience left: 10\n",
            "Epoch 29 took 1.81s. Train loss: -1.5372 acc: 0.7883. Val loss: -1.7553 acc: 0.8151. Patience left: 10\n",
            "Epoch 30 took 1.82s. Train loss: -1.5747 acc: 0.7987. Val loss: -1.7959 acc: 0.8223. Patience left: 10\n",
            "Epoch 1 took 1.78s. Train loss: -0.4420 acc: 0.3077. Val loss: -0.5209 acc: 0.3221. Patience left: 10\n",
            "Epoch 2 took 1.80s. Train loss: -0.4586 acc: 0.3485. Val loss: -0.5400 acc: 0.3987. Patience left: 10\n",
            "Epoch 3 took 1.79s. Train loss: -0.4759 acc: 0.4300. Val loss: -0.5602 acc: 0.4669. Patience left: 10\n",
            "Epoch 4 took 1.77s. Train loss: -0.4942 acc: 0.5074. Val loss: -0.5818 acc: 0.5870. Patience left: 10\n",
            "Epoch 5 took 1.77s. Train loss: -0.5138 acc: 0.5973. Val loss: -0.6052 acc: 0.6493. Patience left: 10\n",
            "Epoch 6 took 1.78s. Train loss: -0.5349 acc: 0.6445. Val loss: -0.6307 acc: 0.7014. Patience left: 10\n",
            "Epoch 7 took 1.77s. Train loss: -0.5580 acc: 0.6819. Val loss: -0.6587 acc: 0.7406. Patience left: 10\n",
            "Epoch 8 took 1.77s. Train loss: -0.5833 acc: 0.7069. Val loss: -0.6895 acc: 0.7285. Patience left: 10\n",
            "Epoch 9 took 1.78s. Train loss: -0.6111 acc: 0.6934. Val loss: -0.7233 acc: 0.7207. Patience left: 10\n",
            "Epoch 10 took 1.79s. Train loss: -0.6415 acc: 0.6852. Val loss: -0.7601 acc: 0.7122. Patience left: 10\n",
            "Epoch 11 took 1.78s. Train loss: -0.6745 acc: 0.6766. Val loss: -0.8000 acc: 0.7055. Patience left: 10\n",
            "Epoch 12 took 1.76s. Train loss: -0.7100 acc: 0.6701. Val loss: -0.8427 acc: 0.6993. Patience left: 10\n",
            "Epoch 13 took 1.77s. Train loss: -0.7478 acc: 0.6641. Val loss: -0.8878 acc: 0.6951. Patience left: 10\n",
            "Epoch 14 took 1.78s. Train loss: -0.7876 acc: 0.6603. Val loss: -0.9349 acc: 0.6926. Patience left: 10\n",
            "Epoch 15 took 1.77s. Train loss: -0.8289 acc: 0.6578. Val loss: -0.9834 acc: 0.6911. Patience left: 10\n",
            "Epoch 16 took 1.77s. Train loss: -0.8714 acc: 0.6567. Val loss: -1.0328 acc: 0.6908. Patience left: 10\n",
            "Epoch 17 took 1.78s. Train loss: -0.9146 acc: 0.6565. Val loss: -1.0827 acc: 0.6911. Patience left: 10\n",
            "Epoch 18 took 1.79s. Train loss: -0.9584 acc: 0.6571. Val loss: -1.1331 acc: 0.6928. Patience left: 10\n",
            "Epoch 19 took 1.77s. Train loss: -1.0030 acc: 0.6592. Val loss: -1.1841 acc: 0.6960. Patience left: 10\n",
            "Epoch 20 took 1.77s. Train loss: -1.0486 acc: 0.6630. Val loss: -1.2358 acc: 0.7009. Patience left: 10\n",
            "Epoch 21 took 1.78s. Train loss: -1.0954 acc: 0.6685. Val loss: -1.2883 acc: 0.7078. Patience left: 10\n",
            "Epoch 22 took 1.78s. Train loss: -1.1436 acc: 0.6764. Val loss: -1.3415 acc: 0.7179. Patience left: 10\n",
            "Epoch 23 took 1.78s. Train loss: -1.1928 acc: 0.6874. Val loss: -1.3951 acc: 0.7305. Patience left: 10\n",
            "Epoch 24 took 1.77s. Train loss: -1.2427 acc: 0.7017. Val loss: -1.4484 acc: 0.7460. Patience left: 10\n",
            "Epoch 25 took 1.77s. Train loss: -1.2926 acc: 0.7198. Val loss: -1.5013 acc: 0.7630. Patience left: 10\n",
            "Epoch 26 took 1.78s. Train loss: -1.3420 acc: 0.7388. Val loss: -1.5539 acc: 0.7805. Patience left: 10\n",
            "Epoch 27 took 1.78s. Train loss: -1.3909 acc: 0.7601. Val loss: -1.6062 acc: 0.8006. Patience left: 10\n",
            "Epoch 28 took 1.78s. Train loss: -1.4391 acc: 0.7845. Val loss: -1.6568 acc: 0.8202. Patience left: 10\n",
            "Epoch 29 took 1.80s. Train loss: -1.4845 acc: 0.8085. Val loss: -1.7006 acc: 0.8284. Patience left: 10\n",
            "Epoch 30 took 1.79s. Train loss: -1.5223 acc: 0.8135. Val loss: -1.7413 acc: 0.8237. Patience left: 10\n"
          ]
        }
      ]
    },
    {
      "cell_type": "code",
      "source": [
        "for i in range(3):\n",
        "  gru_layer = nn.GRU(input_size = hidden_size, hidden_size = hidden_size) \n",
        "\n",
        "  GRU_results.append( run_model(gru_layer) )"
      ],
      "metadata": {
        "colab": {
          "base_uri": "https://localhost:8080/"
        },
        "id": "lycmiS3V6i6k",
        "outputId": "1a517e42-3f6f-44d0-cff5-f28d5f16cd6e"
      },
      "execution_count": null,
      "outputs": [
        {
          "output_type": "stream",
          "name": "stdout",
          "text": [
            "Epoch 1 took 2.60s. Train loss: -0.4848 acc: 0.3619. Val loss: -0.5655 acc: 0.3466. Patience left: 10\n",
            "Epoch 2 took 2.06s. Train loss: -0.5001 acc: 0.3964. Val loss: -0.5832 acc: 0.4460. Patience left: 10\n",
            "Epoch 3 took 2.07s. Train loss: -0.5162 acc: 0.4928. Val loss: -0.6018 acc: 0.5476. Patience left: 10\n",
            "Epoch 4 took 2.07s. Train loss: -0.5332 acc: 0.5862. Val loss: -0.6216 acc: 0.6600. Patience left: 10\n",
            "Epoch 5 took 2.06s. Train loss: -0.5511 acc: 0.6747. Val loss: -0.6427 acc: 0.7093. Patience left: 10\n",
            "Epoch 6 took 2.06s. Train loss: -0.5702 acc: 0.7195. Val loss: -0.6652 acc: 0.7869. Patience left: 10\n",
            "Epoch 7 took 2.08s. Train loss: -0.5907 acc: 0.7802. Val loss: -0.6895 acc: 0.8062. Patience left: 10\n",
            "Epoch 8 took 2.06s. Train loss: -0.6127 acc: 0.7932. Val loss: -0.7157 acc: 0.8138. Patience left: 10\n",
            "Epoch 9 took 2.05s. Train loss: -0.6363 acc: 0.8008. Val loss: -0.7438 acc: 0.8299. Patience left: 10\n",
            "Epoch 10 took 2.06s. Train loss: -0.6617 acc: 0.8057. Val loss: -0.7742 acc: 0.8177. Patience left: 10\n",
            "Epoch 11 took 2.09s. Train loss: -0.6892 acc: 0.7937. Val loss: -0.8071 acc: 0.8111. Patience left: 10\n",
            "Epoch 12 took 2.06s. Train loss: -0.7189 acc: 0.7852. Val loss: -0.8429 acc: 0.8026. Patience left: 10\n",
            "Epoch 13 took 2.05s. Train loss: -0.7511 acc: 0.7722. Val loss: -0.8819 acc: 0.7880. Patience left: 10\n",
            "Epoch 14 took 2.06s. Train loss: -0.7863 acc: 0.7596. Val loss: -0.9246 acc: 0.7795. Patience left: 10\n",
            "Epoch 15 took 2.07s. Train loss: -0.8246 acc: 0.7505. Val loss: -0.9710 acc: 0.7728. Patience left: 10\n",
            "Epoch 16 took 2.06s. Train loss: -0.8664 acc: 0.7419. Val loss: -1.0216 acc: 0.7618. Patience left: 10\n",
            "Epoch 17 took 2.05s. Train loss: -0.9118 acc: 0.7305. Val loss: -1.0764 acc: 0.7544. Patience left: 10\n",
            "Epoch 18 took 2.06s. Train loss: -0.9609 acc: 0.7219. Val loss: -1.1352 acc: 0.7464. Patience left: 10\n",
            "Epoch 19 took 2.07s. Train loss: -1.0133 acc: 0.7131. Val loss: -1.1970 acc: 0.7388. Patience left: 10\n",
            "Epoch 20 took 2.06s. Train loss: -1.0681 acc: 0.7050. Val loss: -1.2604 acc: 0.7322. Patience left: 10\n",
            "Epoch 21 took 2.06s. Train loss: -1.1237 acc: 0.6980. Val loss: -1.3231 acc: 0.7270. Patience left: 10\n",
            "Epoch 22 took 2.06s. Train loss: -1.1779 acc: 0.6928. Val loss: -1.3828 acc: 0.7237. Patience left: 10\n",
            "Epoch 23 took 2.07s. Train loss: -1.2289 acc: 0.6896. Val loss: -1.4386 acc: 0.7224. Patience left: 10\n",
            "Epoch 24 took 2.06s. Train loss: -1.2767 acc: 0.6889. Val loss: -1.4913 acc: 0.7237. Patience left: 10\n",
            "Epoch 25 took 2.06s. Train loss: -1.3227 acc: 0.6910. Val loss: -1.5427 acc: 0.7276. Patience left: 10\n",
            "Epoch 26 took 2.06s. Train loss: -1.3688 acc: 0.6960. Val loss: -1.5939 acc: 0.7340. Patience left: 10\n",
            "Epoch 27 took 2.07s. Train loss: -1.4159 acc: 0.7038. Val loss: -1.6452 acc: 0.7429. Patience left: 10\n",
            "Epoch 28 took 2.06s. Train loss: -1.4637 acc: 0.7141. Val loss: -1.6957 acc: 0.7533. Patience left: 10\n",
            "Epoch 29 took 2.06s. Train loss: -1.5111 acc: 0.7264. Val loss: -1.7444 acc: 0.7645. Patience left: 10\n",
            "Epoch 30 took 2.06s. Train loss: -1.5565 acc: 0.7393. Val loss: -1.7906 acc: 0.7758. Patience left: 10\n",
            "Epoch 1 took 2.05s. Train loss: -0.4695 acc: 0.5824. Val loss: -0.5597 acc: 0.6720. Patience left: 10\n",
            "Epoch 2 took 2.06s. Train loss: -0.4899 acc: 0.6387. Val loss: -0.5835 acc: 0.6762. Patience left: 10\n",
            "Epoch 3 took 2.06s. Train loss: -0.5112 acc: 0.6413. Val loss: -0.6083 acc: 0.6763. Patience left: 10\n",
            "Epoch 4 took 2.07s. Train loss: -0.5333 acc: 0.6413. Val loss: -0.6341 acc: 0.6763. Patience left: 10\n",
            "Epoch 5 took 2.06s. Train loss: -0.5563 acc: 0.6413. Val loss: -0.6612 acc: 0.6763. Patience left: 10\n",
            "Epoch 6 took 2.05s. Train loss: -0.5805 acc: 0.6413. Val loss: -0.6896 acc: 0.6763. Patience left: 10\n",
            "Epoch 7 took 2.05s. Train loss: -0.6058 acc: 0.6413. Val loss: -0.7193 acc: 0.6763. Patience left: 10\n",
            "Epoch 8 took 2.07s. Train loss: -0.6323 acc: 0.6413. Val loss: -0.7503 acc: 0.6763. Patience left: 10\n",
            "Epoch 9 took 2.07s. Train loss: -0.6599 acc: 0.6413. Val loss: -0.7826 acc: 0.6763. Patience left: 10\n",
            "Epoch 10 took 2.05s. Train loss: -0.6886 acc: 0.6413. Val loss: -0.8161 acc: 0.6763. Patience left: 10\n",
            "Epoch 11 took 2.06s. Train loss: -0.7185 acc: 0.6413. Val loss: -0.8510 acc: 0.6763. Patience left: 10\n",
            "Epoch 12 took 2.06s. Train loss: -0.7496 acc: 0.6413. Val loss: -0.8874 acc: 0.6763. Patience left: 10\n",
            "Epoch 13 took 2.06s. Train loss: -0.7822 acc: 0.6414. Val loss: -0.9259 acc: 0.6764. Patience left: 10\n",
            "Epoch 14 took 2.05s. Train loss: -0.8167 acc: 0.6415. Val loss: -0.9667 acc: 0.6765. Patience left: 10\n",
            "Epoch 15 took 2.06s. Train loss: -0.8535 acc: 0.6417. Val loss: -1.0103 acc: 0.6769. Patience left: 10\n",
            "Epoch 16 took 2.08s. Train loss: -0.8928 acc: 0.6421. Val loss: -1.0570 acc: 0.6774. Patience left: 10\n",
            "Epoch 17 took 2.06s. Train loss: -0.9351 acc: 0.6428. Val loss: -1.1071 acc: 0.6783. Patience left: 10\n",
            "Epoch 18 took 2.05s. Train loss: -0.9803 acc: 0.6439. Val loss: -1.1604 acc: 0.6796. Patience left: 10\n",
            "Epoch 19 took 2.06s. Train loss: -1.0285 acc: 0.6454. Val loss: -1.2169 acc: 0.6813. Patience left: 10\n",
            "Epoch 20 took 2.06s. Train loss: -1.0794 acc: 0.6474. Val loss: -1.2759 acc: 0.6837. Patience left: 10\n",
            "Epoch 21 took 2.06s. Train loss: -1.1326 acc: 0.6500. Val loss: -1.3369 acc: 0.6866. Patience left: 10\n",
            "Epoch 22 took 2.04s. Train loss: -1.1875 acc: 0.6531. Val loss: -1.3992 acc: 0.6901. Patience left: 10\n",
            "Epoch 23 took 2.06s. Train loss: -1.2434 acc: 0.6571. Val loss: -1.4617 acc: 0.6946. Patience left: 10\n",
            "Epoch 24 took 2.08s. Train loss: -1.2995 acc: 0.6619. Val loss: -1.5238 acc: 0.6999. Patience left: 10\n",
            "Epoch 25 took 2.06s. Train loss: -1.3552 acc: 0.6677. Val loss: -1.5847 acc: 0.7063. Patience left: 10\n",
            "Epoch 26 took 2.06s. Train loss: -1.4101 acc: 0.6749. Val loss: -1.6442 acc: 0.7139. Patience left: 10\n",
            "Epoch 27 took 2.06s. Train loss: -1.4640 acc: 0.6831. Val loss: -1.7022 acc: 0.7229. Patience left: 10\n",
            "Epoch 28 took 2.07s. Train loss: -1.5171 acc: 0.6932. Val loss: -1.7589 acc: 0.7338. Patience left: 10\n",
            "Epoch 29 took 2.06s. Train loss: -1.5695 acc: 0.7054. Val loss: -1.8141 acc: 0.7461. Patience left: 10\n",
            "Epoch 30 took 2.06s. Train loss: -1.6208 acc: 0.7195. Val loss: -1.8676 acc: 0.7600. Patience left: 10\n",
            "Epoch 1 took 2.07s. Train loss: -0.4966 acc: 0.6408. Val loss: -0.5934 acc: 0.6763. Patience left: 10\n",
            "Epoch 2 took 2.06s. Train loss: -0.5176 acc: 0.6413. Val loss: -0.6184 acc: 0.6763. Patience left: 10\n",
            "Epoch 3 took 2.06s. Train loss: -0.5398 acc: 0.6413. Val loss: -0.6449 acc: 0.6763. Patience left: 10\n",
            "Epoch 4 took 2.05s. Train loss: -0.5633 acc: 0.6413. Val loss: -0.6732 acc: 0.6763. Patience left: 10\n",
            "Epoch 5 took 2.07s. Train loss: -0.5883 acc: 0.6413. Val loss: -0.7034 acc: 0.6763. Patience left: 10\n",
            "Epoch 6 took 2.06s. Train loss: -0.6150 acc: 0.6413. Val loss: -0.7356 acc: 0.6763. Patience left: 10\n",
            "Epoch 7 took 2.06s. Train loss: -0.6435 acc: 0.6413. Val loss: -0.7700 acc: 0.6763. Patience left: 10\n",
            "Epoch 8 took 2.06s. Train loss: -0.6738 acc: 0.6413. Val loss: -0.8067 acc: 0.6763. Patience left: 10\n",
            "Epoch 9 took 2.07s. Train loss: -0.7061 acc: 0.6413. Val loss: -0.8458 acc: 0.6763. Patience left: 10\n",
            "Epoch 10 took 2.06s. Train loss: -0.7405 acc: 0.6413. Val loss: -0.8875 acc: 0.6763. Patience left: 10\n",
            "Epoch 11 took 2.05s. Train loss: -0.7771 acc: 0.6413. Val loss: -0.9319 acc: 0.6763. Patience left: 10\n",
            "Epoch 12 took 2.05s. Train loss: -0.8161 acc: 0.6413. Val loss: -0.9792 acc: 0.6763. Patience left: 10\n",
            "Epoch 13 took 2.06s. Train loss: -0.8575 acc: 0.6413. Val loss: -1.0295 acc: 0.6763. Patience left: 10\n",
            "Epoch 14 took 2.07s. Train loss: -0.9014 acc: 0.6413. Val loss: -1.0827 acc: 0.6763. Patience left: 10\n",
            "Epoch 15 took 2.05s. Train loss: -0.9477 acc: 0.6413. Val loss: -1.1385 acc: 0.6763. Patience left: 10\n",
            "Epoch 16 took 2.06s. Train loss: -0.9960 acc: 0.6414. Val loss: -1.1962 acc: 0.6763. Patience left: 10\n",
            "Epoch 17 took 2.08s. Train loss: -1.0457 acc: 0.6414. Val loss: -1.2550 acc: 0.6764. Patience left: 10\n",
            "Epoch 18 took 2.05s. Train loss: -1.0961 acc: 0.6415. Val loss: -1.3139 acc: 0.6765. Patience left: 10\n",
            "Epoch 19 took 2.05s. Train loss: -1.1462 acc: 0.6416. Val loss: -1.3719 acc: 0.6767. Patience left: 10\n",
            "Epoch 20 took 2.05s. Train loss: -1.1956 acc: 0.6418. Val loss: -1.4285 acc: 0.6771. Patience left: 10\n",
            "Epoch 21 took 2.08s. Train loss: -1.2440 acc: 0.6423. Val loss: -1.4838 acc: 0.6777. Patience left: 10\n",
            "Epoch 22 took 2.07s. Train loss: -1.2921 acc: 0.6430. Val loss: -1.5388 acc: 0.6787. Patience left: 10\n",
            "Epoch 23 took 2.05s. Train loss: -1.3411 acc: 0.6441. Val loss: -1.5941 acc: 0.6803. Patience left: 10\n",
            "Epoch 24 took 2.06s. Train loss: -1.3917 acc: 0.6458. Val loss: -1.6504 acc: 0.6826. Patience left: 10\n",
            "Epoch 25 took 2.07s. Train loss: -1.4443 acc: 0.6485. Val loss: -1.7073 acc: 0.6860. Patience left: 10\n",
            "Epoch 26 took 2.05s. Train loss: -1.4981 acc: 0.6521. Val loss: -1.7636 acc: 0.6905. Patience left: 10\n",
            "Epoch 27 took 2.05s. Train loss: -1.5519 acc: 0.6571. Val loss: -1.8185 acc: 0.6961. Patience left: 10\n",
            "Epoch 28 took 2.06s. Train loss: -1.6044 acc: 0.6633. Val loss: -1.8715 acc: 0.7025. Patience left: 10\n",
            "Epoch 29 took 2.07s. Train loss: -1.6550 acc: 0.6703. Val loss: -1.9232 acc: 0.7094. Patience left: 10\n",
            "Epoch 30 took 2.06s. Train loss: -1.7040 acc: 0.6775. Val loss: -1.9747 acc: 0.7162. Patience left: 10\n"
          ]
        }
      ]
    },
    {
      "cell_type": "code",
      "source": [
        "for i in range(3):\n",
        "  lstm_layer = nn.LSTM(input_size = hidden_size, hidden_size = hidden_size) \n",
        "\n",
        "  LSTM_results.append( run_model(lstm_layer) )"
      ],
      "metadata": {
        "colab": {
          "base_uri": "https://localhost:8080/"
        },
        "id": "js-BSTnc6wYm",
        "outputId": "1f6fe7bd-b0da-4e1c-b6b5-77fa908d6257"
      },
      "execution_count": null,
      "outputs": [
        {
          "output_type": "stream",
          "name": "stdout",
          "text": [
            "Epoch 1 took 2.14s. Train loss: -0.4749 acc: 0.4349. Val loss: -0.5572 acc: 0.5823. Patience left: 10\n",
            "Epoch 2 took 2.14s. Train loss: -0.4891 acc: 0.5953. Val loss: -0.5733 acc: 0.6762. Patience left: 10\n",
            "Epoch 3 took 2.13s. Train loss: -0.5035 acc: 0.6413. Val loss: -0.5898 acc: 0.6763. Patience left: 10\n",
            "Epoch 4 took 2.14s. Train loss: -0.5184 acc: 0.6413. Val loss: -0.6069 acc: 0.6763. Patience left: 10\n",
            "Epoch 5 took 2.14s. Train loss: -0.5338 acc: 0.6413. Val loss: -0.6248 acc: 0.6763. Patience left: 10\n",
            "Epoch 6 took 2.14s. Train loss: -0.5499 acc: 0.6418. Val loss: -0.6437 acc: 0.6789. Patience left: 10\n",
            "Epoch 7 took 2.13s. Train loss: -0.5669 acc: 0.6452. Val loss: -0.6640 acc: 0.6825. Patience left: 10\n",
            "Epoch 8 took 2.14s. Train loss: -0.5852 acc: 0.6489. Val loss: -0.6860 acc: 0.6855. Patience left: 10\n",
            "Epoch 9 took 2.14s. Train loss: -0.6050 acc: 0.6519. Val loss: -0.7100 acc: 0.6879. Patience left: 10\n",
            "Epoch 10 took 2.13s. Train loss: -0.6267 acc: 0.6543. Val loss: -0.7364 acc: 0.6898. Patience left: 10\n",
            "Epoch 11 took 2.12s. Train loss: -0.6505 acc: 0.6562. Val loss: -0.7654 acc: 0.6914. Patience left: 10\n",
            "Epoch 12 took 2.14s. Train loss: -0.6766 acc: 0.6578. Val loss: -0.7976 acc: 0.6926. Patience left: 10\n",
            "Epoch 13 took 2.14s. Train loss: -0.7055 acc: 0.6590. Val loss: -0.8333 acc: 0.6936. Patience left: 10\n",
            "Epoch 14 took 2.14s. Train loss: -0.7376 acc: 0.6599. Val loss: -0.8730 acc: 0.6943. Patience left: 10\n",
            "Epoch 15 took 2.14s. Train loss: -0.7731 acc: 0.6603. Val loss: -0.9170 acc: 0.6945. Patience left: 10\n",
            "Epoch 16 took 2.14s. Train loss: -0.8124 acc: 0.6604. Val loss: -0.9654 acc: 0.6947. Patience left: 10\n",
            "Epoch 17 took 2.14s. Train loss: -0.8554 acc: 0.6603. Val loss: -1.0178 acc: 0.6946. Patience left: 10\n",
            "Epoch 18 took 2.13s. Train loss: -0.9014 acc: 0.6600. Val loss: -1.0730 acc: 0.6945. Patience left: 10\n",
            "Epoch 19 took 2.13s. Train loss: -0.9494 acc: 0.6597. Val loss: -1.1299 acc: 0.6944. Patience left: 10\n",
            "Epoch 20 took 2.13s. Train loss: -0.9983 acc: 0.6596. Val loss: -1.1876 acc: 0.6948. Patience left: 10\n",
            "Epoch 21 took 2.14s. Train loss: -1.0480 acc: 0.6601. Val loss: -1.2464 acc: 0.6959. Patience left: 10\n",
            "Epoch 22 took 2.15s. Train loss: -1.0991 acc: 0.6616. Val loss: -1.3069 acc: 0.6981. Patience left: 10\n",
            "Epoch 23 took 2.13s. Train loss: -1.1527 acc: 0.6642. Val loss: -1.3699 acc: 0.7017. Patience left: 10\n",
            "Epoch 24 took 2.14s. Train loss: -1.2099 acc: 0.6684. Val loss: -1.4355 acc: 0.7072. Patience left: 10\n",
            "Epoch 25 took 2.15s. Train loss: -1.2706 acc: 0.6751. Val loss: -1.5021 acc: 0.7152. Patience left: 10\n",
            "Epoch 26 took 2.14s. Train loss: -1.3325 acc: 0.6845. Val loss: -1.5651 acc: 0.7257. Patience left: 10\n",
            "Epoch 27 took 2.13s. Train loss: -1.3895 acc: 0.6963. Val loss: -1.6209 acc: 0.7360. Patience left: 10\n",
            "Epoch 28 took 2.14s. Train loss: -1.4403 acc: 0.7066. Val loss: -1.6808 acc: 0.7421. Patience left: 10\n",
            "Epoch 29 took 2.14s. Train loss: -1.4954 acc: 0.7120. Val loss: -1.7451 acc: 0.7436. Patience left: 10\n",
            "Epoch 30 took 2.15s. Train loss: -1.5506 acc: 0.7130. Val loss: -1.7990 acc: 0.7444. Patience left: 10\n",
            "Epoch 1 took 2.13s. Train loss: -0.4808 acc: 0.3509. Val loss: -0.5597 acc: 0.6638. Patience left: 10\n",
            "Epoch 2 took 2.13s. Train loss: -0.4906 acc: 0.6351. Val loss: -0.5708 acc: 0.6763. Patience left: 10\n",
            "Epoch 3 took 2.15s. Train loss: -0.5006 acc: 0.6413. Val loss: -0.5822 acc: 0.6763. Patience left: 10\n",
            "Epoch 4 took 2.14s. Train loss: -0.5109 acc: 0.6413. Val loss: -0.5941 acc: 0.6763. Patience left: 10\n",
            "Epoch 5 took 2.14s. Train loss: -0.5216 acc: 0.6413. Val loss: -0.6065 acc: 0.6764. Patience left: 10\n",
            "Epoch 6 took 2.15s. Train loss: -0.5327 acc: 0.6417. Val loss: -0.6196 acc: 0.6775. Patience left: 10\n",
            "Epoch 7 took 2.14s. Train loss: -0.5445 acc: 0.6431. Val loss: -0.6337 acc: 0.6795. Patience left: 10\n",
            "Epoch 8 took 2.14s. Train loss: -0.5572 acc: 0.6454. Val loss: -0.6489 acc: 0.6818. Patience left: 10\n",
            "Epoch 9 took 2.13s. Train loss: -0.5709 acc: 0.6478. Val loss: -0.6654 acc: 0.6841. Patience left: 10\n",
            "Epoch 10 took 2.14s. Train loss: -0.5857 acc: 0.6501. Val loss: -0.6834 acc: 0.6860. Patience left: 10\n",
            "Epoch 11 took 2.14s. Train loss: -0.6020 acc: 0.6522. Val loss: -0.7033 acc: 0.6877. Patience left: 10\n",
            "Epoch 12 took 2.14s. Train loss: -0.6199 acc: 0.6537. Val loss: -0.7254 acc: 0.6890. Patience left: 10\n",
            "Epoch 13 took 2.14s. Train loss: -0.6398 acc: 0.6550. Val loss: -0.7499 acc: 0.6900. Patience left: 10\n",
            "Epoch 14 took 2.14s. Train loss: -0.6619 acc: 0.6560. Val loss: -0.7773 acc: 0.6910. Patience left: 10\n",
            "Epoch 15 took 2.14s. Train loss: -0.6865 acc: 0.6569. Val loss: -0.8076 acc: 0.6916. Patience left: 10\n",
            "Epoch 16 took 2.13s. Train loss: -0.7135 acc: 0.6575. Val loss: -0.8407 acc: 0.6920. Patience left: 10\n",
            "Epoch 17 took 2.13s. Train loss: -0.7430 acc: 0.6578. Val loss: -0.8764 acc: 0.6924. Patience left: 10\n",
            "Epoch 18 took 2.13s. Train loss: -0.7746 acc: 0.6581. Val loss: -0.9141 acc: 0.6927. Patience left: 10\n",
            "Epoch 19 took 2.14s. Train loss: -0.8077 acc: 0.6583. Val loss: -0.9532 acc: 0.6934. Patience left: 10\n",
            "Epoch 20 took 2.14s. Train loss: -0.8420 acc: 0.6591. Val loss: -0.9939 acc: 0.6949. Patience left: 10\n",
            "Epoch 21 took 2.13s. Train loss: -0.8781 acc: 0.6609. Val loss: -1.0367 acc: 0.6976. Patience left: 10\n",
            "Epoch 22 took 2.14s. Train loss: -0.9165 acc: 0.6642. Val loss: -1.0821 acc: 0.7020. Patience left: 10\n",
            "Epoch 23 took 2.14s. Train loss: -0.9580 acc: 0.6695. Val loss: -1.1302 acc: 0.7084. Patience left: 10\n",
            "Epoch 24 took 2.14s. Train loss: -1.0021 acc: 0.6770. Val loss: -1.1799 acc: 0.7168. Patience left: 10\n",
            "Epoch 25 took 2.13s. Train loss: -1.0477 acc: 0.6867. Val loss: -1.2297 acc: 0.7265. Patience left: 10\n",
            "Epoch 26 took 2.14s. Train loss: -1.0929 acc: 0.6972. Val loss: -1.2794 acc: 0.7360. Patience left: 10\n",
            "Epoch 27 took 2.14s. Train loss: -1.1379 acc: 0.7068. Val loss: -1.3308 acc: 0.7425. Patience left: 10\n",
            "Epoch 28 took 2.13s. Train loss: -1.1844 acc: 0.7130. Val loss: -1.3833 acc: 0.7460. Patience left: 10\n",
            "Epoch 29 took 2.13s. Train loss: -1.2307 acc: 0.7167. Val loss: -1.4329 acc: 0.7495. Patience left: 10\n",
            "Epoch 30 took 2.13s. Train loss: -1.2750 acc: 0.7223. Val loss: -1.4816 acc: 0.7583. Patience left: 10\n",
            "Epoch 1 took 2.14s. Train loss: -0.4938 acc: 0.3965. Val loss: -0.5720 acc: 0.4857. Patience left: 10\n",
            "Epoch 2 took 2.13s. Train loss: -0.5035 acc: 0.5446. Val loss: -0.5833 acc: 0.6772. Patience left: 10\n",
            "Epoch 3 took 2.12s. Train loss: -0.5138 acc: 0.6999. Val loss: -0.5955 acc: 0.8011. Patience left: 10\n",
            "Epoch 4 took 2.14s. Train loss: -0.5249 acc: 0.7911. Val loss: -0.6087 acc: 0.8235. Patience left: 10\n",
            "Epoch 5 took 2.14s. Train loss: -0.5369 acc: 0.7951. Val loss: -0.6232 acc: 0.8026. Patience left: 10\n",
            "Epoch 6 took 2.14s. Train loss: -0.5501 acc: 0.7748. Val loss: -0.6394 acc: 0.7824. Patience left: 10\n",
            "Epoch 7 took 2.13s. Train loss: -0.5649 acc: 0.7520. Val loss: -0.6576 acc: 0.7702. Patience left: 10\n",
            "Epoch 8 took 2.14s. Train loss: -0.5815 acc: 0.7409. Val loss: -0.6781 acc: 0.7626. Patience left: 10\n",
            "Epoch 9 took 2.14s. Train loss: -0.6001 acc: 0.7309. Val loss: -0.7012 acc: 0.7510. Patience left: 10\n",
            "Epoch 10 took 2.14s. Train loss: -0.6210 acc: 0.7199. Val loss: -0.7271 acc: 0.7440. Patience left: 10\n",
            "Epoch 11 took 2.13s. Train loss: -0.6444 acc: 0.7122. Val loss: -0.7561 acc: 0.7389. Patience left: 10\n",
            "Epoch 12 took 2.14s. Train loss: -0.6705 acc: 0.7065. Val loss: -0.7885 acc: 0.7335. Patience left: 10\n",
            "Epoch 13 took 2.14s. Train loss: -0.6996 acc: 0.7007. Val loss: -0.8243 acc: 0.7292. Patience left: 10\n",
            "Epoch 14 took 2.14s. Train loss: -0.7315 acc: 0.6958. Val loss: -0.8632 acc: 0.7251. Patience left: 10\n",
            "Epoch 15 took 2.13s. Train loss: -0.7661 acc: 0.6916. Val loss: -0.9046 acc: 0.7220. Patience left: 10\n",
            "Epoch 16 took 2.13s. Train loss: -0.8026 acc: 0.6883. Val loss: -0.9474 acc: 0.7202. Patience left: 10\n",
            "Epoch 17 took 2.14s. Train loss: -0.8401 acc: 0.6866. Val loss: -0.9907 acc: 0.7201. Patience left: 10\n",
            "Epoch 18 took 2.14s. Train loss: -0.8780 acc: 0.6875. Val loss: -1.0345 acc: 0.7234. Patience left: 10\n",
            "Epoch 19 took 2.12s. Train loss: -0.9171 acc: 0.6924. Val loss: -1.0803 acc: 0.7311. Patience left: 10\n",
            "Epoch 20 took 2.13s. Train loss: -0.9594 acc: 0.7028. Val loss: -1.1293 acc: 0.7442. Patience left: 10\n",
            "Epoch 21 took 2.14s. Train loss: -1.0051 acc: 0.7195. Val loss: -1.1798 acc: 0.7625. Patience left: 10\n",
            "Epoch 22 took 2.14s. Train loss: -1.0516 acc: 0.7413. Val loss: -1.2284 acc: 0.7818. Patience left: 10\n",
            "Epoch 23 took 2.12s. Train loss: -1.0951 acc: 0.7624. Val loss: -1.2757 acc: 0.7951. Patience left: 10\n",
            "Epoch 24 took 2.13s. Train loss: -1.1382 acc: 0.7747. Val loss: -1.3253 acc: 0.7985. Patience left: 10\n",
            "Epoch 25 took 2.14s. Train loss: -1.1820 acc: 0.7776. Val loss: -1.3711 acc: 0.7981. Patience left: 10\n",
            "Epoch 26 took 2.14s. Train loss: -1.2222 acc: 0.7786. Val loss: -1.4158 acc: 0.8010. Patience left: 10\n",
            "Epoch 27 took 2.13s. Train loss: -1.2625 acc: 0.7831. Val loss: -1.4622 acc: 0.8067. Patience left: 10\n",
            "Epoch 28 took 2.13s. Train loss: -1.3042 acc: 0.7894. Val loss: -1.5081 acc: 0.8120. Patience left: 10\n",
            "Epoch 29 took 2.14s. Train loss: -1.3449 acc: 0.7942. Val loss: -1.5534 acc: 0.8135. Patience left: 10\n",
            "Epoch 30 took 2.13s. Train loss: -1.3859 acc: 0.7936. Val loss: -1.6010 acc: 0.8092. Patience left: 10\n"
          ]
        }
      ]
    },
    {
      "cell_type": "code",
      "source": [
        "import math\n",
        "\n",
        "lessvanillarnn_final = [sum([i[0] for i in lessvanillarnn_results]) / 3, sum([i[1] for i in lessvanillarnn_results]) / 3, sum([i[2] for i in lessvanillarnn_results]) / 3]\n",
        "rnn_final = [sum([i[0] for i in rnn_results]) / 3, sum([i[1] for i in rnn_results]) / 3, sum([i[2] for i in rnn_results]) / 3]\n",
        "GRU_final = [sum([i[0] for i in GRU_results]) / 3, sum([i[1] for i in GRU_results]) / 3, sum([i[2] for i in GRU_results]) / 3]\n",
        "LSTM_final = [sum([i[0] for i in LSTM_results]) / 3, sum([i[1] for i in LSTM_results]) / 3, sum([i[2] for i in LSTM_results]) / 3]\n",
        "\n",
        "plt.rcParams[\"figure.figsize\"] = (15,3)\n",
        "\n",
        "categories = [\"train acc\", \"val acc\", \"test acc\"]\n",
        "\n",
        "N = 3\n",
        "ind = np.arange(N) \n",
        "width = 0.2\n",
        "\n",
        "\n",
        "low = min(lessvanillarnn_final + rnn_final + GRU_final + LSTM_final)\n",
        "high = max(lessvanillarnn_final + rnn_final + GRU_final + LSTM_final)\n",
        "plt.ylim([low-0.5*(high-low), high+0.5*(high-low)])\n",
        "\n",
        "bar1 = plt.bar(ind, lessvanillarnn_final, width, color = 'r')\n",
        "bar2 = plt.bar(ind+width, rnn_final, width, color='g')\n",
        "bar3 = plt.bar(ind+width*2, GRU_final, width, color = 'b')\n",
        "bar4 = plt.bar(ind+width*3, LSTM_final, width, color = 'y')\n",
        "\n",
        "  \n",
        "plt.xlabel(\"Accuracy Types\")\n",
        "plt.ylabel('Accuracy Numbers')\n",
        "plt.title(\"Accuracies for each RNN\")\n",
        "  \n",
        "plt.xticks(ind+width*1.5, categories)\n",
        "plt.legend( (bar1, bar2, bar3, bar4), ('lessvanillarnn', 'rnn', 'GRU', 'LSTM') )\n",
        "plt.show()\n"
      ],
      "metadata": {
        "colab": {
          "base_uri": "https://localhost:8080/",
          "height": 241
        },
        "id": "siYY5uCsFu8h",
        "outputId": "f4d2af70-793a-49ea-e550-8daa0452fcab"
      },
      "execution_count": null,
      "outputs": [
        {
          "output_type": "display_data",
          "data": {
            "text/plain": [
              "<Figure size 1080x216 with 1 Axes>"
            ],
            "image/png": "[encoded data removed]"
          },
          "metadata": {
            "needs_background": "light"
          }
        }
      ]
    },
    {
      "cell_type": "markdown",
      "source": [
        "The plot shows that on average, the regular RNN performed the best for all accuracy measurements, then the lessvanillarnn, LSTM, and finally the GRU. Perhaps the reson why the GRU and LSTM perform the worst is because we are not optimizing the hyperparameters for them to best capture the information in the data, with the regular RNN we don't need as much tuning to get an accurate enough result. The lessvanillarnn of course performs worse than the built in vanillarnn, since we haven't optimied any of the hyperparameters there either."
      ],
      "metadata": {
        "id": "AGQ_amy6ruQq"
      }
    },
    {
      "cell_type": "markdown",
      "metadata": {
        "id": "faJFzuOM5a-_"
      },
      "source": [
        "## Sharing information across cells"
      ]
    },
    {
      "cell_type": "code",
      "metadata": {
        "id": "7_DXS6cQy6wo"
      },
      "source": [
        "class MethJointModel(nn.Module): # RNN that shares info across cells like HMM\n",
        "    def __init__(self, rnn_layer, input_size, num_cells, embedding_size):\n",
        "        super(MethJointModel, self).__init__()\n",
        "        self.embed = nn.Linear(input_size, embedding_size)\n",
        "        self.rnn_layer = rnn_layer\n",
        "        self.linear = nn.Linear(rnn_layer.hidden_size, num_cells)\n",
        "\n",
        "    def forward(self, meth, unmeth):\n",
        "        x = torch.stack((meth,unmeth),3) # seq x batch x cells x channels(=meth and unmeth counts)\n",
        "        x = self.embed(x) # seq x batch x cells x hidden_size\n",
        "        x = x.view(x.shape[0], x.shape[1], x.shape[2] * x.shape[3]) # seq x batch x (cells x hidden_size)\n",
        "        x = F.relu(x)\n",
        "        h = self.rnn_layer(x) \n",
        "        if isinstance(rnn_layer, nn.RNNBase): h = h[0] # torch RNN layers give h[0:t] and h[-1]\n",
        "        output = self.linear(h)\n",
        "        return output"
      ],
      "execution_count": null,
      "outputs": []
    },
    {
      "cell_type": "code",
      "metadata": {
        "id": "7PMQ3BW-Pq47",
        "colab": {
          "base_uri": "https://localhost:8080/"
        },
        "outputId": "8f7d922f-dfe1-440d-cb5b-fb90e84579ae"
      },
      "source": [
        "# train new methjointmodel\n",
        "\n",
        "hidden_size = 32\n",
        "num_cells = meth_mat.shape[1]\n",
        "embedding_size = 3\n",
        "\n",
        "rnn_layer = nn.LSTM(input_size = num_cells * embedding_size, hidden_size = hidden_size)\n",
        "\n",
        "model = MethJointModel(rnn_layer, input_size = 2, num_cells = num_cells, embedding_size = embedding_size)\n",
        "\n",
        "device = \"cuda\"\n",
        "model.to(device)\n",
        "\n",
        "optimizer = torch.optim.Adam(model.parameters(), amsgrad=True)\n",
        "\n",
        "train_accs, val_accs = train_loop(model,\n",
        "                                optimizer,\n",
        "                                train_dataloader, \n",
        "                                validation_dataloader,\n",
        "                                check_point_filename = 'rnn_checkpoint.pt',\n",
        "                                device = device,\n",
        "                                max_epochs = 100) # high dimensional: takes longer to converge\n",
        "\n",
        "test_loss, test_acc = run_one_epoch(False, test_dataloader, model, optimizer, device)\n",
        "print(test_acc)"
      ],
      "execution_count": null,
      "outputs": [
        {
          "output_type": "stream",
          "name": "stdout",
          "text": [
            "Epoch 1 took 0.82s. Train loss: -0.5025 acc: 0.5634. Val loss: -0.5780 acc: 0.5896. Patience left: 10\n",
            "Epoch 2 took 0.64s. Train loss: -0.5062 acc: 0.5848. Val loss: -0.5826 acc: 0.6077. Patience left: 10\n",
            "Epoch 3 took 0.62s. Train loss: -0.5103 acc: 0.6002. Val loss: -0.5879 acc: 0.6205. Patience left: 10\n",
            "Epoch 4 took 0.60s. Train loss: -0.5152 acc: 0.6106. Val loss: -0.5942 acc: 0.6299. Patience left: 10\n",
            "Epoch 5 took 0.59s. Train loss: -0.5209 acc: 0.6176. Val loss: -0.6017 acc: 0.6379. Patience left: 10\n",
            "Epoch 6 took 0.60s. Train loss: -0.5278 acc: 0.6240. Val loss: -0.6106 acc: 0.6459. Patience left: 10\n",
            "Epoch 7 took 0.57s. Train loss: -0.5360 acc: 0.6308. Val loss: -0.6211 acc: 0.6536. Patience left: 10\n",
            "Epoch 8 took 0.57s. Train loss: -0.5455 acc: 0.6375. Val loss: -0.6330 acc: 0.6608. Patience left: 10\n",
            "Epoch 9 took 0.57s. Train loss: -0.5563 acc: 0.6435. Val loss: -0.6463 acc: 0.6674. Patience left: 10\n",
            "Epoch 10 took 0.58s. Train loss: -0.5681 acc: 0.6486. Val loss: -0.6607 acc: 0.6731. Patience left: 10\n",
            "Epoch 11 took 0.59s. Train loss: -0.5809 acc: 0.6525. Val loss: -0.6763 acc: 0.6771. Patience left: 10\n",
            "Epoch 12 took 0.58s. Train loss: -0.5946 acc: 0.6556. Val loss: -0.6927 acc: 0.6804. Patience left: 10\n",
            "Epoch 13 took 0.58s. Train loss: -0.6090 acc: 0.6589. Val loss: -0.7098 acc: 0.6822. Patience left: 10\n",
            "Epoch 14 took 0.58s. Train loss: -0.6240 acc: 0.6609. Val loss: -0.7275 acc: 0.6829. Patience left: 10\n",
            "Epoch 15 took 0.58s. Train loss: -0.6395 acc: 0.6639. Val loss: -0.7456 acc: 0.6845. Patience left: 10\n",
            "Epoch 16 took 0.57s. Train loss: -0.6554 acc: 0.6670. Val loss: -0.7642 acc: 0.6849. Patience left: 10\n",
            "Epoch 17 took 0.58s. Train loss: -0.6717 acc: 0.6679. Val loss: -0.7833 acc: 0.6855. Patience left: 10\n",
            "Epoch 18 took 0.58s. Train loss: -0.6884 acc: 0.6685. Val loss: -0.8029 acc: 0.6859. Patience left: 10\n",
            "Epoch 19 took 0.57s. Train loss: -0.7055 acc: 0.6684. Val loss: -0.8228 acc: 0.6856. Patience left: 10\n",
            "Epoch 20 took 0.58s. Train loss: -0.7229 acc: 0.6670. Val loss: -0.8430 acc: 0.6851. Patience left: 10\n",
            "Epoch 21 took 0.58s. Train loss: -0.7405 acc: 0.6664. Val loss: -0.8634 acc: 0.6854. Patience left: 10\n",
            "Epoch 22 took 0.58s. Train loss: -0.7583 acc: 0.6668. Val loss: -0.8839 acc: 0.6860. Patience left: 10\n",
            "Epoch 23 took 0.58s. Train loss: -0.7761 acc: 0.6677. Val loss: -0.9045 acc: 0.6869. Patience left: 10\n",
            "Epoch 24 took 0.58s. Train loss: -0.7940 acc: 0.6688. Val loss: -0.9250 acc: 0.6874. Patience left: 10\n",
            "Epoch 25 took 0.58s. Train loss: -0.8117 acc: 0.6692. Val loss: -0.9454 acc: 0.6877. Patience left: 10\n",
            "Epoch 26 took 0.58s. Train loss: -0.8294 acc: 0.6695. Val loss: -0.9657 acc: 0.6881. Patience left: 10\n",
            "Epoch 27 took 0.57s. Train loss: -0.8469 acc: 0.6698. Val loss: -0.9858 acc: 0.6884. Patience left: 10\n",
            "Epoch 28 took 0.57s. Train loss: -0.8644 acc: 0.6700. Val loss: -1.0058 acc: 0.6884. Patience left: 10\n",
            "Epoch 29 took 0.57s. Train loss: -0.8816 acc: 0.6699. Val loss: -1.0257 acc: 0.6880. Patience left: 10\n",
            "Epoch 30 took 0.58s. Train loss: -0.8988 acc: 0.6697. Val loss: -1.0454 acc: 0.6877. Patience left: 10\n",
            "Epoch 31 took 0.59s. Train loss: -0.9158 acc: 0.6695. Val loss: -1.0650 acc: 0.6875. Patience left: 10\n",
            "Epoch 32 took 0.59s. Train loss: -0.9327 acc: 0.6695. Val loss: -1.0845 acc: 0.6873. Patience left: 10\n",
            "Epoch 33 took 0.58s. Train loss: -0.9495 acc: 0.6693. Val loss: -1.1039 acc: 0.6866. Patience left: 10\n",
            "Epoch 34 took 0.58s. Train loss: -0.9662 acc: 0.6687. Val loss: -1.1232 acc: 0.6856. Patience left: 10\n",
            "Epoch 35 took 0.59s. Train loss: -0.9828 acc: 0.6682. Val loss: -1.1423 acc: 0.6856. Patience left: 10\n",
            "Epoch 36 took 0.56s. Train loss: -0.9993 acc: 0.6681. Val loss: -1.1614 acc: 0.6854. Patience left: 10\n",
            "Epoch 37 took 0.56s. Train loss: -1.0158 acc: 0.6680. Val loss: -1.1804 acc: 0.6853. Patience left: 10\n",
            "Epoch 38 took 0.56s. Train loss: -1.0321 acc: 0.6679. Val loss: -1.1993 acc: 0.6851. Patience left: 10\n",
            "Epoch 39 took 0.57s. Train loss: -1.0483 acc: 0.6678. Val loss: -1.2182 acc: 0.6849. Patience left: 10\n",
            "Epoch 40 took 0.59s. Train loss: -1.0645 acc: 0.6677. Val loss: -1.2369 acc: 0.6847. Patience left: 10\n",
            "Epoch 41 took 0.58s. Train loss: -1.0806 acc: 0.6675. Val loss: -1.2557 acc: 0.6845. Patience left: 10\n",
            "Epoch 42 took 0.57s. Train loss: -1.0967 acc: 0.6674. Val loss: -1.2743 acc: 0.6843. Patience left: 10\n",
            "Epoch 43 took 0.56s. Train loss: -1.1127 acc: 0.6672. Val loss: -1.2929 acc: 0.6839. Patience left: 10\n",
            "Epoch 44 took 0.57s. Train loss: -1.1286 acc: 0.6668. Val loss: -1.3114 acc: 0.6835. Patience left: 10\n",
            "Epoch 45 took 0.57s. Train loss: -1.1445 acc: 0.6665. Val loss: -1.3298 acc: 0.6833. Patience left: 10\n",
            "Epoch 46 took 0.57s. Train loss: -1.1603 acc: 0.6663. Val loss: -1.3482 acc: 0.6832. Patience left: 10\n",
            "Epoch 47 took 0.56s. Train loss: -1.1761 acc: 0.6662. Val loss: -1.3665 acc: 0.6831. Patience left: 10\n",
            "Epoch 48 took 0.58s. Train loss: -1.1918 acc: 0.6661. Val loss: -1.3848 acc: 0.6829. Patience left: 10\n",
            "Epoch 49 took 0.57s. Train loss: -1.2075 acc: 0.6660. Val loss: -1.4030 acc: 0.6828. Patience left: 10\n",
            "Epoch 50 took 0.58s. Train loss: -1.2231 acc: 0.6659. Val loss: -1.4211 acc: 0.6827. Patience left: 10\n",
            "Epoch 51 took 0.57s. Train loss: -1.2387 acc: 0.6658. Val loss: -1.4392 acc: 0.6826. Patience left: 10\n",
            "Epoch 52 took 0.57s. Train loss: -1.2542 acc: 0.6656. Val loss: -1.4572 acc: 0.6824. Patience left: 10\n",
            "Epoch 53 took 0.58s. Train loss: -1.2697 acc: 0.6655. Val loss: -1.4752 acc: 0.6823. Patience left: 10\n",
            "Epoch 54 took 0.57s. Train loss: -1.2852 acc: 0.6654. Val loss: -1.4931 acc: 0.6822. Patience left: 10\n",
            "Epoch 55 took 0.57s. Train loss: -1.3007 acc: 0.6652. Val loss: -1.5110 acc: 0.6821. Patience left: 10\n",
            "Epoch 56 took 0.58s. Train loss: -1.3161 acc: 0.6652. Val loss: -1.5289 acc: 0.6820. Patience left: 10\n",
            "Epoch 57 took 0.58s. Train loss: -1.3315 acc: 0.6651. Val loss: -1.5468 acc: 0.6819. Patience left: 10\n",
            "Epoch 58 took 0.59s. Train loss: -1.3469 acc: 0.6650. Val loss: -1.5646 acc: 0.6818. Patience left: 10\n",
            "Epoch 59 took 0.58s. Train loss: -1.3622 acc: 0.6650. Val loss: -1.5824 acc: 0.6818. Patience left: 10\n",
            "Epoch 60 took 0.57s. Train loss: -1.3774 acc: 0.6650. Val loss: -1.6001 acc: 0.6818. Patience left: 10\n",
            "Epoch 61 took 0.57s. Train loss: -1.3927 acc: 0.6650. Val loss: -1.6178 acc: 0.6818. Patience left: 10\n",
            "Epoch 62 took 0.58s. Train loss: -1.4079 acc: 0.6650. Val loss: -1.6355 acc: 0.6818. Patience left: 10\n",
            "Epoch 63 took 0.59s. Train loss: -1.4231 acc: 0.6650. Val loss: -1.6532 acc: 0.6818. Patience left: 10\n",
            "Epoch 64 took 0.58s. Train loss: -1.4383 acc: 0.6650. Val loss: -1.6709 acc: 0.6818. Patience left: 10\n",
            "Epoch 65 took 0.57s. Train loss: -1.4536 acc: 0.6650. Val loss: -1.6886 acc: 0.6818. Patience left: 10\n",
            "Epoch 66 took 0.57s. Train loss: -1.4688 acc: 0.6650. Val loss: -1.7063 acc: 0.6818. Patience left: 10\n",
            "Epoch 67 took 0.57s. Train loss: -1.4840 acc: 0.6650. Val loss: -1.7241 acc: 0.6818. Patience left: 10\n",
            "Epoch 68 took 0.58s. Train loss: -1.4993 acc: 0.6650. Val loss: -1.7420 acc: 0.6818. Patience left: 10\n",
            "Epoch 69 took 0.59s. Train loss: -1.5146 acc: 0.6650. Val loss: -1.7599 acc: 0.6818. Patience left: 10\n",
            "Epoch 70 took 0.58s. Train loss: -1.5300 acc: 0.6650. Val loss: -1.7779 acc: 0.6818. Patience left: 10\n",
            "Epoch 71 took 0.59s. Train loss: -1.5455 acc: 0.6650. Val loss: -1.7960 acc: 0.6818. Patience left: 10\n",
            "Epoch 72 took 0.59s. Train loss: -1.5611 acc: 0.6650. Val loss: -1.8142 acc: 0.6818. Patience left: 10\n",
            "Epoch 73 took 0.58s. Train loss: -1.5768 acc: 0.6650. Val loss: -1.8324 acc: 0.6818. Patience left: 10\n",
            "Epoch 74 took 0.57s. Train loss: -1.5926 acc: 0.6650. Val loss: -1.8505 acc: 0.6818. Patience left: 10\n",
            "Epoch 75 took 0.57s. Train loss: -1.6082 acc: 0.6650. Val loss: -1.8683 acc: 0.6818. Patience left: 10\n",
            "Epoch 76 took 0.58s. Train loss: -1.6234 acc: 0.6650. Val loss: -1.8858 acc: 0.6818. Patience left: 10\n",
            "Epoch 77 took 0.58s. Train loss: -1.6385 acc: 0.6650. Val loss: -1.9033 acc: 0.6818. Patience left: 10\n",
            "Epoch 78 took 0.59s. Train loss: -1.6534 acc: 0.6650. Val loss: -1.9207 acc: 0.6818. Patience left: 10\n",
            "Epoch 79 took 0.57s. Train loss: -1.6683 acc: 0.6650. Val loss: -1.9382 acc: 0.6818. Patience left: 10\n",
            "Epoch 80 took 0.58s. Train loss: -1.6833 acc: 0.6650. Val loss: -1.9558 acc: 0.6818. Patience left: 10\n",
            "Epoch 81 took 0.58s. Train loss: -1.6983 acc: 0.6650. Val loss: -1.9733 acc: 0.6818. Patience left: 10\n",
            "Epoch 82 took 0.58s. Train loss: -1.7133 acc: 0.6650. Val loss: -1.9907 acc: 0.6818. Patience left: 10\n",
            "Epoch 83 took 0.57s. Train loss: -1.7281 acc: 0.6650. Val loss: -2.0079 acc: 0.6818. Patience left: 10\n",
            "Epoch 84 took 0.58s. Train loss: -1.7429 acc: 0.6650. Val loss: -2.0251 acc: 0.6818. Patience left: 10\n",
            "Epoch 85 took 0.58s. Train loss: -1.7575 acc: 0.6650. Val loss: -2.0422 acc: 0.6818. Patience left: 10\n",
            "Epoch 86 took 0.58s. Train loss: -1.7722 acc: 0.6650. Val loss: -2.0594 acc: 0.6818. Patience left: 10\n",
            "Epoch 87 took 0.58s. Train loss: -1.7868 acc: 0.6650. Val loss: -2.0765 acc: 0.6818. Patience left: 10\n",
            "Epoch 88 took 0.57s. Train loss: -1.8015 acc: 0.6650. Val loss: -2.0936 acc: 0.6818. Patience left: 10\n",
            "Epoch 89 took 0.58s. Train loss: -1.8161 acc: 0.6650. Val loss: -2.1106 acc: 0.6818. Patience left: 10\n",
            "Epoch 90 took 0.58s. Train loss: -1.8306 acc: 0.6650. Val loss: -2.1276 acc: 0.6818. Patience left: 10\n",
            "Epoch 91 took 0.57s. Train loss: -1.8451 acc: 0.6650. Val loss: -2.1445 acc: 0.6818. Patience left: 10\n",
            "Epoch 92 took 0.57s. Train loss: -1.8596 acc: 0.6650. Val loss: -2.1614 acc: 0.6818. Patience left: 10\n",
            "Epoch 93 took 0.58s. Train loss: -1.8740 acc: 0.6650. Val loss: -2.1783 acc: 0.6818. Patience left: 10\n",
            "Epoch 94 took 0.57s. Train loss: -1.8884 acc: 0.6650. Val loss: -2.1952 acc: 0.6818. Patience left: 10\n",
            "Epoch 95 took 0.57s. Train loss: -1.9028 acc: 0.6650. Val loss: -2.2120 acc: 0.6818. Patience left: 10\n",
            "Epoch 96 took 0.57s. Train loss: -1.9172 acc: 0.6650. Val loss: -2.2288 acc: 0.6818. Patience left: 10\n",
            "Epoch 97 took 0.58s. Train loss: -1.9315 acc: 0.6650. Val loss: -2.2456 acc: 0.6818. Patience left: 10\n",
            "Epoch 98 took 0.58s. Train loss: -1.9458 acc: 0.6650. Val loss: -2.2623 acc: 0.6818. Patience left: 10\n",
            "Epoch 99 took 0.58s. Train loss: -1.9601 acc: 0.6650. Val loss: -2.2790 acc: 0.6818. Patience left: 10\n",
            "Epoch 100 took 0.59s. Train loss: -1.9744 acc: 0.6650. Val loss: -2.2957 acc: 0.6818. Patience left: 10\n",
            "0.6623624\n"
          ]
        }
      ]
    },
    {
      "cell_type": "code",
      "metadata": {
        "id": "Xerko_8Gl8F_",
        "colab": {
          "base_uri": "https://localhost:8080/",
          "height": 242
        },
        "outputId": "0665d177-d5f6-44af-ad69-8261f59f0a95"
      },
      "source": [
        "import matplotlib.pyplot as plt\n",
        "plt.plot(train_accs, \"--\", label=\"train\")\n",
        "plt.plot(val_accs, label=\"validation\")\n",
        "plt.axhline(test_acc)\n",
        "plt.ylabel(\"Accuracy\")\n",
        "plt.xlabel(\"Epoch\")\n",
        "plt.legend()"
      ],
      "execution_count": null,
      "outputs": [
        {
          "output_type": "execute_result",
          "data": {
            "text/plain": [
              "<matplotlib.legend.Legend at 0x7f131def9e90>"
            ]
          },
          "metadata": {},
          "execution_count": 71
        },
        {
          "output_type": "display_data",
          "data": {
            "text/plain": [
              "<Figure size 1080x216 with 1 Axes>"
            ],
            "image/png": "[encoded data removed]"
          },
          "metadata": {
            "needs_background": "light"
          }
        }
      ]
    },
    {
      "cell_type": "markdown",
      "metadata": {
        "id": "HXwJFNmM8X8l"
      },
      "source": [
        "## Compare performance of LSTM vs RNN vs GRU\n"
      ]
    },
    {
      "cell_type": "code",
      "source": [
        "def run_model(layer):\n",
        "  model = MethJointModel(layer, input_size = 2, num_cells = num_cells, embedding_size = embedding_size)\n",
        "\n",
        "  device = \"cuda\"\n",
        "  model.to(device)\n",
        "\n",
        "  optimizer = torch.optim.Adam(model.parameters(), amsgrad=True)\n",
        "\n",
        "  train_accs, val_accs = train_loop(model,\n",
        "                                  optimizer,\n",
        "                                  train_dataloader, \n",
        "                                  validation_dataloader,\n",
        "                                  check_point_filename = 'rnn_checkpoint.pt',\n",
        "                                  device = device,\n",
        "                                  max_epochs = 100) # high dimensional: takes longer to converge\n",
        "\n",
        "  test_loss, test_acc = run_one_epoch(False, test_dataloader, model, optimizer, device)\n",
        "  print(test_acc)\n",
        "  \n",
        "  return (train_accs[-1], val_accs[-1], test_acc)\n",
        "  \n",
        "rnn_results2 = []\n",
        "GRU_results2 = []\n",
        "LSTM_results2 = []\n"
      ],
      "metadata": {
        "id": "FfzEo5JKt6oR"
      },
      "execution_count": null,
      "outputs": []
    },
    {
      "cell_type": "code",
      "source": [
        "for i in range(3):\n",
        "  hidden_size = 32\n",
        "  num_cells = meth_mat.shape[1]\n",
        "  embedding_size = 3\n",
        "\n",
        "  rnn_layer = nn.RNN(input_size = num_cells * embedding_size, hidden_size = hidden_size)\n",
        "\n",
        "  rnn_results2.append( run_model(rnn_layer) )"
      ],
      "metadata": {
        "colab": {
          "base_uri": "https://localhost:8080/"
        },
        "id": "6TvF7EfGu5YR",
        "outputId": "d07b171b-b483-4d6c-e46f-045ae214ca46"
      },
      "execution_count": null,
      "outputs": [
        {
          "output_type": "stream",
          "name": "stdout",
          "text": [
            "Epoch 1 took 0.66s. Train loss: -0.4884 acc: 0.4737. Val loss: -0.5638 acc: 0.4949. Patience left: 10\n",
            "Epoch 2 took 0.59s. Train loss: -0.4944 acc: 0.5034. Val loss: -0.5708 acc: 0.5313. Patience left: 10\n",
            "Epoch 3 took 0.55s. Train loss: -0.5007 acc: 0.5357. Val loss: -0.5783 acc: 0.5621. Patience left: 10\n",
            "Epoch 4 took 0.52s. Train loss: -0.5074 acc: 0.5632. Val loss: -0.5864 acc: 0.5836. Patience left: 10\n",
            "Epoch 5 took 0.51s. Train loss: -0.5146 acc: 0.5824. Val loss: -0.5949 acc: 0.5959. Patience left: 10\n",
            "Epoch 6 took 0.51s. Train loss: -0.5223 acc: 0.5937. Val loss: -0.6038 acc: 0.6025. Patience left: 10\n",
            "Epoch 7 took 0.51s. Train loss: -0.5303 acc: 0.6004. Val loss: -0.6133 acc: 0.6070. Patience left: 10\n",
            "Epoch 8 took 0.50s. Train loss: -0.5388 acc: 0.6052. Val loss: -0.6231 acc: 0.6099. Patience left: 10\n",
            "Epoch 9 took 0.52s. Train loss: -0.5477 acc: 0.6078. Val loss: -0.6335 acc: 0.6125. Patience left: 10\n",
            "Epoch 10 took 0.51s. Train loss: -0.5570 acc: 0.6101. Val loss: -0.6443 acc: 0.6176. Patience left: 10\n",
            "Epoch 11 took 0.51s. Train loss: -0.5667 acc: 0.6148. Val loss: -0.6555 acc: 0.6242. Patience left: 10\n",
            "Epoch 12 took 0.50s. Train loss: -0.5767 acc: 0.6203. Val loss: -0.6672 acc: 0.6279. Patience left: 10\n",
            "Epoch 13 took 0.51s. Train loss: -0.5870 acc: 0.6238. Val loss: -0.6791 acc: 0.6304. Patience left: 10\n",
            "Epoch 14 took 0.51s. Train loss: -0.5976 acc: 0.6274. Val loss: -0.6915 acc: 0.6340. Patience left: 10\n",
            "Epoch 15 took 0.51s. Train loss: -0.6085 acc: 0.6318. Val loss: -0.7041 acc: 0.6415. Patience left: 10\n",
            "Epoch 16 took 0.51s. Train loss: -0.6196 acc: 0.6395. Val loss: -0.7172 acc: 0.6517. Patience left: 10\n",
            "Epoch 17 took 0.51s. Train loss: -0.6310 acc: 0.6461. Val loss: -0.7305 acc: 0.6598. Patience left: 10\n",
            "Epoch 18 took 0.51s. Train loss: -0.6427 acc: 0.6520. Val loss: -0.7443 acc: 0.6638. Patience left: 10\n",
            "Epoch 19 took 0.51s. Train loss: -0.6547 acc: 0.6542. Val loss: -0.7583 acc: 0.6645. Patience left: 10\n",
            "Epoch 20 took 0.50s. Train loss: -0.6669 acc: 0.6545. Val loss: -0.7727 acc: 0.6647. Patience left: 10\n",
            "Epoch 21 took 0.51s. Train loss: -0.6795 acc: 0.6548. Val loss: -0.7873 acc: 0.6682. Patience left: 10\n",
            "Epoch 22 took 0.51s. Train loss: -0.6922 acc: 0.6608. Val loss: -0.8023 acc: 0.6762. Patience left: 10\n",
            "Epoch 23 took 0.51s. Train loss: -0.7053 acc: 0.6670. Val loss: -0.8175 acc: 0.6771. Patience left: 10\n",
            "Epoch 24 took 0.50s. Train loss: -0.7185 acc: 0.6677. Val loss: -0.8330 acc: 0.6781. Patience left: 10\n",
            "Epoch 25 took 0.52s. Train loss: -0.7320 acc: 0.6685. Val loss: -0.8488 acc: 0.6795. Patience left: 10\n",
            "Epoch 26 took 0.56s. Train loss: -0.7458 acc: 0.6670. Val loss: -0.8648 acc: 0.6799. Patience left: 10\n",
            "Epoch 27 took 0.52s. Train loss: -0.7597 acc: 0.6670. Val loss: -0.8810 acc: 0.6800. Patience left: 10\n",
            "Epoch 28 took 0.50s. Train loss: -0.7738 acc: 0.6670. Val loss: -0.8974 acc: 0.6801. Patience left: 10\n",
            "Epoch 29 took 0.63s. Train loss: -0.7881 acc: 0.6670. Val loss: -0.9139 acc: 0.6801. Patience left: 10\n",
            "Epoch 30 took 0.51s. Train loss: -0.8025 acc: 0.6670. Val loss: -0.9307 acc: 0.6801. Patience left: 10\n",
            "Epoch 31 took 0.59s. Train loss: -0.8171 acc: 0.6670. Val loss: -0.9476 acc: 0.6807. Patience left: 10\n",
            "Epoch 32 took 0.51s. Train loss: -0.8317 acc: 0.6657. Val loss: -0.9646 acc: 0.6817. Patience left: 10\n",
            "Epoch 33 took 0.51s. Train loss: -0.8465 acc: 0.6649. Val loss: -0.9817 acc: 0.6818. Patience left: 10\n",
            "Epoch 34 took 0.50s. Train loss: -0.8613 acc: 0.6650. Val loss: -0.9989 acc: 0.6818. Patience left: 10\n",
            "Epoch 35 took 0.51s. Train loss: -0.8762 acc: 0.6650. Val loss: -1.0161 acc: 0.6818. Patience left: 10\n",
            "Epoch 36 took 0.50s. Train loss: -0.8911 acc: 0.6650. Val loss: -1.0335 acc: 0.6818. Patience left: 10\n",
            "Epoch 37 took 0.51s. Train loss: -0.9061 acc: 0.6650. Val loss: -1.0509 acc: 0.6818. Patience left: 10\n",
            "Epoch 38 took 0.50s. Train loss: -0.9211 acc: 0.6650. Val loss: -1.0683 acc: 0.6818. Patience left: 10\n",
            "Epoch 39 took 0.50s. Train loss: -0.9361 acc: 0.6650. Val loss: -1.0858 acc: 0.6818. Patience left: 10\n",
            "Epoch 40 took 0.50s. Train loss: -0.9512 acc: 0.6650. Val loss: -1.1033 acc: 0.6818. Patience left: 10\n",
            "Epoch 41 took 0.50s. Train loss: -0.9663 acc: 0.6650. Val loss: -1.1209 acc: 0.6818. Patience left: 10\n",
            "Epoch 42 took 0.51s. Train loss: -0.9814 acc: 0.6650. Val loss: -1.1384 acc: 0.6818. Patience left: 10\n",
            "Epoch 43 took 0.51s. Train loss: -0.9965 acc: 0.6650. Val loss: -1.1560 acc: 0.6818. Patience left: 10\n",
            "Epoch 44 took 0.50s. Train loss: -1.0116 acc: 0.6650. Val loss: -1.1736 acc: 0.6818. Patience left: 10\n",
            "Epoch 45 took 0.50s. Train loss: -1.0267 acc: 0.6650. Val loss: -1.1912 acc: 0.6818. Patience left: 10\n",
            "Epoch 46 took 0.50s. Train loss: -1.0418 acc: 0.6650. Val loss: -1.2088 acc: 0.6818. Patience left: 10\n",
            "Epoch 47 took 0.51s. Train loss: -1.0569 acc: 0.6650. Val loss: -1.2263 acc: 0.6818. Patience left: 10\n",
            "Epoch 48 took 0.49s. Train loss: -1.0720 acc: 0.6650. Val loss: -1.2439 acc: 0.6818. Patience left: 10\n",
            "Epoch 49 took 0.50s. Train loss: -1.0871 acc: 0.6650. Val loss: -1.2614 acc: 0.6818. Patience left: 10\n",
            "Epoch 50 took 0.51s. Train loss: -1.1021 acc: 0.6650. Val loss: -1.2789 acc: 0.6818. Patience left: 10\n",
            "Epoch 51 took 0.50s. Train loss: -1.1171 acc: 0.6650. Val loss: -1.2965 acc: 0.6818. Patience left: 10\n",
            "Epoch 52 took 0.50s. Train loss: -1.1321 acc: 0.6650. Val loss: -1.3139 acc: 0.6818. Patience left: 10\n",
            "Epoch 53 took 0.51s. Train loss: -1.1471 acc: 0.6650. Val loss: -1.3314 acc: 0.6818. Patience left: 10\n",
            "Epoch 54 took 0.50s. Train loss: -1.1621 acc: 0.6650. Val loss: -1.3488 acc: 0.6818. Patience left: 10\n",
            "Epoch 55 took 0.50s. Train loss: -1.1770 acc: 0.6650. Val loss: -1.3662 acc: 0.6818. Patience left: 10\n",
            "Epoch 56 took 0.49s. Train loss: -1.1919 acc: 0.6650. Val loss: -1.3836 acc: 0.6818. Patience left: 10\n",
            "Epoch 57 took 0.50s. Train loss: -1.2068 acc: 0.6650. Val loss: -1.4009 acc: 0.6818. Patience left: 10\n",
            "Epoch 58 took 0.51s. Train loss: -1.2216 acc: 0.6650. Val loss: -1.4182 acc: 0.6818. Patience left: 10\n",
            "Epoch 59 took 0.58s. Train loss: -1.2364 acc: 0.6650. Val loss: -1.4355 acc: 0.6818. Patience left: 10\n",
            "Epoch 60 took 0.77s. Train loss: -1.2512 acc: 0.6650. Val loss: -1.4528 acc: 0.6818. Patience left: 10\n",
            "Epoch 61 took 0.77s. Train loss: -1.2659 acc: 0.6650. Val loss: -1.4700 acc: 0.6818. Patience left: 10\n",
            "Epoch 62 took 0.83s. Train loss: -1.2806 acc: 0.6650. Val loss: -1.4872 acc: 0.6818. Patience left: 10\n",
            "Epoch 63 took 0.65s. Train loss: -1.2953 acc: 0.6650. Val loss: -1.5043 acc: 0.6818. Patience left: 10\n",
            "Epoch 64 took 0.51s. Train loss: -1.3100 acc: 0.6650. Val loss: -1.5214 acc: 0.6818. Patience left: 10\n",
            "Epoch 65 took 0.53s. Train loss: -1.3246 acc: 0.6650. Val loss: -1.5385 acc: 0.6818. Patience left: 10\n",
            "Epoch 66 took 0.52s. Train loss: -1.3392 acc: 0.6650. Val loss: -1.5556 acc: 0.6818. Patience left: 10\n",
            "Epoch 67 took 0.62s. Train loss: -1.3538 acc: 0.6650. Val loss: -1.5726 acc: 0.6818. Patience left: 10\n",
            "Epoch 68 took 0.54s. Train loss: -1.3683 acc: 0.6650. Val loss: -1.5895 acc: 0.6818. Patience left: 10\n",
            "Epoch 69 took 0.50s. Train loss: -1.3828 acc: 0.6650. Val loss: -1.6065 acc: 0.6818. Patience left: 10\n",
            "Epoch 70 took 0.50s. Train loss: -1.3973 acc: 0.6650. Val loss: -1.6234 acc: 0.6818. Patience left: 10\n",
            "Epoch 71 took 0.50s. Train loss: -1.4117 acc: 0.6650. Val loss: -1.6403 acc: 0.6818. Patience left: 10\n",
            "Epoch 72 took 0.49s. Train loss: -1.4261 acc: 0.6650. Val loss: -1.6571 acc: 0.6818. Patience left: 10\n",
            "Epoch 73 took 0.51s. Train loss: -1.4405 acc: 0.6650. Val loss: -1.6739 acc: 0.6818. Patience left: 10\n",
            "Epoch 74 took 0.50s. Train loss: -1.4548 acc: 0.6650. Val loss: -1.6907 acc: 0.6818. Patience left: 10\n",
            "Epoch 75 took 0.50s. Train loss: -1.4692 acc: 0.6650. Val loss: -1.7075 acc: 0.6818. Patience left: 10\n",
            "Epoch 76 took 0.50s. Train loss: -1.4834 acc: 0.6650. Val loss: -1.7242 acc: 0.6818. Patience left: 10\n",
            "Epoch 77 took 0.51s. Train loss: -1.4977 acc: 0.6650. Val loss: -1.7409 acc: 0.6818. Patience left: 10\n",
            "Epoch 78 took 0.50s. Train loss: -1.5120 acc: 0.6650. Val loss: -1.7576 acc: 0.6818. Patience left: 10\n",
            "Epoch 79 took 0.51s. Train loss: -1.5262 acc: 0.6650. Val loss: -1.7742 acc: 0.6818. Patience left: 10\n",
            "Epoch 80 took 0.52s. Train loss: -1.5404 acc: 0.6650. Val loss: -1.7908 acc: 0.6818. Patience left: 10\n",
            "Epoch 81 took 0.53s. Train loss: -1.5545 acc: 0.6650. Val loss: -1.8074 acc: 0.6818. Patience left: 10\n",
            "Epoch 82 took 0.50s. Train loss: -1.5686 acc: 0.6650. Val loss: -1.8239 acc: 0.6818. Patience left: 10\n",
            "Epoch 83 took 0.54s. Train loss: -1.5828 acc: 0.6650. Val loss: -1.8404 acc: 0.6818. Patience left: 10\n",
            "Epoch 84 took 0.50s. Train loss: -1.5968 acc: 0.6650. Val loss: -1.8569 acc: 0.6818. Patience left: 10\n",
            "Epoch 85 took 0.58s. Train loss: -1.6109 acc: 0.6650. Val loss: -1.8734 acc: 0.6818. Patience left: 10\n",
            "Epoch 86 took 0.67s. Train loss: -1.6249 acc: 0.6650. Val loss: -1.8898 acc: 0.6818. Patience left: 10\n",
            "Epoch 87 took 0.67s. Train loss: -1.6390 acc: 0.6650. Val loss: -1.9062 acc: 0.6818. Patience left: 10\n",
            "Epoch 88 took 0.53s. Train loss: -1.6530 acc: 0.6650. Val loss: -1.9226 acc: 0.6818. Patience left: 10\n",
            "Epoch 89 took 0.53s. Train loss: -1.6669 acc: 0.6650. Val loss: -1.9390 acc: 0.6818. Patience left: 10\n",
            "Epoch 90 took 0.52s. Train loss: -1.6809 acc: 0.6650. Val loss: -1.9553 acc: 0.6818. Patience left: 10\n",
            "Epoch 91 took 0.51s. Train loss: -1.6948 acc: 0.6650. Val loss: -1.9716 acc: 0.6818. Patience left: 10\n",
            "Epoch 92 took 0.51s. Train loss: -1.7087 acc: 0.6650. Val loss: -1.9879 acc: 0.6818. Patience left: 10\n",
            "Epoch 93 took 0.51s. Train loss: -1.7226 acc: 0.6650. Val loss: -2.0042 acc: 0.6818. Patience left: 10\n",
            "Epoch 94 took 0.51s. Train loss: -1.7365 acc: 0.6650. Val loss: -2.0204 acc: 0.6818. Patience left: 10\n",
            "Epoch 95 took 0.51s. Train loss: -1.7503 acc: 0.6650. Val loss: -2.0367 acc: 0.6818. Patience left: 10\n",
            "Epoch 96 took 0.50s. Train loss: -1.7641 acc: 0.6650. Val loss: -2.0529 acc: 0.6818. Patience left: 10\n",
            "Epoch 97 took 0.50s. Train loss: -1.7779 acc: 0.6650. Val loss: -2.0691 acc: 0.6818. Patience left: 10\n",
            "Epoch 98 took 0.50s. Train loss: -1.7917 acc: 0.6650. Val loss: -2.0852 acc: 0.6818. Patience left: 10\n",
            "Epoch 99 took 0.51s. Train loss: -1.8055 acc: 0.6650. Val loss: -2.1013 acc: 0.6818. Patience left: 10\n",
            "Epoch 100 took 0.50s. Train loss: -1.8193 acc: 0.6650. Val loss: -2.1175 acc: 0.6818. Patience left: 10\n",
            "0.6623624\n",
            "Epoch 1 took 0.50s. Train loss: -0.4943 acc: 0.4954. Val loss: -0.5709 acc: 0.5158. Patience left: 10\n",
            "Epoch 2 took 0.51s. Train loss: -0.5008 acc: 0.5218. Val loss: -0.5785 acc: 0.5455. Patience left: 10\n",
            "Epoch 3 took 0.50s. Train loss: -0.5077 acc: 0.5478. Val loss: -0.5867 acc: 0.5714. Patience left: 10\n",
            "Epoch 4 took 0.51s. Train loss: -0.5151 acc: 0.5697. Val loss: -0.5956 acc: 0.5908. Patience left: 10\n",
            "Epoch 5 took 0.51s. Train loss: -0.5232 acc: 0.5871. Val loss: -0.6053 acc: 0.6052. Patience left: 10\n",
            "Epoch 6 took 0.51s. Train loss: -0.5319 acc: 0.6005. Val loss: -0.6157 acc: 0.6165. Patience left: 10\n",
            "Epoch 7 took 0.50s. Train loss: -0.5412 acc: 0.6111. Val loss: -0.6268 acc: 0.6255. Patience left: 10\n",
            "Epoch 8 took 0.51s. Train loss: -0.5511 acc: 0.6194. Val loss: -0.6384 acc: 0.6329. Patience left: 10\n",
            "Epoch 9 took 0.51s. Train loss: -0.5615 acc: 0.6258. Val loss: -0.6507 acc: 0.6388. Patience left: 10\n",
            "Epoch 10 took 0.51s. Train loss: -0.5724 acc: 0.6305. Val loss: -0.6634 acc: 0.6442. Patience left: 10\n",
            "Epoch 11 took 0.50s. Train loss: -0.5837 acc: 0.6347. Val loss: -0.6766 acc: 0.6503. Patience left: 10\n",
            "Epoch 12 took 0.51s. Train loss: -0.5954 acc: 0.6397. Val loss: -0.6903 acc: 0.6563. Patience left: 10\n",
            "Epoch 13 took 0.50s. Train loss: -0.6076 acc: 0.6441. Val loss: -0.7044 acc: 0.6602. Patience left: 10\n",
            "Epoch 14 took 0.51s. Train loss: -0.6200 acc: 0.6456. Val loss: -0.7189 acc: 0.6633. Patience left: 10\n",
            "Epoch 15 took 0.50s. Train loss: -0.6328 acc: 0.6464. Val loss: -0.7338 acc: 0.6669. Patience left: 10\n",
            "Epoch 16 took 0.51s. Train loss: -0.6458 acc: 0.6491. Val loss: -0.7490 acc: 0.6737. Patience left: 10\n",
            "Epoch 17 took 0.50s. Train loss: -0.6591 acc: 0.6550. Val loss: -0.7645 acc: 0.6794. Patience left: 10\n",
            "Epoch 18 took 0.51s. Train loss: -0.6726 acc: 0.6598. Val loss: -0.7803 acc: 0.6819. Patience left: 10\n",
            "Epoch 19 took 0.50s. Train loss: -0.6864 acc: 0.6624. Val loss: -0.7962 acc: 0.6831. Patience left: 10\n",
            "Epoch 20 took 0.51s. Train loss: -0.7003 acc: 0.6645. Val loss: -0.8124 acc: 0.6839. Patience left: 10\n",
            "Epoch 21 took 0.51s. Train loss: -0.7144 acc: 0.6673. Val loss: -0.8288 acc: 0.6851. Patience left: 10\n",
            "Epoch 22 took 0.51s. Train loss: -0.7286 acc: 0.6684. Val loss: -0.8453 acc: 0.6834. Patience left: 10\n",
            "Epoch 23 took 0.50s. Train loss: -0.7429 acc: 0.6664. Val loss: -0.8619 acc: 0.6823. Patience left: 10\n",
            "Epoch 24 took 0.54s. Train loss: -0.7574 acc: 0.6654. Val loss: -0.8787 acc: 0.6820. Patience left: 10\n",
            "Epoch 25 took 0.50s. Train loss: -0.7720 acc: 0.6652. Val loss: -0.8956 acc: 0.6819. Patience left: 10\n",
            "Epoch 26 took 0.51s. Train loss: -0.7867 acc: 0.6651. Val loss: -0.9126 acc: 0.6819. Patience left: 10\n",
            "Epoch 27 took 0.50s. Train loss: -0.8015 acc: 0.6650. Val loss: -0.9298 acc: 0.6818. Patience left: 10\n",
            "Epoch 28 took 0.51s. Train loss: -0.8164 acc: 0.6650. Val loss: -0.9470 acc: 0.6818. Patience left: 10\n",
            "Epoch 29 took 0.51s. Train loss: -0.8313 acc: 0.6650. Val loss: -0.9644 acc: 0.6818. Patience left: 10\n",
            "Epoch 30 took 0.51s. Train loss: -0.8464 acc: 0.6650. Val loss: -0.9819 acc: 0.6818. Patience left: 10\n",
            "Epoch 31 took 0.50s. Train loss: -0.8615 acc: 0.6650. Val loss: -0.9994 acc: 0.6818. Patience left: 10\n",
            "Epoch 32 took 0.51s. Train loss: -0.8767 acc: 0.6650. Val loss: -1.0170 acc: 0.6818. Patience left: 10\n",
            "Epoch 33 took 0.50s. Train loss: -0.8919 acc: 0.6650. Val loss: -1.0346 acc: 0.6818. Patience left: 10\n",
            "Epoch 34 took 0.51s. Train loss: -0.9072 acc: 0.6650. Val loss: -1.0523 acc: 0.6818. Patience left: 10\n",
            "Epoch 35 took 0.50s. Train loss: -0.9225 acc: 0.6650. Val loss: -1.0701 acc: 0.6818. Patience left: 10\n",
            "Epoch 36 took 0.51s. Train loss: -0.9378 acc: 0.6650. Val loss: -1.0879 acc: 0.6818. Patience left: 10\n",
            "Epoch 37 took 0.51s. Train loss: -0.9532 acc: 0.6650. Val loss: -1.1057 acc: 0.6818. Patience left: 10\n",
            "Epoch 38 took 0.51s. Train loss: -0.9686 acc: 0.6650. Val loss: -1.1235 acc: 0.6818. Patience left: 10\n",
            "Epoch 39 took 0.71s. Train loss: -0.9839 acc: 0.6650. Val loss: -1.1413 acc: 0.6818. Patience left: 10\n",
            "Epoch 40 took 0.51s. Train loss: -0.9993 acc: 0.6650. Val loss: -1.1592 acc: 0.6818. Patience left: 10\n",
            "Epoch 41 took 0.51s. Train loss: -1.0147 acc: 0.6650. Val loss: -1.1770 acc: 0.6818. Patience left: 10\n",
            "Epoch 42 took 0.50s. Train loss: -1.0301 acc: 0.6650. Val loss: -1.1949 acc: 0.6818. Patience left: 10\n",
            "Epoch 43 took 0.50s. Train loss: -1.0454 acc: 0.6650. Val loss: -1.2128 acc: 0.6818. Patience left: 10\n",
            "Epoch 44 took 0.51s. Train loss: -1.0608 acc: 0.6650. Val loss: -1.2306 acc: 0.6818. Patience left: 10\n",
            "Epoch 45 took 0.50s. Train loss: -1.0762 acc: 0.6650. Val loss: -1.2485 acc: 0.6818. Patience left: 10\n",
            "Epoch 46 took 0.51s. Train loss: -1.0916 acc: 0.6650. Val loss: -1.2664 acc: 0.6818. Patience left: 10\n",
            "Epoch 47 took 0.50s. Train loss: -1.1071 acc: 0.6650. Val loss: -1.2843 acc: 0.6818. Patience left: 10\n",
            "Epoch 48 took 0.51s. Train loss: -1.1225 acc: 0.6650. Val loss: -1.3022 acc: 0.6818. Patience left: 10\n",
            "Epoch 49 took 0.50s. Train loss: -1.1380 acc: 0.6650. Val loss: -1.3201 acc: 0.6818. Patience left: 10\n",
            "Epoch 50 took 0.51s. Train loss: -1.1535 acc: 0.6650. Val loss: -1.3380 acc: 0.6818. Patience left: 10\n",
            "Epoch 51 took 0.50s. Train loss: -1.1691 acc: 0.6650. Val loss: -1.3560 acc: 0.6818. Patience left: 10\n",
            "Epoch 52 took 0.51s. Train loss: -1.1846 acc: 0.6650. Val loss: -1.3739 acc: 0.6818. Patience left: 10\n",
            "Epoch 53 took 0.51s. Train loss: -1.2001 acc: 0.6650. Val loss: -1.3919 acc: 0.6818. Patience left: 10\n",
            "Epoch 54 took 0.51s. Train loss: -1.2157 acc: 0.6650. Val loss: -1.4100 acc: 0.6818. Patience left: 10\n",
            "Epoch 55 took 0.50s. Train loss: -1.2313 acc: 0.6650. Val loss: -1.4282 acc: 0.6818. Patience left: 10\n",
            "Epoch 56 took 0.51s. Train loss: -1.2471 acc: 0.6650. Val loss: -1.4465 acc: 0.6818. Patience left: 10\n",
            "Epoch 57 took 0.51s. Train loss: -1.2629 acc: 0.6650. Val loss: -1.4648 acc: 0.6818. Patience left: 10\n",
            "Epoch 58 took 0.51s. Train loss: -1.2788 acc: 0.6650. Val loss: -1.4832 acc: 0.6818. Patience left: 10\n",
            "Epoch 59 took 0.50s. Train loss: -1.2947 acc: 0.6650. Val loss: -1.5016 acc: 0.6818. Patience left: 10\n",
            "Epoch 60 took 0.63s. Train loss: -1.3106 acc: 0.6650. Val loss: -1.5200 acc: 0.6818. Patience left: 10\n",
            "Epoch 61 took 0.55s. Train loss: -1.3265 acc: 0.6650. Val loss: -1.5384 acc: 0.6818. Patience left: 10\n",
            "Epoch 62 took 0.51s. Train loss: -1.3423 acc: 0.6650. Val loss: -1.5570 acc: 0.6818. Patience left: 10\n",
            "Epoch 63 took 0.50s. Train loss: -1.3582 acc: 0.6650. Val loss: -1.5756 acc: 0.6818. Patience left: 10\n",
            "Epoch 64 took 0.51s. Train loss: -1.3742 acc: 0.6650. Val loss: -1.5942 acc: 0.6818. Patience left: 10\n",
            "Epoch 65 took 0.50s. Train loss: -1.3902 acc: 0.6650. Val loss: -1.6128 acc: 0.6818. Patience left: 10\n",
            "Epoch 66 took 0.51s. Train loss: -1.4062 acc: 0.6650. Val loss: -1.6313 acc: 0.6818. Patience left: 10\n",
            "Epoch 67 took 0.50s. Train loss: -1.4221 acc: 0.6650. Val loss: -1.6498 acc: 0.6818. Patience left: 10\n",
            "Epoch 68 took 0.51s. Train loss: -1.4380 acc: 0.6650. Val loss: -1.6683 acc: 0.6818. Patience left: 10\n",
            "Epoch 69 took 0.51s. Train loss: -1.4539 acc: 0.6650. Val loss: -1.6868 acc: 0.6818. Patience left: 10\n",
            "Epoch 70 took 0.50s. Train loss: -1.4698 acc: 0.6650. Val loss: -1.7053 acc: 0.6818. Patience left: 10\n",
            "Epoch 71 took 0.52s. Train loss: -1.4857 acc: 0.6650. Val loss: -1.7239 acc: 0.6818. Patience left: 10\n",
            "Epoch 72 took 0.51s. Train loss: -1.5016 acc: 0.6650. Val loss: -1.7425 acc: 0.6818. Patience left: 10\n",
            "Epoch 73 took 0.51s. Train loss: -1.5178 acc: 0.6650. Val loss: -1.7614 acc: 0.6818. Patience left: 10\n",
            "Epoch 74 took 0.51s. Train loss: -1.5343 acc: 0.6650. Val loss: -1.7806 acc: 0.6818. Patience left: 10\n",
            "Epoch 75 took 0.50s. Train loss: -1.5512 acc: 0.6650. Val loss: -1.8003 acc: 0.6818. Patience left: 10\n",
            "Epoch 76 took 0.50s. Train loss: -1.5687 acc: 0.6650. Val loss: -1.8205 acc: 0.6818. Patience left: 10\n",
            "Epoch 77 took 0.50s. Train loss: -1.5867 acc: 0.6650. Val loss: -1.8411 acc: 0.6818. Patience left: 10\n",
            "Epoch 78 took 0.50s. Train loss: -1.6050 acc: 0.6650. Val loss: -1.8618 acc: 0.6818. Patience left: 10\n",
            "Epoch 79 took 0.50s. Train loss: -1.6231 acc: 0.6650. Val loss: -1.8819 acc: 0.6818. Patience left: 10\n",
            "Epoch 80 took 0.50s. Train loss: -1.6406 acc: 0.6650. Val loss: -1.9017 acc: 0.6818. Patience left: 10\n",
            "Epoch 81 took 0.50s. Train loss: -1.6579 acc: 0.6650. Val loss: -1.9220 acc: 0.6818. Patience left: 10\n",
            "Epoch 82 took 0.50s. Train loss: -1.6759 acc: 0.6650. Val loss: -1.9432 acc: 0.6818. Patience left: 10\n",
            "Epoch 83 took 0.50s. Train loss: -1.6945 acc: 0.6650. Val loss: -1.9648 acc: 0.6818. Patience left: 10\n",
            "Epoch 84 took 0.50s. Train loss: -1.7136 acc: 0.6650. Val loss: -1.9865 acc: 0.6818. Patience left: 10\n",
            "Epoch 85 took 0.50s. Train loss: -1.7326 acc: 0.6650. Val loss: -2.0078 acc: 0.6818. Patience left: 10\n",
            "Epoch 86 took 0.51s. Train loss: -1.7510 acc: 0.6650. Val loss: -2.0283 acc: 0.6818. Patience left: 10\n",
            "Epoch 87 took 0.50s. Train loss: -1.7686 acc: 0.6650. Val loss: -2.0484 acc: 0.6818. Patience left: 10\n",
            "Epoch 88 took 0.51s. Train loss: -1.7860 acc: 0.6675. Val loss: -2.0689 acc: 0.6890. Patience left: 10\n",
            "Epoch 89 took 0.51s. Train loss: -1.8038 acc: 0.6708. Val loss: -2.0897 acc: 0.6885. Patience left: 10\n",
            "Epoch 90 took 0.50s. Train loss: -1.8218 acc: 0.6701. Val loss: -2.1103 acc: 0.6878. Patience left: 10\n",
            "Epoch 91 took 0.50s. Train loss: -1.8397 acc: 0.6694. Val loss: -2.1308 acc: 0.6874. Patience left: 10\n",
            "Epoch 92 took 0.51s. Train loss: -1.8574 acc: 0.6689. Val loss: -2.1512 acc: 0.6870. Patience left: 10\n",
            "Epoch 93 took 0.50s. Train loss: -1.8750 acc: 0.6684. Val loss: -2.1717 acc: 0.6867. Patience left: 10\n",
            "Epoch 94 took 0.50s. Train loss: -1.8928 acc: 0.6681. Val loss: -2.1925 acc: 0.6865. Patience left: 10\n",
            "Epoch 95 took 0.50s. Train loss: -1.9111 acc: 0.6679. Val loss: -2.2141 acc: 0.6910. Patience left: 10\n",
            "Epoch 96 took 0.51s. Train loss: -1.9305 acc: 0.6717. Val loss: -2.2371 acc: 0.6938. Patience left: 10\n",
            "Epoch 97 took 0.50s. Train loss: -1.9517 acc: 0.6729. Val loss: -2.2626 acc: 0.6933. Patience left: 10\n",
            "Epoch 98 took 0.50s. Train loss: -1.9760 acc: 0.6723. Val loss: -2.2915 acc: 0.6929. Patience left: 10\n",
            "Epoch 99 took 0.50s. Train loss: -2.0037 acc: 0.6718. Val loss: -2.3231 acc: 0.6928. Patience left: 10\n",
            "Epoch 100 took 0.51s. Train loss: -2.0331 acc: 0.6717. Val loss: -2.3541 acc: 0.6930. Patience left: 10\n",
            "0.6715579\n",
            "Epoch 1 took 0.51s. Train loss: -0.4923 acc: 0.4685. Val loss: -0.5657 acc: 0.4871. Patience left: 10\n",
            "Epoch 2 took 0.50s. Train loss: -0.4966 acc: 0.4978. Val loss: -0.5699 acc: 0.5146. Patience left: 10\n",
            "Epoch 3 took 0.50s. Train loss: -0.5009 acc: 0.5237. Val loss: -0.5743 acc: 0.5383. Patience left: 10\n",
            "Epoch 4 took 0.49s. Train loss: -0.5052 acc: 0.5463. Val loss: -0.5788 acc: 0.5596. Patience left: 10\n",
            "Epoch 5 took 0.50s. Train loss: -0.5097 acc: 0.5665. Val loss: -0.5836 acc: 0.5797. Patience left: 10\n",
            "Epoch 6 took 0.50s. Train loss: -0.5146 acc: 0.5858. Val loss: -0.5889 acc: 0.5976. Patience left: 10\n",
            "Epoch 7 took 0.50s. Train loss: -0.5198 acc: 0.6030. Val loss: -0.5948 acc: 0.6138. Patience left: 10\n",
            "Epoch 8 took 0.50s. Train loss: -0.5257 acc: 0.6180. Val loss: -0.6015 acc: 0.6275. Patience left: 10\n",
            "Epoch 9 took 0.50s. Train loss: -0.5322 acc: 0.6303. Val loss: -0.6090 acc: 0.6387. Patience left: 10\n",
            "Epoch 10 took 0.51s. Train loss: -0.5396 acc: 0.6396. Val loss: -0.6176 acc: 0.6474. Patience left: 10\n",
            "Epoch 11 took 0.50s. Train loss: -0.5478 acc: 0.6470. Val loss: -0.6272 acc: 0.6540. Patience left: 10\n",
            "Epoch 12 took 0.49s. Train loss: -0.5570 acc: 0.6518. Val loss: -0.6379 acc: 0.6570. Patience left: 10\n",
            "Epoch 13 took 0.50s. Train loss: -0.5670 acc: 0.6535. Val loss: -0.6497 acc: 0.6567. Patience left: 10\n",
            "Epoch 14 took 0.50s. Train loss: -0.5779 acc: 0.6535. Val loss: -0.6625 acc: 0.6562. Patience left: 10\n",
            "Epoch 15 took 0.50s. Train loss: -0.5897 acc: 0.6534. Val loss: -0.6762 acc: 0.6576. Patience left: 10\n",
            "Epoch 16 took 0.50s. Train loss: -0.6023 acc: 0.6554. Val loss: -0.6907 acc: 0.6636. Patience left: 10\n",
            "Epoch 17 took 0.50s. Train loss: -0.6155 acc: 0.6616. Val loss: -0.7060 acc: 0.6736. Patience left: 10\n",
            "Epoch 18 took 0.50s. Train loss: -0.6293 acc: 0.6682. Val loss: -0.7220 acc: 0.6776. Patience left: 10\n",
            "Epoch 19 took 0.51s. Train loss: -0.6436 acc: 0.6696. Val loss: -0.7385 acc: 0.6770. Patience left: 10\n",
            "Epoch 20 took 0.50s. Train loss: -0.6584 acc: 0.6687. Val loss: -0.7555 acc: 0.6764. Patience left: 10\n",
            "Epoch 21 took 0.51s. Train loss: -0.6734 acc: 0.6682. Val loss: -0.7728 acc: 0.6764. Patience left: 10\n",
            "Epoch 22 took 0.51s. Train loss: -0.6887 acc: 0.6681. Val loss: -0.7904 acc: 0.6766. Patience left: 10\n",
            "Epoch 23 took 0.50s. Train loss: -0.7043 acc: 0.6684. Val loss: -0.8082 acc: 0.6776. Patience left: 10\n",
            "Epoch 24 took 0.50s. Train loss: -0.7200 acc: 0.6692. Val loss: -0.8263 acc: 0.6803. Patience left: 10\n",
            "Epoch 25 took 0.51s. Train loss: -0.7358 acc: 0.6717. Val loss: -0.8445 acc: 0.6838. Patience left: 10\n",
            "Epoch 26 took 0.50s. Train loss: -0.7518 acc: 0.6726. Val loss: -0.8629 acc: 0.6812. Patience left: 10\n",
            "Epoch 27 took 0.50s. Train loss: -0.7679 acc: 0.6700. Val loss: -0.8815 acc: 0.6799. Patience left: 10\n",
            "Epoch 28 took 0.50s. Train loss: -0.7841 acc: 0.6688. Val loss: -0.9002 acc: 0.6794. Patience left: 10\n",
            "Epoch 29 took 0.50s. Train loss: -0.8005 acc: 0.6684. Val loss: -0.9190 acc: 0.6793. Patience left: 10\n",
            "Epoch 30 took 0.50s. Train loss: -0.8169 acc: 0.6683. Val loss: -0.9380 acc: 0.6806. Patience left: 10\n",
            "Epoch 31 took 0.50s. Train loss: -0.8335 acc: 0.6704. Val loss: -0.9571 acc: 0.6836. Patience left: 10\n",
            "Epoch 32 took 0.50s. Train loss: -0.8501 acc: 0.6706. Val loss: -0.9763 acc: 0.6821. Patience left: 10\n",
            "Epoch 33 took 0.50s. Train loss: -0.8669 acc: 0.6692. Val loss: -0.9957 acc: 0.6815. Patience left: 10\n",
            "Epoch 34 took 0.51s. Train loss: -0.8837 acc: 0.6685. Val loss: -1.0151 acc: 0.6811. Patience left: 10\n",
            "Epoch 35 took 0.50s. Train loss: -0.9006 acc: 0.6681. Val loss: -1.0347 acc: 0.6808. Patience left: 10\n",
            "Epoch 36 took 0.50s. Train loss: -0.9176 acc: 0.6678. Val loss: -1.0544 acc: 0.6806. Patience left: 10\n",
            "Epoch 37 took 0.50s. Train loss: -0.9347 acc: 0.6674. Val loss: -1.0742 acc: 0.6802. Patience left: 10\n",
            "Epoch 38 took 0.50s. Train loss: -0.9519 acc: 0.6671. Val loss: -1.0941 acc: 0.6856. Patience left: 10\n",
            "Epoch 39 took 0.50s. Train loss: -0.9692 acc: 0.6723. Val loss: -1.1141 acc: 0.6885. Patience left: 10\n",
            "Epoch 40 took 0.49s. Train loss: -0.9866 acc: 0.6725. Val loss: -1.1343 acc: 0.6874. Patience left: 10\n",
            "Epoch 41 took 0.50s. Train loss: -1.0042 acc: 0.6711. Val loss: -1.1546 acc: 0.6864. Patience left: 10\n",
            "Epoch 42 took 0.50s. Train loss: -1.0218 acc: 0.6699. Val loss: -1.1751 acc: 0.6857. Patience left: 10\n",
            "Epoch 43 took 0.50s. Train loss: -1.0396 acc: 0.6690. Val loss: -1.1958 acc: 0.6851. Patience left: 10\n",
            "Epoch 44 took 0.50s. Train loss: -1.0576 acc: 0.6683. Val loss: -1.2167 acc: 0.6846. Patience left: 10\n",
            "Epoch 45 took 0.50s. Train loss: -1.0757 acc: 0.6679. Val loss: -1.2377 acc: 0.6843. Patience left: 10\n",
            "Epoch 46 took 0.50s. Train loss: -1.0939 acc: 0.6675. Val loss: -1.2588 acc: 0.6840. Patience left: 10\n",
            "Epoch 47 took 0.50s. Train loss: -1.1123 acc: 0.6673. Val loss: -1.2801 acc: 0.6838. Patience left: 10\n",
            "Epoch 48 took 0.50s. Train loss: -1.1308 acc: 0.6671. Val loss: -1.3016 acc: 0.6837. Patience left: 10\n",
            "Epoch 49 took 0.50s. Train loss: -1.1494 acc: 0.6669. Val loss: -1.3232 acc: 0.6835. Patience left: 10\n",
            "Epoch 50 took 0.50s. Train loss: -1.1681 acc: 0.6668. Val loss: -1.3450 acc: 0.6834. Patience left: 10\n",
            "Epoch 51 took 0.51s. Train loss: -1.1871 acc: 0.6667. Val loss: -1.3669 acc: 0.6832. Patience left: 10\n",
            "Epoch 52 took 0.50s. Train loss: -1.2062 acc: 0.6665. Val loss: -1.3891 acc: 0.6831. Patience left: 10\n",
            "Epoch 53 took 0.50s. Train loss: -1.2255 acc: 0.6664. Val loss: -1.4114 acc: 0.6829. Patience left: 10\n",
            "Epoch 54 took 0.50s. Train loss: -1.2449 acc: 0.6662. Val loss: -1.4339 acc: 0.6827. Patience left: 10\n",
            "Epoch 55 took 0.52s. Train loss: -1.2644 acc: 0.6660. Val loss: -1.4563 acc: 0.6825. Patience left: 10\n",
            "Epoch 56 took 0.50s. Train loss: -1.2839 acc: 0.6658. Val loss: -1.4786 acc: 0.6874. Patience left: 10\n",
            "Epoch 57 took 0.65s. Train loss: -1.3032 acc: 0.6708. Val loss: -1.5009 acc: 0.6895. Patience left: 10\n",
            "Epoch 58 took 0.51s. Train loss: -1.3225 acc: 0.6717. Val loss: -1.5233 acc: 0.6889. Patience left: 10\n",
            "Epoch 59 took 0.50s. Train loss: -1.3418 acc: 0.6709. Val loss: -1.5458 acc: 0.6883. Patience left: 10\n",
            "Epoch 60 took 0.50s. Train loss: -1.3613 acc: 0.6701. Val loss: -1.5684 acc: 0.6877. Patience left: 10\n",
            "Epoch 61 took 0.50s. Train loss: -1.3811 acc: 0.6694. Val loss: -1.5913 acc: 0.6872. Patience left: 10\n",
            "Epoch 62 took 0.79s. Train loss: -1.4011 acc: 0.6688. Val loss: -1.6143 acc: 0.6869. Patience left: 10\n",
            "Epoch 63 took 0.50s. Train loss: -1.4212 acc: 0.6685. Val loss: -1.6374 acc: 0.6866. Patience left: 10\n",
            "Epoch 64 took 0.50s. Train loss: -1.4412 acc: 0.6682. Val loss: -1.6603 acc: 0.6864. Patience left: 10\n",
            "Epoch 65 took 0.50s. Train loss: -1.4611 acc: 0.6679. Val loss: -1.6830 acc: 0.6861. Patience left: 10\n",
            "Epoch 66 took 0.50s. Train loss: -1.4806 acc: 0.6675. Val loss: -1.7054 acc: 0.6857. Patience left: 10\n",
            "Epoch 67 took 0.50s. Train loss: -1.5000 acc: 0.6672. Val loss: -1.7277 acc: 0.6854. Patience left: 10\n",
            "Epoch 68 took 0.49s. Train loss: -1.5191 acc: 0.6667. Val loss: -1.7499 acc: 0.6851. Patience left: 10\n",
            "Epoch 69 took 0.49s. Train loss: -1.5381 acc: 0.6664. Val loss: -1.7721 acc: 0.6849. Patience left: 10\n",
            "Epoch 70 took 0.50s. Train loss: -1.5573 acc: 0.6661. Val loss: -1.7945 acc: 0.6847. Patience left: 10\n",
            "Epoch 71 took 0.50s. Train loss: -1.5767 acc: 0.6660. Val loss: -1.8171 acc: 0.6846. Patience left: 10\n",
            "Epoch 72 took 0.50s. Train loss: -1.5963 acc: 0.6658. Val loss: -1.8398 acc: 0.6844. Patience left: 10\n",
            "Epoch 73 took 0.50s. Train loss: -1.6159 acc: 0.6656. Val loss: -1.8624 acc: 0.6841. Patience left: 10\n",
            "Epoch 74 took 0.50s. Train loss: -1.6356 acc: 0.6652. Val loss: -1.8851 acc: 0.6836. Patience left: 10\n",
            "Epoch 75 took 0.50s. Train loss: -1.6552 acc: 0.6646. Val loss: -1.9078 acc: 0.6910. Patience left: 10\n",
            "Epoch 76 took 0.49s. Train loss: -1.6750 acc: 0.6698. Val loss: -1.9308 acc: 0.6901. Patience left: 10\n",
            "Epoch 77 took 0.50s. Train loss: -1.6951 acc: 0.6704. Val loss: -1.9543 acc: 0.6938. Patience left: 10\n",
            "Epoch 78 took 0.50s. Train loss: -1.7160 acc: 0.6716. Val loss: -1.9786 acc: 0.6934. Patience left: 10\n",
            "Epoch 79 took 0.50s. Train loss: -1.7377 acc: 0.6713. Val loss: -2.0033 acc: 0.6935. Patience left: 10\n",
            "Epoch 80 took 0.50s. Train loss: -1.7596 acc: 0.6714. Val loss: -2.0280 acc: 0.6936. Patience left: 10\n",
            "Epoch 81 took 0.50s. Train loss: -1.7814 acc: 0.6716. Val loss: -2.0525 acc: 0.6936. Patience left: 10\n",
            "Epoch 82 took 0.50s. Train loss: -1.8029 acc: 0.6716. Val loss: -2.0770 acc: 0.6936. Patience left: 10\n",
            "Epoch 83 took 0.49s. Train loss: -1.8245 acc: 0.6715. Val loss: -2.1018 acc: 0.6936. Patience left: 10\n",
            "Epoch 84 took 0.50s. Train loss: -1.8463 acc: 0.6715. Val loss: -2.1270 acc: 0.6938. Patience left: 10\n",
            "Epoch 85 took 0.51s. Train loss: -1.8686 acc: 0.6717. Val loss: -2.1527 acc: 0.6942. Patience left: 10\n",
            "Epoch 86 took 0.62s. Train loss: -1.8912 acc: 0.6722. Val loss: -2.1782 acc: 0.6947. Patience left: 10\n",
            "Epoch 87 took 0.65s. Train loss: -1.9136 acc: 0.6728. Val loss: -2.2035 acc: 0.6952. Patience left: 10\n",
            "Epoch 88 took 0.60s. Train loss: -1.9357 acc: 0.6732. Val loss: -2.2286 acc: 0.6956. Patience left: 10\n",
            "Epoch 89 took 0.53s. Train loss: -1.9578 acc: 0.6736. Val loss: -2.2537 acc: 0.6963. Patience left: 10\n",
            "Epoch 90 took 0.55s. Train loss: -1.9800 acc: 0.6743. Val loss: -2.2791 acc: 0.6978. Patience left: 10\n",
            "Epoch 91 took 0.66s. Train loss: -2.0025 acc: 0.6761. Val loss: -2.3049 acc: 0.7004. Patience left: 10\n",
            "Epoch 92 took 0.71s. Train loss: -2.0254 acc: 0.6789. Val loss: -2.3314 acc: 0.7037. Patience left: 10\n",
            "Epoch 93 took 0.77s. Train loss: -2.0490 acc: 0.6823. Val loss: -2.3585 acc: 0.7070. Patience left: 10\n",
            "Epoch 94 took 0.98s. Train loss: -2.0734 acc: 0.6857. Val loss: -2.3864 acc: 0.7108. Patience left: 10\n",
            "Epoch 95 took 0.51s. Train loss: -2.0984 acc: 0.6899. Val loss: -2.4144 acc: 0.7165. Patience left: 10\n",
            "Epoch 96 took 0.50s. Train loss: -2.1235 acc: 0.6966. Val loss: -2.4422 acc: 0.7246. Patience left: 10\n",
            "Epoch 97 took 0.50s. Train loss: -2.1479 acc: 0.7056. Val loss: -2.4693 acc: 0.7338. Patience left: 10\n",
            "Epoch 98 took 0.50s. Train loss: -2.1717 acc: 0.7172. Val loss: -2.4958 acc: 0.7469. Patience left: 10\n",
            "Epoch 99 took 0.49s. Train loss: -2.1948 acc: 0.7262. Val loss: -2.5219 acc: 0.7498. Patience left: 10\n",
            "Epoch 100 took 0.49s. Train loss: -2.2175 acc: 0.7285. Val loss: -2.5479 acc: 0.7506. Patience left: 10\n",
            "0.7352274\n"
          ]
        }
      ]
    },
    {
      "cell_type": "code",
      "source": [
        "for i in range(3):\n",
        "  hidden_size = 32\n",
        "  num_cells = meth_mat.shape[1]\n",
        "  embedding_size = 3\n",
        "\n",
        "  gru_layer = nn.GRU(input_size = num_cells * embedding_size, hidden_size = hidden_size)\n",
        "\n",
        "  GRU_results2.append( run_model(gru_layer) )"
      ],
      "metadata": {
        "colab": {
          "base_uri": "https://localhost:8080/"
        },
        "id": "RpFM83RDu72a",
        "outputId": "7386ceda-930b-427a-b87e-e8b195a21aec"
      },
      "execution_count": null,
      "outputs": [
        {
          "output_type": "stream",
          "name": "stdout",
          "text": [
            "Epoch 1 took 0.70s. Train loss: -0.4959 acc: 0.4895. Val loss: -0.5731 acc: 0.5143. Patience left: 10\n",
            "Epoch 2 took 0.60s. Train loss: -0.5006 acc: 0.5092. Val loss: -0.5785 acc: 0.5331. Patience left: 10\n",
            "Epoch 3 took 0.56s. Train loss: -0.5054 acc: 0.5260. Val loss: -0.5842 acc: 0.5485. Patience left: 10\n",
            "Epoch 4 took 0.55s. Train loss: -0.5104 acc: 0.5396. Val loss: -0.5902 acc: 0.5612. Patience left: 10\n",
            "Epoch 5 took 0.56s. Train loss: -0.5157 acc: 0.5515. Val loss: -0.5967 acc: 0.5735. Patience left: 10\n",
            "Epoch 6 took 0.56s. Train loss: -0.5214 acc: 0.5637. Val loss: -0.6038 acc: 0.5862. Patience left: 10\n",
            "Epoch 7 took 0.55s. Train loss: -0.5277 acc: 0.5760. Val loss: -0.6117 acc: 0.5972. Patience left: 10\n",
            "Epoch 8 took 0.55s. Train loss: -0.5345 acc: 0.5867. Val loss: -0.6204 acc: 0.6055. Patience left: 10\n",
            "Epoch 9 took 0.56s. Train loss: -0.5421 acc: 0.5945. Val loss: -0.6300 acc: 0.6121. Patience left: 10\n",
            "Epoch 10 took 0.55s. Train loss: -0.5505 acc: 0.6006. Val loss: -0.6406 acc: 0.6191. Patience left: 10\n",
            "Epoch 11 took 0.55s. Train loss: -0.5597 acc: 0.6066. Val loss: -0.6523 acc: 0.6274. Patience left: 10\n",
            "Epoch 12 took 0.55s. Train loss: -0.5698 acc: 0.6132. Val loss: -0.6650 acc: 0.6361. Patience left: 10\n",
            "Epoch 13 took 0.56s. Train loss: -0.5807 acc: 0.6203. Val loss: -0.6788 acc: 0.6461. Patience left: 10\n",
            "Epoch 14 took 0.55s. Train loss: -0.5926 acc: 0.6284. Val loss: -0.6935 acc: 0.6554. Patience left: 10\n",
            "Epoch 15 took 0.55s. Train loss: -0.6053 acc: 0.6352. Val loss: -0.7092 acc: 0.6626. Patience left: 10\n",
            "Epoch 16 took 0.56s. Train loss: -0.6186 acc: 0.6409. Val loss: -0.7255 acc: 0.6693. Patience left: 10\n",
            "Epoch 17 took 0.61s. Train loss: -0.6326 acc: 0.6467. Val loss: -0.7423 acc: 0.6757. Patience left: 10\n",
            "Epoch 18 took 0.56s. Train loss: -0.6470 acc: 0.6518. Val loss: -0.7595 acc: 0.6799. Patience left: 10\n",
            "Epoch 19 took 0.55s. Train loss: -0.6617 acc: 0.6551. Val loss: -0.7770 acc: 0.6809. Patience left: 10\n",
            "Epoch 20 took 0.55s. Train loss: -0.6767 acc: 0.6554. Val loss: -0.7946 acc: 0.6807. Patience left: 10\n",
            "Epoch 21 took 0.56s. Train loss: -0.6918 acc: 0.6548. Val loss: -0.8125 acc: 0.6809. Patience left: 10\n",
            "Epoch 22 took 0.56s. Train loss: -0.7072 acc: 0.6546. Val loss: -0.8304 acc: 0.6856. Patience left: 10\n",
            "Epoch 23 took 0.56s. Train loss: -0.7227 acc: 0.6566. Val loss: -0.8485 acc: 0.6877. Patience left: 10\n",
            "Epoch 24 took 0.56s. Train loss: -0.7383 acc: 0.6546. Val loss: -0.8667 acc: 0.6854. Patience left: 10\n",
            "Epoch 25 took 0.56s. Train loss: -0.7541 acc: 0.6521. Val loss: -0.8850 acc: 0.6846. Patience left: 10\n",
            "Epoch 26 took 0.55s. Train loss: -0.7701 acc: 0.6516. Val loss: -0.9035 acc: 0.6846. Patience left: 10\n",
            "Epoch 27 took 0.59s. Train loss: -0.7862 acc: 0.6519. Val loss: -0.9221 acc: 0.6849. Patience left: 10\n",
            "Epoch 28 took 0.69s. Train loss: -0.8024 acc: 0.6524. Val loss: -0.9408 acc: 0.6855. Patience left: 10\n",
            "Epoch 29 took 0.56s. Train loss: -0.8187 acc: 0.6531. Val loss: -0.9596 acc: 0.6859. Patience left: 10\n",
            "Epoch 30 took 0.54s. Train loss: -0.8352 acc: 0.6538. Val loss: -0.9786 acc: 0.6865. Patience left: 10\n",
            "Epoch 31 took 0.55s. Train loss: -0.8518 acc: 0.6545. Val loss: -0.9977 acc: 0.6874. Patience left: 10\n",
            "Epoch 32 took 0.54s. Train loss: -0.8685 acc: 0.6561. Val loss: -1.0169 acc: 0.6895. Patience left: 10\n",
            "Epoch 33 took 0.55s. Train loss: -0.8854 acc: 0.6594. Val loss: -1.0363 acc: 0.6921. Patience left: 10\n",
            "Epoch 34 took 0.55s. Train loss: -0.9024 acc: 0.6630. Val loss: -1.0559 acc: 0.6938. Patience left: 10\n",
            "Epoch 35 took 0.55s. Train loss: -0.9195 acc: 0.6655. Val loss: -1.0757 acc: 0.6946. Patience left: 10\n",
            "Epoch 36 took 0.55s. Train loss: -0.9368 acc: 0.6665. Val loss: -1.0956 acc: 0.6943. Patience left: 10\n",
            "Epoch 37 took 0.56s. Train loss: -0.9542 acc: 0.6662. Val loss: -1.1156 acc: 0.6931. Patience left: 10\n",
            "Epoch 38 took 0.55s. Train loss: -0.9718 acc: 0.6650. Val loss: -1.1358 acc: 0.6915. Patience left: 10\n",
            "Epoch 39 took 0.55s. Train loss: -0.9895 acc: 0.6634. Val loss: -1.1562 acc: 0.6899. Patience left: 10\n",
            "Epoch 40 took 0.55s. Train loss: -1.0073 acc: 0.6619. Val loss: -1.1768 acc: 0.6895. Patience left: 10\n",
            "Epoch 41 took 0.55s. Train loss: -1.0253 acc: 0.6619. Val loss: -1.1975 acc: 0.6899. Patience left: 10\n",
            "Epoch 42 took 0.56s. Train loss: -1.0434 acc: 0.6623. Val loss: -1.2185 acc: 0.6906. Patience left: 10\n",
            "Epoch 43 took 0.55s. Train loss: -1.0617 acc: 0.6630. Val loss: -1.2396 acc: 0.6913. Patience left: 10\n",
            "Epoch 44 took 0.56s. Train loss: -1.0801 acc: 0.6638. Val loss: -1.2610 acc: 0.6922. Patience left: 10\n",
            "Epoch 45 took 0.56s. Train loss: -1.0988 acc: 0.6646. Val loss: -1.2825 acc: 0.6929. Patience left: 10\n",
            "Epoch 46 took 0.55s. Train loss: -1.1176 acc: 0.6653. Val loss: -1.3043 acc: 0.6935. Patience left: 10\n",
            "Epoch 47 took 0.55s. Train loss: -1.1366 acc: 0.6659. Val loss: -1.3263 acc: 0.6940. Patience left: 10\n",
            "Epoch 48 took 0.55s. Train loss: -1.1559 acc: 0.6663. Val loss: -1.3485 acc: 0.6944. Patience left: 10\n",
            "Epoch 49 took 0.56s. Train loss: -1.1753 acc: 0.6666. Val loss: -1.3710 acc: 0.6947. Patience left: 10\n",
            "Epoch 50 took 0.55s. Train loss: -1.1950 acc: 0.6669. Val loss: -1.3939 acc: 0.6950. Patience left: 10\n",
            "Epoch 51 took 0.55s. Train loss: -1.2151 acc: 0.6671. Val loss: -1.4172 acc: 0.6952. Patience left: 10\n",
            "Epoch 52 took 0.55s. Train loss: -1.2355 acc: 0.6673. Val loss: -1.4407 acc: 0.6953. Patience left: 10\n",
            "Epoch 53 took 0.55s. Train loss: -1.2561 acc: 0.6674. Val loss: -1.4646 acc: 0.6955. Patience left: 10\n",
            "Epoch 54 took 0.55s. Train loss: -1.2771 acc: 0.6675. Val loss: -1.4889 acc: 0.6956. Patience left: 10\n",
            "Epoch 55 took 0.56s. Train loss: -1.2985 acc: 0.6676. Val loss: -1.5136 acc: 0.6957. Patience left: 10\n",
            "Epoch 56 took 0.55s. Train loss: -1.3202 acc: 0.6676. Val loss: -1.5387 acc: 0.6957. Patience left: 10\n",
            "Epoch 57 took 0.56s. Train loss: -1.3423 acc: 0.6676. Val loss: -1.5643 acc: 0.6958. Patience left: 10\n",
            "Epoch 58 took 0.55s. Train loss: -1.3648 acc: 0.6677. Val loss: -1.5904 acc: 0.6968. Patience left: 10\n",
            "Epoch 59 took 0.55s. Train loss: -1.3878 acc: 0.6695. Val loss: -1.6169 acc: 0.7002. Patience left: 10\n",
            "Epoch 60 took 0.56s. Train loss: -1.4112 acc: 0.6724. Val loss: -1.6439 acc: 0.7020. Patience left: 10\n",
            "Epoch 61 took 0.55s. Train loss: -1.4350 acc: 0.6739. Val loss: -1.6713 acc: 0.7031. Patience left: 10\n",
            "Epoch 62 took 0.55s. Train loss: -1.4591 acc: 0.6748. Val loss: -1.6990 acc: 0.7039. Patience left: 10\n",
            "Epoch 63 took 0.55s. Train loss: -1.4836 acc: 0.6756. Val loss: -1.7271 acc: 0.7048. Patience left: 10\n",
            "Epoch 64 took 0.55s. Train loss: -1.5084 acc: 0.6763. Val loss: -1.7556 acc: 0.7057. Patience left: 10\n",
            "Epoch 65 took 0.55s. Train loss: -1.5334 acc: 0.6771. Val loss: -1.7842 acc: 0.7069. Patience left: 10\n",
            "Epoch 66 took 0.55s. Train loss: -1.5586 acc: 0.6784. Val loss: -1.8130 acc: 0.7085. Patience left: 10\n",
            "Epoch 67 took 0.55s. Train loss: -1.5839 acc: 0.6799. Val loss: -1.8419 acc: 0.7104. Patience left: 10\n",
            "Epoch 68 took 0.55s. Train loss: -1.6093 acc: 0.6817. Val loss: -1.8708 acc: 0.7125. Patience left: 10\n",
            "Epoch 69 took 0.55s. Train loss: -1.6347 acc: 0.6838. Val loss: -1.8998 acc: 0.7149. Patience left: 10\n",
            "Epoch 70 took 0.56s. Train loss: -1.6600 acc: 0.6863. Val loss: -1.9287 acc: 0.7176. Patience left: 10\n",
            "Epoch 71 took 0.56s. Train loss: -1.6853 acc: 0.6889. Val loss: -1.9575 acc: 0.7205. Patience left: 10\n",
            "Epoch 72 took 0.55s. Train loss: -1.7104 acc: 0.6916. Val loss: -1.9862 acc: 0.7234. Patience left: 10\n",
            "Epoch 73 took 0.56s. Train loss: -1.7354 acc: 0.6960. Val loss: -2.0148 acc: 0.7306. Patience left: 10\n",
            "Epoch 74 took 0.56s. Train loss: -1.7603 acc: 0.7007. Val loss: -2.0431 acc: 0.7336. Patience left: 10\n",
            "Epoch 75 took 0.56s. Train loss: -1.7849 acc: 0.7036. Val loss: -2.0713 acc: 0.7365. Patience left: 10\n",
            "Epoch 76 took 0.55s. Train loss: -1.8094 acc: 0.7064. Val loss: -2.0994 acc: 0.7393. Patience left: 10\n",
            "Epoch 77 took 0.56s. Train loss: -1.8337 acc: 0.7090. Val loss: -2.1273 acc: 0.7420. Patience left: 10\n",
            "Epoch 78 took 0.56s. Train loss: -1.8579 acc: 0.7116. Val loss: -2.1550 acc: 0.7445. Patience left: 10\n",
            "Epoch 79 took 0.55s. Train loss: -1.8819 acc: 0.7141. Val loss: -2.1827 acc: 0.7467. Patience left: 10\n",
            "Epoch 80 took 0.55s. Train loss: -1.9059 acc: 0.7162. Val loss: -2.2104 acc: 0.7486. Patience left: 10\n",
            "Epoch 81 took 0.56s. Train loss: -1.9299 acc: 0.7180. Val loss: -2.2379 acc: 0.7502. Patience left: 10\n",
            "Epoch 82 took 0.55s. Train loss: -1.9538 acc: 0.7196. Val loss: -2.2654 acc: 0.7515. Patience left: 10\n",
            "Epoch 83 took 0.56s. Train loss: -1.9776 acc: 0.7209. Val loss: -2.2928 acc: 0.7525. Patience left: 10\n",
            "Epoch 84 took 0.56s. Train loss: -2.0013 acc: 0.7218. Val loss: -2.3201 acc: 0.7533. Patience left: 10\n",
            "Epoch 85 took 0.56s. Train loss: -2.0250 acc: 0.7227. Val loss: -2.3473 acc: 0.7539. Patience left: 10\n",
            "Epoch 86 took 0.55s. Train loss: -2.0486 acc: 0.7234. Val loss: -2.3745 acc: 0.7545. Patience left: 10\n",
            "Epoch 87 took 0.55s. Train loss: -2.0721 acc: 0.7239. Val loss: -2.4016 acc: 0.7549. Patience left: 10\n",
            "Epoch 88 took 0.56s. Train loss: -2.0956 acc: 0.7243. Val loss: -2.4286 acc: 0.7551. Patience left: 10\n",
            "Epoch 89 took 0.56s. Train loss: -2.1191 acc: 0.7247. Val loss: -2.4556 acc: 0.7555. Patience left: 10\n",
            "Epoch 90 took 0.56s. Train loss: -2.1425 acc: 0.7251. Val loss: -2.4826 acc: 0.7558. Patience left: 10\n",
            "Epoch 91 took 0.55s. Train loss: -2.1658 acc: 0.7256. Val loss: -2.5094 acc: 0.7561. Patience left: 10\n",
            "Epoch 92 took 0.56s. Train loss: -2.1891 acc: 0.7259. Val loss: -2.5363 acc: 0.7563. Patience left: 10\n",
            "Epoch 93 took 0.56s. Train loss: -2.2124 acc: 0.7263. Val loss: -2.5630 acc: 0.7564. Patience left: 10\n",
            "Epoch 94 took 0.56s. Train loss: -2.2356 acc: 0.7265. Val loss: -2.5897 acc: 0.7565. Patience left: 10\n",
            "Epoch 95 took 0.56s. Train loss: -2.2588 acc: 0.7266. Val loss: -2.6163 acc: 0.7566. Patience left: 10\n",
            "Epoch 96 took 0.56s. Train loss: -2.2819 acc: 0.7266. Val loss: -2.6429 acc: 0.7566. Patience left: 10\n",
            "Epoch 97 took 0.56s. Train loss: -2.3049 acc: 0.7267. Val loss: -2.6694 acc: 0.7566. Patience left: 10\n",
            "Epoch 98 took 0.56s. Train loss: -2.3279 acc: 0.7267. Val loss: -2.6958 acc: 0.7566. Patience left: 10\n",
            "Epoch 99 took 0.55s. Train loss: -2.3508 acc: 0.7268. Val loss: -2.7222 acc: 0.7565. Patience left: 10\n",
            "Epoch 100 took 0.56s. Train loss: -2.3737 acc: 0.7268. Val loss: -2.7485 acc: 0.7565. Patience left: 10\n",
            "0.7370346\n",
            "Epoch 1 took 0.57s. Train loss: -0.5089 acc: 0.5598. Val loss: -0.5891 acc: 0.5771. Patience left: 10\n",
            "Epoch 2 took 0.56s. Train loss: -0.5166 acc: 0.5792. Val loss: -0.5982 acc: 0.5960. Patience left: 10\n",
            "Epoch 3 took 0.58s. Train loss: -0.5246 acc: 0.5926. Val loss: -0.6078 acc: 0.6100. Patience left: 10\n",
            "Epoch 4 took 0.56s. Train loss: -0.5331 acc: 0.6035. Val loss: -0.6180 acc: 0.6257. Patience left: 10\n",
            "Epoch 5 took 0.57s. Train loss: -0.5421 acc: 0.6150. Val loss: -0.6288 acc: 0.6394. Patience left: 10\n",
            "Epoch 6 took 0.57s. Train loss: -0.5516 acc: 0.6248. Val loss: -0.6399 acc: 0.6519. Patience left: 10\n",
            "Epoch 7 took 0.56s. Train loss: -0.5613 acc: 0.6354. Val loss: -0.6514 acc: 0.6637. Patience left: 10\n",
            "Epoch 8 took 0.56s. Train loss: -0.5713 acc: 0.6454. Val loss: -0.6631 acc: 0.6699. Patience left: 10\n",
            "Epoch 9 took 0.56s. Train loss: -0.5815 acc: 0.6501. Val loss: -0.6752 acc: 0.6732. Patience left: 10\n",
            "Epoch 10 took 0.56s. Train loss: -0.5920 acc: 0.6526. Val loss: -0.6875 acc: 0.6768. Patience left: 10\n",
            "Epoch 11 took 0.70s. Train loss: -0.6026 acc: 0.6545. Val loss: -0.7001 acc: 0.6782. Patience left: 10\n",
            "Epoch 12 took 0.69s. Train loss: -0.6135 acc: 0.6553. Val loss: -0.7129 acc: 0.6787. Patience left: 10\n",
            "Epoch 13 took 0.78s. Train loss: -0.6246 acc: 0.6559. Val loss: -0.7259 acc: 0.6790. Patience left: 10\n",
            "Epoch 14 took 0.57s. Train loss: -0.6358 acc: 0.6581. Val loss: -0.7391 acc: 0.6820. Patience left: 10\n",
            "Epoch 15 took 0.58s. Train loss: -0.6472 acc: 0.6644. Val loss: -0.7524 acc: 0.6841. Patience left: 10\n",
            "Epoch 16 took 0.55s. Train loss: -0.6588 acc: 0.6672. Val loss: -0.7659 acc: 0.6827. Patience left: 10\n",
            "Epoch 17 took 0.56s. Train loss: -0.6704 acc: 0.6659. Val loss: -0.7795 acc: 0.6820. Patience left: 10\n",
            "Epoch 18 took 0.56s. Train loss: -0.6823 acc: 0.6652. Val loss: -0.7934 acc: 0.6819. Patience left: 10\n",
            "Epoch 19 took 0.56s. Train loss: -0.6943 acc: 0.6651. Val loss: -0.8074 acc: 0.6818. Patience left: 10\n",
            "Epoch 20 took 0.55s. Train loss: -0.7065 acc: 0.6650. Val loss: -0.8216 acc: 0.6818. Patience left: 10\n",
            "Epoch 21 took 0.57s. Train loss: -0.7188 acc: 0.6650. Val loss: -0.8360 acc: 0.6818. Patience left: 10\n",
            "Epoch 22 took 0.57s. Train loss: -0.7313 acc: 0.6650. Val loss: -0.8506 acc: 0.6818. Patience left: 10\n",
            "Epoch 23 took 0.56s. Train loss: -0.7440 acc: 0.6650. Val loss: -0.8653 acc: 0.6818. Patience left: 10\n",
            "Epoch 24 took 0.55s. Train loss: -0.7568 acc: 0.6650. Val loss: -0.8803 acc: 0.6818. Patience left: 10\n",
            "Epoch 25 took 0.56s. Train loss: -0.7698 acc: 0.6650. Val loss: -0.8955 acc: 0.6818. Patience left: 10\n",
            "Epoch 26 took 0.56s. Train loss: -0.7830 acc: 0.6650. Val loss: -0.9108 acc: 0.6818. Patience left: 10\n",
            "Epoch 27 took 0.56s. Train loss: -0.7964 acc: 0.6650. Val loss: -0.9264 acc: 0.6818. Patience left: 10\n",
            "Epoch 28 took 0.55s. Train loss: -0.8099 acc: 0.6650. Val loss: -0.9421 acc: 0.6818. Patience left: 10\n",
            "Epoch 29 took 0.56s. Train loss: -0.8236 acc: 0.6650. Val loss: -0.9581 acc: 0.6818. Patience left: 10\n",
            "Epoch 30 took 0.56s. Train loss: -0.8375 acc: 0.6650. Val loss: -0.9742 acc: 0.6818. Patience left: 10\n",
            "Epoch 31 took 0.56s. Train loss: -0.8515 acc: 0.6650. Val loss: -0.9905 acc: 0.6818. Patience left: 10\n",
            "Epoch 32 took 0.55s. Train loss: -0.8657 acc: 0.6650. Val loss: -1.0070 acc: 0.6818. Patience left: 10\n",
            "Epoch 33 took 0.56s. Train loss: -0.8800 acc: 0.6650. Val loss: -1.0236 acc: 0.6818. Patience left: 10\n",
            "Epoch 34 took 0.56s. Train loss: -0.8944 acc: 0.6650. Val loss: -1.0403 acc: 0.6818. Patience left: 10\n",
            "Epoch 35 took 0.55s. Train loss: -0.9089 acc: 0.6650. Val loss: -1.0572 acc: 0.6818. Patience left: 10\n",
            "Epoch 36 took 0.55s. Train loss: -0.9236 acc: 0.6650. Val loss: -1.0741 acc: 0.6818. Patience left: 10\n",
            "Epoch 37 took 0.56s. Train loss: -0.9383 acc: 0.6650. Val loss: -1.0912 acc: 0.6818. Patience left: 10\n",
            "Epoch 38 took 0.56s. Train loss: -0.9531 acc: 0.6650. Val loss: -1.1083 acc: 0.6818. Patience left: 10\n",
            "Epoch 39 took 0.56s. Train loss: -0.9679 acc: 0.6650. Val loss: -1.1256 acc: 0.6818. Patience left: 10\n",
            "Epoch 40 took 0.56s. Train loss: -0.9828 acc: 0.6650. Val loss: -1.1428 acc: 0.6818. Patience left: 10\n",
            "Epoch 41 took 0.57s. Train loss: -0.9977 acc: 0.6650. Val loss: -1.1601 acc: 0.6818. Patience left: 10\n",
            "Epoch 42 took 0.57s. Train loss: -1.0127 acc: 0.6650. Val loss: -1.1775 acc: 0.6818. Patience left: 10\n",
            "Epoch 43 took 0.57s. Train loss: -1.0277 acc: 0.6650. Val loss: -1.1949 acc: 0.6818. Patience left: 10\n",
            "Epoch 44 took 0.57s. Train loss: -1.0427 acc: 0.6650. Val loss: -1.2123 acc: 0.6818. Patience left: 10\n",
            "Epoch 45 took 0.57s. Train loss: -1.0578 acc: 0.6650. Val loss: -1.2297 acc: 0.6818. Patience left: 10\n",
            "Epoch 46 took 0.56s. Train loss: -1.0728 acc: 0.6650. Val loss: -1.2471 acc: 0.6818. Patience left: 10\n",
            "Epoch 47 took 0.57s. Train loss: -1.0879 acc: 0.6650. Val loss: -1.2646 acc: 0.6818. Patience left: 10\n",
            "Epoch 48 took 0.57s. Train loss: -1.1030 acc: 0.6650. Val loss: -1.2820 acc: 0.6818. Patience left: 10\n",
            "Epoch 49 took 0.57s. Train loss: -1.1180 acc: 0.6650. Val loss: -1.2995 acc: 0.6818. Patience left: 10\n",
            "Epoch 50 took 0.57s. Train loss: -1.1331 acc: 0.6650. Val loss: -1.3170 acc: 0.6818. Patience left: 10\n",
            "Epoch 51 took 0.58s. Train loss: -1.1482 acc: 0.6650. Val loss: -1.3345 acc: 0.6818. Patience left: 10\n",
            "Epoch 52 took 0.56s. Train loss: -1.1633 acc: 0.6650. Val loss: -1.3519 acc: 0.6818. Patience left: 10\n",
            "Epoch 53 took 0.57s. Train loss: -1.1783 acc: 0.6650. Val loss: -1.3694 acc: 0.6818. Patience left: 10\n",
            "Epoch 54 took 0.56s. Train loss: -1.1934 acc: 0.6650. Val loss: -1.3869 acc: 0.6818. Patience left: 10\n",
            "Epoch 55 took 0.56s. Train loss: -1.2086 acc: 0.6650. Val loss: -1.4044 acc: 0.6818. Patience left: 10\n",
            "Epoch 56 took 0.55s. Train loss: -1.2237 acc: 0.6650. Val loss: -1.4220 acc: 0.6818. Patience left: 10\n",
            "Epoch 57 took 0.56s. Train loss: -1.2388 acc: 0.6650. Val loss: -1.4395 acc: 0.6818. Patience left: 10\n",
            "Epoch 58 took 0.56s. Train loss: -1.2540 acc: 0.6650. Val loss: -1.4571 acc: 0.6818. Patience left: 10\n",
            "Epoch 59 took 0.57s. Train loss: -1.2692 acc: 0.6650. Val loss: -1.4747 acc: 0.6818. Patience left: 10\n",
            "Epoch 60 took 0.56s. Train loss: -1.2845 acc: 0.6650. Val loss: -1.4924 acc: 0.6818. Patience left: 10\n",
            "Epoch 61 took 0.56s. Train loss: -1.2998 acc: 0.6650. Val loss: -1.5101 acc: 0.6818. Patience left: 10\n",
            "Epoch 62 took 0.56s. Train loss: -1.3151 acc: 0.6650. Val loss: -1.5278 acc: 0.6818. Patience left: 10\n",
            "Epoch 63 took 0.56s. Train loss: -1.3305 acc: 0.6650. Val loss: -1.5455 acc: 0.6818. Patience left: 10\n",
            "Epoch 64 took 0.56s. Train loss: -1.3459 acc: 0.6650. Val loss: -1.5633 acc: 0.6818. Patience left: 10\n",
            "Epoch 65 took 0.57s. Train loss: -1.3614 acc: 0.6650. Val loss: -1.5811 acc: 0.6818. Patience left: 10\n",
            "Epoch 66 took 0.57s. Train loss: -1.3769 acc: 0.6650. Val loss: -1.5990 acc: 0.6818. Patience left: 10\n",
            "Epoch 67 took 0.56s. Train loss: -1.3925 acc: 0.6650. Val loss: -1.6169 acc: 0.6818. Patience left: 10\n",
            "Epoch 68 took 0.55s. Train loss: -1.4081 acc: 0.6650. Val loss: -1.6349 acc: 0.6818. Patience left: 10\n",
            "Epoch 69 took 0.56s. Train loss: -1.4239 acc: 0.6650. Val loss: -1.6531 acc: 0.6818. Patience left: 10\n",
            "Epoch 70 took 0.56s. Train loss: -1.4398 acc: 0.6650. Val loss: -1.6713 acc: 0.6818. Patience left: 10\n",
            "Epoch 71 took 0.57s. Train loss: -1.4559 acc: 0.6650. Val loss: -1.6897 acc: 0.6818. Patience left: 10\n",
            "Epoch 72 took 0.56s. Train loss: -1.4722 acc: 0.6650. Val loss: -1.7083 acc: 0.6818. Patience left: 10\n",
            "Epoch 73 took 0.57s. Train loss: -1.4887 acc: 0.6650. Val loss: -1.7271 acc: 0.6818. Patience left: 10\n",
            "Epoch 74 took 0.56s. Train loss: -1.5055 acc: 0.6650. Val loss: -1.7462 acc: 0.6818. Patience left: 10\n",
            "Epoch 75 took 0.56s. Train loss: -1.5225 acc: 0.6650. Val loss: -1.7657 acc: 0.6818. Patience left: 10\n",
            "Epoch 76 took 0.55s. Train loss: -1.5398 acc: 0.6650. Val loss: -1.7856 acc: 0.6818. Patience left: 10\n",
            "Epoch 77 took 0.56s. Train loss: -1.5574 acc: 0.6650. Val loss: -1.8058 acc: 0.6818. Patience left: 10\n",
            "Epoch 78 took 0.56s. Train loss: -1.5754 acc: 0.6650. Val loss: -1.8264 acc: 0.6818. Patience left: 10\n",
            "Epoch 79 took 0.57s. Train loss: -1.5937 acc: 0.6650. Val loss: -1.8473 acc: 0.6818. Patience left: 10\n",
            "Epoch 80 took 0.56s. Train loss: -1.6124 acc: 0.6650. Val loss: -1.8686 acc: 0.6818. Patience left: 10\n",
            "Epoch 81 took 0.56s. Train loss: -1.6314 acc: 0.6650. Val loss: -1.8901 acc: 0.6818. Patience left: 10\n",
            "Epoch 82 took 0.56s. Train loss: -1.6507 acc: 0.6650. Val loss: -1.9120 acc: 0.6818. Patience left: 10\n",
            "Epoch 83 took 0.56s. Train loss: -1.6703 acc: 0.6650. Val loss: -1.9342 acc: 0.6818. Patience left: 10\n",
            "Epoch 84 took 0.56s. Train loss: -1.6902 acc: 0.6650. Val loss: -1.9565 acc: 0.6818. Patience left: 10\n",
            "Epoch 85 took 0.58s. Train loss: -1.7102 acc: 0.6650. Val loss: -1.9789 acc: 0.6818. Patience left: 10\n",
            "Epoch 86 took 0.57s. Train loss: -1.7302 acc: 0.6650. Val loss: -2.0014 acc: 0.6818. Patience left: 10\n",
            "Epoch 87 took 0.58s. Train loss: -1.7503 acc: 0.6650. Val loss: -2.0240 acc: 0.6818. Patience left: 10\n",
            "Epoch 88 took 0.56s. Train loss: -1.7705 acc: 0.6651. Val loss: -2.0467 acc: 0.6818. Patience left: 10\n",
            "Epoch 89 took 0.66s. Train loss: -1.7907 acc: 0.6651. Val loss: -2.0695 acc: 0.6818. Patience left: 10\n",
            "Epoch 90 took 0.60s. Train loss: -1.8111 acc: 0.6651. Val loss: -2.0924 acc: 0.6818. Patience left: 10\n",
            "Epoch 91 took 0.57s. Train loss: -1.8317 acc: 0.6651. Val loss: -2.1157 acc: 0.6818. Patience left: 10\n",
            "Epoch 92 took 0.56s. Train loss: -1.8527 acc: 0.6651. Val loss: -2.1392 acc: 0.6818. Patience left: 10\n",
            "Epoch 93 took 0.58s. Train loss: -1.8738 acc: 0.6651. Val loss: -2.1630 acc: 0.6819. Patience left: 10\n",
            "Epoch 94 took 0.56s. Train loss: -1.8954 acc: 0.6651. Val loss: -2.1872 acc: 0.6819. Patience left: 10\n",
            "Epoch 95 took 0.55s. Train loss: -1.9172 acc: 0.6651. Val loss: -2.2117 acc: 0.6819. Patience left: 10\n",
            "Epoch 96 took 0.57s. Train loss: -1.9392 acc: 0.6651. Val loss: -2.2365 acc: 0.6819. Patience left: 10\n",
            "Epoch 97 took 0.56s. Train loss: -1.9615 acc: 0.6651. Val loss: -2.2617 acc: 0.6819. Patience left: 10\n",
            "Epoch 98 took 0.56s. Train loss: -1.9842 acc: 0.6652. Val loss: -2.2871 acc: 0.6820. Patience left: 10\n",
            "Epoch 99 took 0.56s. Train loss: -2.0070 acc: 0.6653. Val loss: -2.3128 acc: 0.6821. Patience left: 10\n",
            "Epoch 100 took 0.56s. Train loss: -2.0301 acc: 0.6654. Val loss: -2.3387 acc: 0.6823. Patience left: 10\n",
            "0.662976\n",
            "Epoch 1 took 0.56s. Train loss: -0.5061 acc: 0.5417. Val loss: -0.5894 acc: 0.5666. Patience left: 10\n",
            "Epoch 2 took 0.56s. Train loss: -0.5159 acc: 0.5614. Val loss: -0.6012 acc: 0.5795. Patience left: 10\n",
            "Epoch 3 took 0.55s. Train loss: -0.5264 acc: 0.5719. Val loss: -0.6137 acc: 0.5878. Patience left: 10\n",
            "Epoch 4 took 0.56s. Train loss: -0.5376 acc: 0.5796. Val loss: -0.6270 acc: 0.5963. Patience left: 10\n",
            "Epoch 5 took 0.56s. Train loss: -0.5493 acc: 0.5870. Val loss: -0.6407 acc: 0.6042. Patience left: 10\n",
            "Epoch 6 took 0.56s. Train loss: -0.5614 acc: 0.5932. Val loss: -0.6547 acc: 0.6117. Patience left: 10\n",
            "Epoch 7 took 0.55s. Train loss: -0.5736 acc: 0.5985. Val loss: -0.6688 acc: 0.6196. Patience left: 10\n",
            "Epoch 8 took 0.56s. Train loss: -0.5858 acc: 0.6045. Val loss: -0.6827 acc: 0.6288. Patience left: 10\n",
            "Epoch 9 took 0.57s. Train loss: -0.5979 acc: 0.6120. Val loss: -0.6965 acc: 0.6373. Patience left: 10\n",
            "Epoch 10 took 0.57s. Train loss: -0.6099 acc: 0.6183. Val loss: -0.7101 acc: 0.6436. Patience left: 10\n",
            "Epoch 11 took 0.56s. Train loss: -0.6217 acc: 0.6242. Val loss: -0.7235 acc: 0.6527. Patience left: 10\n",
            "Epoch 12 took 0.57s. Train loss: -0.6334 acc: 0.6337. Val loss: -0.7369 acc: 0.6621. Patience left: 10\n",
            "Epoch 13 took 0.57s. Train loss: -0.6450 acc: 0.6410. Val loss: -0.7503 acc: 0.6680. Patience left: 10\n",
            "Epoch 14 took 0.57s. Train loss: -0.6567 acc: 0.6455. Val loss: -0.7638 acc: 0.6719. Patience left: 10\n",
            "Epoch 15 took 0.56s. Train loss: -0.6684 acc: 0.6493. Val loss: -0.7774 acc: 0.6754. Patience left: 10\n",
            "Epoch 16 took 0.57s. Train loss: -0.6802 acc: 0.6533. Val loss: -0.7912 acc: 0.6796. Patience left: 10\n",
            "Epoch 17 took 0.56s. Train loss: -0.6922 acc: 0.6578. Val loss: -0.8052 acc: 0.6818. Patience left: 10\n",
            "Epoch 18 took 0.57s. Train loss: -0.7044 acc: 0.6601. Val loss: -0.8195 acc: 0.6819. Patience left: 10\n",
            "Epoch 19 took 0.57s. Train loss: -0.7168 acc: 0.6608. Val loss: -0.8341 acc: 0.6819. Patience left: 10\n",
            "Epoch 20 took 0.57s. Train loss: -0.7294 acc: 0.6614. Val loss: -0.8488 acc: 0.6820. Patience left: 10\n",
            "Epoch 21 took 0.56s. Train loss: -0.7422 acc: 0.6621. Val loss: -0.8638 acc: 0.6821. Patience left: 10\n",
            "Epoch 22 took 0.56s. Train loss: -0.7551 acc: 0.6627. Val loss: -0.8791 acc: 0.6822. Patience left: 10\n",
            "Epoch 23 took 0.56s. Train loss: -0.7683 acc: 0.6629. Val loss: -0.8945 acc: 0.6821. Patience left: 10\n",
            "Epoch 24 took 0.56s. Train loss: -0.7816 acc: 0.6629. Val loss: -0.9101 acc: 0.6819. Patience left: 10\n",
            "Epoch 25 took 0.56s. Train loss: -0.7952 acc: 0.6628. Val loss: -0.9259 acc: 0.6817. Patience left: 10\n",
            "Epoch 26 took 0.57s. Train loss: -0.8088 acc: 0.6627. Val loss: -0.9419 acc: 0.6815. Patience left: 10\n",
            "Epoch 27 took 0.56s. Train loss: -0.8226 acc: 0.6626. Val loss: -0.9580 acc: 0.6813. Patience left: 10\n",
            "Epoch 28 took 0.57s. Train loss: -0.8366 acc: 0.6624. Val loss: -0.9743 acc: 0.6812. Patience left: 10\n",
            "Epoch 29 took 0.56s. Train loss: -0.8508 acc: 0.6624. Val loss: -0.9908 acc: 0.6811. Patience left: 10\n",
            "Epoch 30 took 0.57s. Train loss: -0.8651 acc: 0.6623. Val loss: -1.0074 acc: 0.6810. Patience left: 10\n",
            "Epoch 31 took 0.56s. Train loss: -0.8795 acc: 0.6622. Val loss: -1.0243 acc: 0.6810. Patience left: 10\n",
            "Epoch 32 took 0.57s. Train loss: -0.8941 acc: 0.6622. Val loss: -1.0412 acc: 0.6810. Patience left: 10\n",
            "Epoch 33 took 0.56s. Train loss: -0.9089 acc: 0.6622. Val loss: -1.0584 acc: 0.6810. Patience left: 10\n",
            "Epoch 34 took 0.57s. Train loss: -0.9238 acc: 0.6622. Val loss: -1.0757 acc: 0.6811. Patience left: 10\n",
            "Epoch 35 took 0.56s. Train loss: -0.9389 acc: 0.6623. Val loss: -1.0933 acc: 0.6814. Patience left: 10\n",
            "Epoch 36 took 0.57s. Train loss: -0.9541 acc: 0.6628. Val loss: -1.1109 acc: 0.6820. Patience left: 10\n",
            "Epoch 37 took 0.57s. Train loss: -0.9695 acc: 0.6636. Val loss: -1.1288 acc: 0.6828. Patience left: 10\n",
            "Epoch 38 took 0.56s. Train loss: -0.9850 acc: 0.6644. Val loss: -1.1468 acc: 0.6835. Patience left: 10\n",
            "Epoch 39 took 0.56s. Train loss: -1.0006 acc: 0.6653. Val loss: -1.1649 acc: 0.6842. Patience left: 10\n",
            "Epoch 40 took 0.56s. Train loss: -1.0164 acc: 0.6660. Val loss: -1.1832 acc: 0.6848. Patience left: 10\n",
            "Epoch 41 took 0.57s. Train loss: -1.0322 acc: 0.6665. Val loss: -1.2016 acc: 0.6852. Patience left: 10\n",
            "Epoch 42 took 0.57s. Train loss: -1.0481 acc: 0.6670. Val loss: -1.2201 acc: 0.6856. Patience left: 10\n",
            "Epoch 43 took 0.56s. Train loss: -1.0641 acc: 0.6674. Val loss: -1.2386 acc: 0.6858. Patience left: 10\n",
            "Epoch 44 took 0.57s. Train loss: -1.0802 acc: 0.6677. Val loss: -1.2573 acc: 0.6860. Patience left: 10\n",
            "Epoch 45 took 0.56s. Train loss: -1.0963 acc: 0.6678. Val loss: -1.2760 acc: 0.6861. Patience left: 10\n",
            "Epoch 46 took 0.58s. Train loss: -1.1125 acc: 0.6680. Val loss: -1.2948 acc: 0.6862. Patience left: 10\n",
            "Epoch 47 took 0.56s. Train loss: -1.1287 acc: 0.6680. Val loss: -1.3136 acc: 0.6863. Patience left: 10\n",
            "Epoch 48 took 0.56s. Train loss: -1.1449 acc: 0.6681. Val loss: -1.3324 acc: 0.6863. Patience left: 10\n",
            "Epoch 49 took 0.56s. Train loss: -1.1612 acc: 0.6682. Val loss: -1.3512 acc: 0.6864. Patience left: 10\n",
            "Epoch 50 took 0.57s. Train loss: -1.1774 acc: 0.6682. Val loss: -1.3701 acc: 0.6864. Patience left: 10\n",
            "Epoch 51 took 0.56s. Train loss: -1.1936 acc: 0.6682. Val loss: -1.3889 acc: 0.6864. Patience left: 10\n",
            "Epoch 52 took 0.57s. Train loss: -1.2099 acc: 0.6682. Val loss: -1.4078 acc: 0.6863. Patience left: 10\n",
            "Epoch 53 took 0.56s. Train loss: -1.2261 acc: 0.6682. Val loss: -1.4266 acc: 0.6863. Patience left: 10\n",
            "Epoch 54 took 0.57s. Train loss: -1.2424 acc: 0.6681. Val loss: -1.4455 acc: 0.6863. Patience left: 10\n",
            "Epoch 55 took 0.56s. Train loss: -1.2586 acc: 0.6681. Val loss: -1.4643 acc: 0.6862. Patience left: 10\n",
            "Epoch 56 took 0.57s. Train loss: -1.2749 acc: 0.6680. Val loss: -1.4832 acc: 0.6862. Patience left: 10\n",
            "Epoch 57 took 0.56s. Train loss: -1.2911 acc: 0.6680. Val loss: -1.5021 acc: 0.6861. Patience left: 10\n",
            "Epoch 58 took 0.57s. Train loss: -1.3074 acc: 0.6679. Val loss: -1.5209 acc: 0.6861. Patience left: 10\n",
            "Epoch 59 took 0.57s. Train loss: -1.3236 acc: 0.6678. Val loss: -1.5398 acc: 0.6860. Patience left: 10\n",
            "Epoch 60 took 0.57s. Train loss: -1.3399 acc: 0.6678. Val loss: -1.5588 acc: 0.6860. Patience left: 10\n",
            "Epoch 61 took 0.57s. Train loss: -1.3562 acc: 0.6677. Val loss: -1.5777 acc: 0.6859. Patience left: 10\n",
            "Epoch 62 took 0.57s. Train loss: -1.3725 acc: 0.6676. Val loss: -1.5967 acc: 0.6858. Patience left: 10\n",
            "Epoch 63 took 0.56s. Train loss: -1.3889 acc: 0.6675. Val loss: -1.6158 acc: 0.6858. Patience left: 10\n",
            "Epoch 64 took 0.57s. Train loss: -1.4054 acc: 0.6675. Val loss: -1.6350 acc: 0.6857. Patience left: 10\n",
            "Epoch 65 took 0.57s. Train loss: -1.4219 acc: 0.6674. Val loss: -1.6542 acc: 0.6856. Patience left: 10\n",
            "Epoch 66 took 0.57s. Train loss: -1.4386 acc: 0.6673. Val loss: -1.6736 acc: 0.6856. Patience left: 10\n",
            "Epoch 67 took 0.56s. Train loss: -1.4554 acc: 0.6673. Val loss: -1.6930 acc: 0.6855. Patience left: 10\n",
            "Epoch 68 took 0.57s. Train loss: -1.4723 acc: 0.6672. Val loss: -1.7124 acc: 0.6855. Patience left: 10\n",
            "Epoch 69 took 0.58s. Train loss: -1.4891 acc: 0.6672. Val loss: -1.7317 acc: 0.6854. Patience left: 10\n",
            "Epoch 70 took 0.57s. Train loss: -1.5059 acc: 0.6671. Val loss: -1.7513 acc: 0.6854. Patience left: 10\n",
            "Epoch 71 took 0.56s. Train loss: -1.5228 acc: 0.6670. Val loss: -1.7709 acc: 0.6853. Patience left: 10\n",
            "Epoch 72 took 0.56s. Train loss: -1.5397 acc: 0.6669. Val loss: -1.7906 acc: 0.6852. Patience left: 10\n",
            "Epoch 73 took 0.57s. Train loss: -1.5567 acc: 0.6668. Val loss: -1.8102 acc: 0.6851. Patience left: 10\n",
            "Epoch 74 took 0.56s. Train loss: -1.5736 acc: 0.6667. Val loss: -1.8298 acc: 0.6850. Patience left: 10\n",
            "Epoch 75 took 0.56s. Train loss: -1.5905 acc: 0.6666. Val loss: -1.8494 acc: 0.6849. Patience left: 10\n",
            "Epoch 76 took 0.56s. Train loss: -1.6075 acc: 0.6665. Val loss: -1.8690 acc: 0.6848. Patience left: 10\n",
            "Epoch 77 took 0.56s. Train loss: -1.6244 acc: 0.6664. Val loss: -1.8887 acc: 0.6848. Patience left: 10\n",
            "Epoch 78 took 0.56s. Train loss: -1.6414 acc: 0.6663. Val loss: -1.9085 acc: 0.6847. Patience left: 10\n",
            "Epoch 79 took 0.56s. Train loss: -1.6586 acc: 0.6663. Val loss: -1.9285 acc: 0.6901. Patience left: 10\n",
            "Epoch 80 took 0.56s. Train loss: -1.6760 acc: 0.6704. Val loss: -1.9487 acc: 0.6915. Patience left: 10\n",
            "Epoch 81 took 0.57s. Train loss: -1.6937 acc: 0.6711. Val loss: -1.9691 acc: 0.6916. Patience left: 10\n",
            "Epoch 82 took 0.57s. Train loss: -1.7116 acc: 0.6710. Val loss: -1.9895 acc: 0.6914. Patience left: 10\n",
            "Epoch 83 took 0.56s. Train loss: -1.7294 acc: 0.6707. Val loss: -2.0099 acc: 0.6912. Patience left: 10\n",
            "Epoch 84 took 0.57s. Train loss: -1.7474 acc: 0.6704. Val loss: -2.0310 acc: 0.6975. Patience left: 10\n",
            "Epoch 85 took 0.56s. Train loss: -1.7660 acc: 0.6754. Val loss: -2.0527 acc: 0.6969. Patience left: 10\n",
            "Epoch 86 took 0.57s. Train loss: -1.7852 acc: 0.6745. Val loss: -2.0751 acc: 0.6963. Patience left: 10\n",
            "Epoch 87 took 0.56s. Train loss: -1.8053 acc: 0.6738. Val loss: -2.0986 acc: 0.6957. Patience left: 10\n",
            "Epoch 88 took 0.57s. Train loss: -1.8268 acc: 0.6731. Val loss: -2.1234 acc: 0.6951. Patience left: 10\n",
            "Epoch 89 took 0.56s. Train loss: -1.8495 acc: 0.6723. Val loss: -2.1492 acc: 0.6943. Patience left: 10\n",
            "Epoch 90 took 0.56s. Train loss: -1.8732 acc: 0.6713. Val loss: -2.1763 acc: 0.6935. Patience left: 10\n",
            "Epoch 91 took 0.57s. Train loss: -1.8980 acc: 0.6703. Val loss: -2.2044 acc: 0.6926. Patience left: 10\n",
            "Epoch 92 took 0.56s. Train loss: -1.9234 acc: 0.6692. Val loss: -2.2320 acc: 0.6919. Patience left: 10\n",
            "Epoch 93 took 0.56s. Train loss: -1.9478 acc: 0.6684. Val loss: -2.2582 acc: 0.6917. Patience left: 10\n",
            "Epoch 94 took 0.56s. Train loss: -1.9709 acc: 0.6699. Val loss: -2.2838 acc: 0.6970. Patience left: 10\n",
            "Epoch 95 took 0.56s. Train loss: -1.9940 acc: 0.6730. Val loss: -2.3105 acc: 0.6970. Patience left: 10\n",
            "Epoch 96 took 0.57s. Train loss: -2.0182 acc: 0.6730. Val loss: -2.3387 acc: 0.6974. Patience left: 10\n",
            "Epoch 97 took 0.56s. Train loss: -2.0436 acc: 0.6735. Val loss: -2.3674 acc: 0.6984. Patience left: 10\n",
            "Epoch 98 took 0.56s. Train loss: -2.0689 acc: 0.6748. Val loss: -2.3951 acc: 0.6999. Patience left: 10\n",
            "Epoch 99 took 0.56s. Train loss: -2.0931 acc: 0.6764. Val loss: -2.4212 acc: 0.7014. Patience left: 10\n",
            "Epoch 100 took 0.56s. Train loss: -2.1161 acc: 0.6781. Val loss: -2.4468 acc: 0.7026. Patience left: 10\n",
            "0.67892903\n"
          ]
        }
      ]
    },
    {
      "cell_type": "code",
      "source": [
        "for i in range(3):\n",
        "  hidden_size = 32\n",
        "  num_cells = meth_mat.shape[1]\n",
        "  embedding_size = 3\n",
        "\n",
        "  lstm_layer = nn.LSTM(input_size = num_cells * embedding_size, hidden_size = hidden_size)\n",
        "\n",
        "  LSTM_results2.append( run_model(lstm_layer) )"
      ],
      "metadata": {
        "colab": {
          "base_uri": "https://localhost:8080/"
        },
        "id": "-AQ7Muwzu-Z-",
        "outputId": "1976abc2-c794-4220-ea8c-6927d97edd9d"
      },
      "execution_count": null,
      "outputs": [
        {
          "output_type": "stream",
          "name": "stdout",
          "text": [
            "Epoch 1 took 0.56s. Train loss: -0.4985 acc: 0.5267. Val loss: -0.5752 acc: 0.5556. Patience left: 10\n",
            "Epoch 2 took 0.58s. Train loss: -0.5029 acc: 0.5503. Val loss: -0.5805 acc: 0.5762. Patience left: 10\n",
            "Epoch 3 took 0.59s. Train loss: -0.5077 acc: 0.5682. Val loss: -0.5864 acc: 0.5919. Patience left: 10\n",
            "Epoch 4 took 0.57s. Train loss: -0.5131 acc: 0.5811. Val loss: -0.5929 acc: 0.6058. Patience left: 10\n",
            "Epoch 5 took 0.58s. Train loss: -0.5190 acc: 0.5923. Val loss: -0.6001 acc: 0.6186. Patience left: 10\n",
            "Epoch 6 took 0.57s. Train loss: -0.5255 acc: 0.6037. Val loss: -0.6081 acc: 0.6305. Patience left: 10\n",
            "Epoch 7 took 0.58s. Train loss: -0.5327 acc: 0.6140. Val loss: -0.6169 acc: 0.6400. Patience left: 10\n",
            "Epoch 8 took 0.57s. Train loss: -0.5407 acc: 0.6211. Val loss: -0.6266 acc: 0.6460. Patience left: 10\n",
            "Epoch 9 took 0.58s. Train loss: -0.5494 acc: 0.6260. Val loss: -0.6370 acc: 0.6501. Patience left: 10\n",
            "Epoch 10 took 0.57s. Train loss: -0.5587 acc: 0.6300. Val loss: -0.6480 acc: 0.6526. Patience left: 10\n",
            "Epoch 11 took 0.58s. Train loss: -0.5685 acc: 0.6332. Val loss: -0.6596 acc: 0.6542. Patience left: 10\n",
            "Epoch 12 took 0.58s. Train loss: -0.5788 acc: 0.6362. Val loss: -0.6717 acc: 0.6554. Patience left: 10\n",
            "Epoch 13 took 0.58s. Train loss: -0.5896 acc: 0.6389. Val loss: -0.6845 acc: 0.6574. Patience left: 10\n",
            "Epoch 14 took 0.58s. Train loss: -0.6010 acc: 0.6418. Val loss: -0.6980 acc: 0.6597. Patience left: 10\n",
            "Epoch 15 took 0.58s. Train loss: -0.6130 acc: 0.6455. Val loss: -0.7120 acc: 0.6648. Patience left: 10\n",
            "Epoch 16 took 0.58s. Train loss: -0.6254 acc: 0.6509. Val loss: -0.7267 acc: 0.6735. Patience left: 10\n",
            "Epoch 17 took 0.58s. Train loss: -0.6384 acc: 0.6592. Val loss: -0.7419 acc: 0.6798. Patience left: 10\n",
            "Epoch 18 took 0.57s. Train loss: -0.6518 acc: 0.6641. Val loss: -0.7576 acc: 0.6806. Patience left: 10\n",
            "Epoch 19 took 0.58s. Train loss: -0.6655 acc: 0.6647. Val loss: -0.7736 acc: 0.6807. Patience left: 10\n",
            "Epoch 20 took 0.57s. Train loss: -0.6797 acc: 0.6646. Val loss: -0.7900 acc: 0.6808. Patience left: 10\n",
            "Epoch 21 took 0.58s. Train loss: -0.6941 acc: 0.6641. Val loss: -0.8070 acc: 0.6809. Patience left: 10\n",
            "Epoch 22 took 0.58s. Train loss: -0.7089 acc: 0.6639. Val loss: -0.8244 acc: 0.6808. Patience left: 10\n",
            "Epoch 23 took 0.58s. Train loss: -0.7240 acc: 0.6637. Val loss: -0.8421 acc: 0.6807. Patience left: 10\n",
            "Epoch 24 took 0.58s. Train loss: -0.7395 acc: 0.6633. Val loss: -0.8601 acc: 0.6805. Patience left: 10\n",
            "Epoch 25 took 0.58s. Train loss: -0.7551 acc: 0.6628. Val loss: -0.8784 acc: 0.6803. Patience left: 10\n",
            "Epoch 26 took 0.59s. Train loss: -0.7710 acc: 0.6626. Val loss: -0.8971 acc: 0.6803. Patience left: 10\n",
            "Epoch 27 took 0.58s. Train loss: -0.7871 acc: 0.6627. Val loss: -0.9159 acc: 0.6804. Patience left: 10\n",
            "Epoch 28 took 0.57s. Train loss: -0.8033 acc: 0.6633. Val loss: -0.9348 acc: 0.6809. Patience left: 10\n",
            "Epoch 29 took 0.57s. Train loss: -0.8197 acc: 0.6640. Val loss: -0.9538 acc: 0.6812. Patience left: 10\n",
            "Epoch 30 took 0.58s. Train loss: -0.8362 acc: 0.6643. Val loss: -0.9730 acc: 0.6814. Patience left: 10\n",
            "Epoch 31 took 0.58s. Train loss: -0.8527 acc: 0.6648. Val loss: -0.9924 acc: 0.6809. Patience left: 10\n",
            "Epoch 32 took 0.58s. Train loss: -0.8694 acc: 0.6654. Val loss: -1.0118 acc: 0.6792. Patience left: 10\n",
            "Epoch 33 took 0.57s. Train loss: -0.8861 acc: 0.6646. Val loss: -1.0313 acc: 0.6786. Patience left: 10\n",
            "Epoch 34 took 0.57s. Train loss: -0.9029 acc: 0.6640. Val loss: -1.0507 acc: 0.6783. Patience left: 10\n",
            "Epoch 35 took 0.57s. Train loss: -0.9197 acc: 0.6638. Val loss: -1.0703 acc: 0.6782. Patience left: 10\n",
            "Epoch 36 took 0.58s. Train loss: -0.9364 acc: 0.6636. Val loss: -1.0899 acc: 0.6781. Patience left: 10\n",
            "Epoch 37 took 0.58s. Train loss: -0.9532 acc: 0.6635. Val loss: -1.1094 acc: 0.6779. Patience left: 10\n",
            "Epoch 38 took 0.58s. Train loss: -0.9700 acc: 0.6633. Val loss: -1.1288 acc: 0.6777. Patience left: 10\n",
            "Epoch 39 took 0.58s. Train loss: -0.9867 acc: 0.6631. Val loss: -1.1482 acc: 0.6776. Patience left: 10\n",
            "Epoch 40 took 0.58s. Train loss: -1.0033 acc: 0.6628. Val loss: -1.1676 acc: 0.6774. Patience left: 10\n",
            "Epoch 41 took 0.58s. Train loss: -1.0199 acc: 0.6626. Val loss: -1.1868 acc: 0.6772. Patience left: 10\n",
            "Epoch 42 took 0.58s. Train loss: -1.0364 acc: 0.6624. Val loss: -1.2060 acc: 0.6770. Patience left: 10\n",
            "Epoch 43 took 0.58s. Train loss: -1.0529 acc: 0.6621. Val loss: -1.2252 acc: 0.6767. Patience left: 10\n",
            "Epoch 44 took 0.58s. Train loss: -1.0693 acc: 0.6617. Val loss: -1.2443 acc: 0.6763. Patience left: 10\n",
            "Epoch 45 took 0.58s. Train loss: -1.0856 acc: 0.6625. Val loss: -1.2633 acc: 0.6818. Patience left: 10\n",
            "Epoch 46 took 0.58s. Train loss: -1.1019 acc: 0.6650. Val loss: -1.2822 acc: 0.6818. Patience left: 10\n",
            "Epoch 47 took 0.58s. Train loss: -1.1181 acc: 0.6650. Val loss: -1.3011 acc: 0.6818. Patience left: 10\n",
            "Epoch 48 took 0.58s. Train loss: -1.1343 acc: 0.6650. Val loss: -1.3200 acc: 0.6818. Patience left: 10\n",
            "Epoch 49 took 0.58s. Train loss: -1.1504 acc: 0.6650. Val loss: -1.3387 acc: 0.6818. Patience left: 10\n",
            "Epoch 50 took 0.59s. Train loss: -1.1664 acc: 0.6650. Val loss: -1.3574 acc: 0.6818. Patience left: 10\n",
            "Epoch 51 took 0.58s. Train loss: -1.1824 acc: 0.6650. Val loss: -1.3760 acc: 0.6818. Patience left: 10\n",
            "Epoch 52 took 0.58s. Train loss: -1.1983 acc: 0.6650. Val loss: -1.3946 acc: 0.6818. Patience left: 10\n",
            "Epoch 53 took 0.58s. Train loss: -1.2141 acc: 0.6650. Val loss: -1.4131 acc: 0.6818. Patience left: 10\n",
            "Epoch 54 took 0.72s. Train loss: -1.2299 acc: 0.6650. Val loss: -1.4316 acc: 0.6818. Patience left: 10\n",
            "Epoch 55 took 0.58s. Train loss: -1.2457 acc: 0.6650. Val loss: -1.4500 acc: 0.6818. Patience left: 10\n",
            "Epoch 56 took 0.58s. Train loss: -1.2614 acc: 0.6650. Val loss: -1.4683 acc: 0.6818. Patience left: 10\n",
            "Epoch 57 took 0.58s. Train loss: -1.2770 acc: 0.6650. Val loss: -1.4866 acc: 0.6818. Patience left: 10\n",
            "Epoch 58 took 0.58s. Train loss: -1.2926 acc: 0.6650. Val loss: -1.5048 acc: 0.6818. Patience left: 10\n",
            "Epoch 59 took 0.59s. Train loss: -1.3081 acc: 0.6650. Val loss: -1.5229 acc: 0.6818. Patience left: 10\n",
            "Epoch 60 took 0.58s. Train loss: -1.3236 acc: 0.6650. Val loss: -1.5410 acc: 0.6818. Patience left: 10\n",
            "Epoch 61 took 0.60s. Train loss: -1.3390 acc: 0.6650. Val loss: -1.5591 acc: 0.6818. Patience left: 10\n",
            "Epoch 62 took 0.58s. Train loss: -1.3544 acc: 0.6650. Val loss: -1.5771 acc: 0.6818. Patience left: 10\n",
            "Epoch 63 took 0.58s. Train loss: -1.3697 acc: 0.6650. Val loss: -1.5950 acc: 0.6818. Patience left: 10\n",
            "Epoch 64 took 0.57s. Train loss: -1.3850 acc: 0.6650. Val loss: -1.6129 acc: 0.6818. Patience left: 10\n",
            "Epoch 65 took 0.58s. Train loss: -1.4003 acc: 0.6650. Val loss: -1.6307 acc: 0.6818. Patience left: 10\n",
            "Epoch 66 took 0.58s. Train loss: -1.4155 acc: 0.6650. Val loss: -1.6485 acc: 0.6818. Patience left: 10\n",
            "Epoch 67 took 0.57s. Train loss: -1.4307 acc: 0.6650. Val loss: -1.6663 acc: 0.6818. Patience left: 10\n",
            "Epoch 68 took 0.58s. Train loss: -1.4458 acc: 0.6650. Val loss: -1.6839 acc: 0.6818. Patience left: 10\n",
            "Epoch 69 took 0.57s. Train loss: -1.4609 acc: 0.6650. Val loss: -1.7016 acc: 0.6818. Patience left: 10\n",
            "Epoch 70 took 0.58s. Train loss: -1.4759 acc: 0.6650. Val loss: -1.7192 acc: 0.6818. Patience left: 10\n",
            "Epoch 71 took 0.57s. Train loss: -1.4910 acc: 0.6650. Val loss: -1.7368 acc: 0.6818. Patience left: 10\n",
            "Epoch 72 took 0.58s. Train loss: -1.5059 acc: 0.6650. Val loss: -1.7543 acc: 0.6818. Patience left: 10\n",
            "Epoch 73 took 0.57s. Train loss: -1.5209 acc: 0.6650. Val loss: -1.7718 acc: 0.6818. Patience left: 10\n",
            "Epoch 74 took 0.57s. Train loss: -1.5358 acc: 0.6650. Val loss: -1.7893 acc: 0.6818. Patience left: 10\n",
            "Epoch 75 took 0.58s. Train loss: -1.5507 acc: 0.6650. Val loss: -1.8067 acc: 0.6818. Patience left: 10\n",
            "Epoch 76 took 0.57s. Train loss: -1.5655 acc: 0.6650. Val loss: -1.8240 acc: 0.6818. Patience left: 10\n",
            "Epoch 77 took 0.58s. Train loss: -1.5803 acc: 0.6650. Val loss: -1.8414 acc: 0.6818. Patience left: 10\n",
            "Epoch 78 took 0.58s. Train loss: -1.5951 acc: 0.6650. Val loss: -1.8586 acc: 0.6818. Patience left: 10\n",
            "Epoch 79 took 0.57s. Train loss: -1.6098 acc: 0.6650. Val loss: -1.8759 acc: 0.6818. Patience left: 10\n",
            "Epoch 80 took 0.58s. Train loss: -1.6245 acc: 0.6650. Val loss: -1.8931 acc: 0.6818. Patience left: 10\n",
            "Epoch 81 took 0.58s. Train loss: -1.6392 acc: 0.6650. Val loss: -1.9103 acc: 0.6818. Patience left: 10\n",
            "Epoch 82 took 0.58s. Train loss: -1.6539 acc: 0.6650. Val loss: -1.9275 acc: 0.6818. Patience left: 10\n",
            "Epoch 83 took 0.58s. Train loss: -1.6685 acc: 0.6650. Val loss: -1.9446 acc: 0.6818. Patience left: 10\n",
            "Epoch 84 took 0.58s. Train loss: -1.6831 acc: 0.6650. Val loss: -1.9617 acc: 0.6818. Patience left: 10\n",
            "Epoch 85 took 0.58s. Train loss: -1.6976 acc: 0.6650. Val loss: -1.9787 acc: 0.6818. Patience left: 10\n",
            "Epoch 86 took 0.58s. Train loss: -1.7121 acc: 0.6650. Val loss: -1.9958 acc: 0.6818. Patience left: 10\n",
            "Epoch 87 took 0.57s. Train loss: -1.7266 acc: 0.6650. Val loss: -2.0128 acc: 0.6818. Patience left: 10\n",
            "Epoch 88 took 0.58s. Train loss: -1.7411 acc: 0.6671. Val loss: -2.0297 acc: 0.6876. Patience left: 10\n",
            "Epoch 89 took 0.58s. Train loss: -1.7555 acc: 0.6690. Val loss: -2.0467 acc: 0.6870. Patience left: 10\n",
            "Epoch 90 took 0.57s. Train loss: -1.7700 acc: 0.6684. Val loss: -2.0636 acc: 0.6867. Patience left: 10\n",
            "Epoch 91 took 0.58s. Train loss: -1.7844 acc: 0.6680. Val loss: -2.0805 acc: 0.6864. Patience left: 10\n",
            "Epoch 92 took 0.68s. Train loss: -1.7987 acc: 0.6677. Val loss: -2.0973 acc: 0.6862. Patience left: 10\n",
            "Epoch 93 took 0.62s. Train loss: -1.8131 acc: 0.6675. Val loss: -2.1142 acc: 0.6860. Patience left: 10\n",
            "Epoch 94 took 0.57s. Train loss: -1.8274 acc: 0.6672. Val loss: -2.1310 acc: 0.6858. Patience left: 10\n",
            "Epoch 95 took 0.59s. Train loss: -1.8417 acc: 0.6670. Val loss: -2.1478 acc: 0.6856. Patience left: 10\n",
            "Epoch 96 took 0.58s. Train loss: -1.8560 acc: 0.6668. Val loss: -2.1646 acc: 0.6854. Patience left: 10\n",
            "Epoch 97 took 0.57s. Train loss: -1.8703 acc: 0.6666. Val loss: -2.1813 acc: 0.6852. Patience left: 10\n",
            "Epoch 98 took 0.57s. Train loss: -1.8845 acc: 0.6664. Val loss: -2.1981 acc: 0.6851. Patience left: 10\n",
            "Epoch 99 took 0.57s. Train loss: -1.8987 acc: 0.6662. Val loss: -2.2148 acc: 0.6849. Patience left: 10\n",
            "Epoch 100 took 0.57s. Train loss: -1.9129 acc: 0.6660. Val loss: -2.2314 acc: 0.6847. Patience left: 10\n",
            "0.66341287\n",
            "Epoch 1 took 0.56s. Train loss: -0.4969 acc: 0.5237. Val loss: -0.5727 acc: 0.5549. Patience left: 10\n",
            "Epoch 2 took 0.56s. Train loss: -0.5030 acc: 0.5655. Val loss: -0.5794 acc: 0.5849. Patience left: 10\n",
            "Epoch 3 took 0.56s. Train loss: -0.5094 acc: 0.5888. Val loss: -0.5866 acc: 0.5995. Patience left: 10\n",
            "Epoch 4 took 0.56s. Train loss: -0.5162 acc: 0.6008. Val loss: -0.5946 acc: 0.6098. Patience left: 10\n",
            "Epoch 5 took 0.56s. Train loss: -0.5237 acc: 0.6108. Val loss: -0.6034 acc: 0.6172. Patience left: 10\n",
            "Epoch 6 took 0.56s. Train loss: -0.5319 acc: 0.6169. Val loss: -0.6128 acc: 0.6204. Patience left: 10\n",
            "Epoch 7 took 0.56s. Train loss: -0.5406 acc: 0.6191. Val loss: -0.6227 acc: 0.6223. Patience left: 10\n",
            "Epoch 8 took 0.55s. Train loss: -0.5499 acc: 0.6206. Val loss: -0.6333 acc: 0.6256. Patience left: 10\n",
            "Epoch 9 took 0.56s. Train loss: -0.5597 acc: 0.6239. Val loss: -0.6444 acc: 0.6324. Patience left: 10\n",
            "Epoch 10 took 0.55s. Train loss: -0.5700 acc: 0.6304. Val loss: -0.6562 acc: 0.6433. Patience left: 10\n",
            "Epoch 11 took 0.55s. Train loss: -0.5807 acc: 0.6396. Val loss: -0.6687 acc: 0.6539. Patience left: 10\n",
            "Epoch 12 took 0.55s. Train loss: -0.5920 acc: 0.6476. Val loss: -0.6819 acc: 0.6599. Patience left: 10\n",
            "Epoch 13 took 0.55s. Train loss: -0.6038 acc: 0.6519. Val loss: -0.6957 acc: 0.6634. Patience left: 10\n",
            "Epoch 14 took 0.56s. Train loss: -0.6162 acc: 0.6553. Val loss: -0.7102 acc: 0.6669. Patience left: 10\n",
            "Epoch 15 took 0.56s. Train loss: -0.6291 acc: 0.6589. Val loss: -0.7253 acc: 0.6695. Patience left: 10\n",
            "Epoch 16 took 0.55s. Train loss: -0.6424 acc: 0.6605. Val loss: -0.7409 acc: 0.6721. Patience left: 10\n",
            "Epoch 17 took 0.56s. Train loss: -0.6564 acc: 0.6635. Val loss: -0.7573 acc: 0.6810. Patience left: 10\n",
            "Epoch 18 took 0.56s. Train loss: -0.6710 acc: 0.6695. Val loss: -0.7740 acc: 0.6868. Patience left: 10\n",
            "Epoch 19 took 0.56s. Train loss: -0.6860 acc: 0.6728. Val loss: -0.7915 acc: 0.6889. Patience left: 10\n",
            "Epoch 20 took 0.56s. Train loss: -0.7014 acc: 0.6729. Val loss: -0.8097 acc: 0.6880. Patience left: 10\n",
            "Epoch 21 took 0.56s. Train loss: -0.7171 acc: 0.6710. Val loss: -0.8282 acc: 0.6882. Patience left: 10\n",
            "Epoch 22 took 0.56s. Train loss: -0.7333 acc: 0.6712. Val loss: -0.8470 acc: 0.6891. Patience left: 10\n",
            "Epoch 23 took 0.55s. Train loss: -0.7498 acc: 0.6723. Val loss: -0.8664 acc: 0.6897. Patience left: 10\n",
            "Epoch 24 took 0.56s. Train loss: -0.7664 acc: 0.6726. Val loss: -0.8859 acc: 0.6894. Patience left: 10\n",
            "Epoch 25 took 0.55s. Train loss: -0.7831 acc: 0.6722. Val loss: -0.9054 acc: 0.6894. Patience left: 10\n",
            "Epoch 26 took 0.56s. Train loss: -0.7999 acc: 0.6721. Val loss: -0.9249 acc: 0.6890. Patience left: 10\n",
            "Epoch 27 took 0.56s. Train loss: -0.8167 acc: 0.6713. Val loss: -0.9445 acc: 0.6884. Patience left: 10\n",
            "Epoch 28 took 0.56s. Train loss: -0.8334 acc: 0.6708. Val loss: -0.9640 acc: 0.6881. Patience left: 10\n",
            "Epoch 29 took 0.56s. Train loss: -0.8502 acc: 0.6704. Val loss: -0.9838 acc: 0.6877. Patience left: 10\n",
            "Epoch 30 took 0.56s. Train loss: -0.8672 acc: 0.6698. Val loss: -1.0036 acc: 0.6870. Patience left: 10\n",
            "Epoch 31 took 0.56s. Train loss: -0.8841 acc: 0.6690. Val loss: -1.0235 acc: 0.6866. Patience left: 10\n",
            "Epoch 32 took 0.56s. Train loss: -0.9012 acc: 0.6687. Val loss: -1.0434 acc: 0.6866. Patience left: 10\n",
            "Epoch 33 took 0.55s. Train loss: -0.9182 acc: 0.6686. Val loss: -1.0634 acc: 0.6865. Patience left: 10\n",
            "Epoch 34 took 0.56s. Train loss: -0.9353 acc: 0.6684. Val loss: -1.0834 acc: 0.6863. Patience left: 10\n",
            "Epoch 35 took 0.56s. Train loss: -0.9524 acc: 0.6681. Val loss: -1.1035 acc: 0.6861. Patience left: 10\n",
            "Epoch 36 took 0.57s. Train loss: -0.9696 acc: 0.6679. Val loss: -1.1237 acc: 0.6859. Patience left: 10\n",
            "Epoch 37 took 0.55s. Train loss: -0.9868 acc: 0.6675. Val loss: -1.1439 acc: 0.6855. Patience left: 10\n",
            "Epoch 38 took 0.56s. Train loss: -1.0040 acc: 0.6671. Val loss: -1.1641 acc: 0.6853. Patience left: 10\n",
            "Epoch 39 took 0.56s. Train loss: -1.0212 acc: 0.6668. Val loss: -1.1843 acc: 0.6851. Patience left: 10\n",
            "Epoch 40 took 0.56s. Train loss: -1.0385 acc: 0.6666. Val loss: -1.2045 acc: 0.6849. Patience left: 10\n",
            "Epoch 41 took 0.56s. Train loss: -1.0558 acc: 0.6663. Val loss: -1.2248 acc: 0.6847. Patience left: 10\n",
            "Epoch 42 took 0.56s. Train loss: -1.0730 acc: 0.6661. Val loss: -1.2450 acc: 0.6845. Patience left: 10\n",
            "Epoch 43 took 0.57s. Train loss: -1.0903 acc: 0.6672. Val loss: -1.2653 acc: 0.6884. Patience left: 10\n",
            "Epoch 44 took 0.55s. Train loss: -1.1075 acc: 0.6688. Val loss: -1.2855 acc: 0.6880. Patience left: 10\n",
            "Epoch 45 took 0.56s. Train loss: -1.1248 acc: 0.6685. Val loss: -1.3058 acc: 0.6877. Patience left: 10\n",
            "Epoch 46 took 0.57s. Train loss: -1.1421 acc: 0.6681. Val loss: -1.3261 acc: 0.6873. Patience left: 10\n",
            "Epoch 47 took 0.56s. Train loss: -1.1593 acc: 0.6677. Val loss: -1.3464 acc: 0.6869. Patience left: 10\n",
            "Epoch 48 took 0.55s. Train loss: -1.1766 acc: 0.6673. Val loss: -1.3667 acc: 0.6866. Patience left: 10\n",
            "Epoch 49 took 0.56s. Train loss: -1.1940 acc: 0.6669. Val loss: -1.3871 acc: 0.6862. Patience left: 10\n",
            "Epoch 50 took 0.56s. Train loss: -1.2114 acc: 0.6665. Val loss: -1.4076 acc: 0.6860. Patience left: 10\n",
            "Epoch 51 took 0.56s. Train loss: -1.2289 acc: 0.6663. Val loss: -1.4283 acc: 0.6859. Patience left: 10\n",
            "Epoch 52 took 0.56s. Train loss: -1.2466 acc: 0.6662. Val loss: -1.4490 acc: 0.6858. Patience left: 10\n",
            "Epoch 53 took 0.56s. Train loss: -1.2643 acc: 0.6676. Val loss: -1.4697 acc: 0.6919. Patience left: 10\n",
            "Epoch 54 took 0.56s. Train loss: -1.2821 acc: 0.6716. Val loss: -1.4903 acc: 0.6917. Patience left: 10\n",
            "Epoch 55 took 0.56s. Train loss: -1.2996 acc: 0.6714. Val loss: -1.5105 acc: 0.6914. Patience left: 10\n",
            "Epoch 56 took 0.55s. Train loss: -1.3168 acc: 0.6709. Val loss: -1.5307 acc: 0.6910. Patience left: 10\n",
            "Epoch 57 took 0.56s. Train loss: -1.3340 acc: 0.6704. Val loss: -1.5509 acc: 0.6904. Patience left: 10\n",
            "Epoch 58 took 0.55s. Train loss: -1.3512 acc: 0.6697. Val loss: -1.5711 acc: 0.6896. Patience left: 10\n",
            "Epoch 59 took 0.55s. Train loss: -1.3683 acc: 0.6712. Val loss: -1.5913 acc: 0.6948. Patience left: 10\n",
            "Epoch 60 took 0.56s. Train loss: -1.3855 acc: 0.6758. Val loss: -1.6115 acc: 0.7022. Patience left: 10\n",
            "Epoch 61 took 0.56s. Train loss: -1.4026 acc: 0.6789. Val loss: -1.6315 acc: 0.7017. Patience left: 10\n",
            "Epoch 62 took 0.55s. Train loss: -1.4196 acc: 0.6782. Val loss: -1.6515 acc: 0.7010. Patience left: 10\n",
            "Epoch 63 took 0.56s. Train loss: -1.4366 acc: 0.6773. Val loss: -1.6715 acc: 0.7004. Patience left: 10\n",
            "Epoch 64 took 0.56s. Train loss: -1.4536 acc: 0.6764. Val loss: -1.6914 acc: 0.6996. Patience left: 10\n",
            "Epoch 65 took 0.57s. Train loss: -1.4705 acc: 0.6755. Val loss: -1.7113 acc: 0.6989. Patience left: 10\n",
            "Epoch 66 took 0.56s. Train loss: -1.4873 acc: 0.6745. Val loss: -1.7312 acc: 0.6981. Patience left: 10\n",
            "Epoch 67 took 0.56s. Train loss: -1.5042 acc: 0.6736. Val loss: -1.7511 acc: 0.6974. Patience left: 10\n",
            "Epoch 68 took 0.54s. Train loss: -1.5211 acc: 0.6726. Val loss: -1.7710 acc: 0.7043. Patience left: 10\n",
            "Epoch 69 took 0.56s. Train loss: -1.5380 acc: 0.6781. Val loss: -1.7911 acc: 0.7033. Patience left: 10\n",
            "Epoch 70 took 0.56s. Train loss: -1.5551 acc: 0.6768. Val loss: -1.8113 acc: 0.7021. Patience left: 10\n",
            "Epoch 71 took 0.56s. Train loss: -1.5723 acc: 0.6754. Val loss: -1.8313 acc: 0.7010. Patience left: 10\n",
            "Epoch 72 took 0.56s. Train loss: -1.5894 acc: 0.6741. Val loss: -1.8516 acc: 0.7000. Patience left: 10\n",
            "Epoch 73 took 0.56s. Train loss: -1.6067 acc: 0.6747. Val loss: -1.8720 acc: 0.7071. Patience left: 10\n",
            "Epoch 74 took 0.57s. Train loss: -1.6240 acc: 0.6772. Val loss: -1.8923 acc: 0.7060. Patience left: 10\n",
            "Epoch 75 took 0.56s. Train loss: -1.6412 acc: 0.6758. Val loss: -1.9124 acc: 0.7049. Patience left: 10\n",
            "Epoch 76 took 0.56s. Train loss: -1.6583 acc: 0.6744. Val loss: -1.9324 acc: 0.7039. Patience left: 10\n",
            "Epoch 77 took 0.56s. Train loss: -1.6753 acc: 0.6731. Val loss: -1.9524 acc: 0.7029. Patience left: 10\n",
            "Epoch 78 took 0.56s. Train loss: -1.6921 acc: 0.6719. Val loss: -1.9723 acc: 0.7020. Patience left: 10\n",
            "Epoch 79 took 0.56s. Train loss: -1.7090 acc: 0.6707. Val loss: -1.9922 acc: 0.7010. Patience left: 10\n",
            "Epoch 80 took 0.55s. Train loss: -1.7258 acc: 0.6696. Val loss: -2.0120 acc: 0.7001. Patience left: 10\n",
            "Epoch 81 took 0.56s. Train loss: -1.7426 acc: 0.6685. Val loss: -2.0319 acc: 0.6993. Patience left: 10\n",
            "Epoch 82 took 0.55s. Train loss: -1.7593 acc: 0.6675. Val loss: -2.0517 acc: 0.6984. Patience left: 10\n",
            "Epoch 83 took 0.55s. Train loss: -1.7761 acc: 0.6663. Val loss: -2.0715 acc: 0.6974. Patience left: 10\n",
            "Epoch 84 took 0.56s. Train loss: -1.7928 acc: 0.6652. Val loss: -2.0913 acc: 0.6962. Patience left: 10\n",
            "Epoch 85 took 0.56s. Train loss: -1.8095 acc: 0.6637. Val loss: -2.1111 acc: 0.6944. Patience left: 10\n",
            "Epoch 86 took 0.55s. Train loss: -1.8262 acc: 0.6614. Val loss: -2.1308 acc: 0.6928. Patience left: 10\n",
            "Epoch 87 took 0.56s. Train loss: -1.8428 acc: 0.6604. Val loss: -2.1504 acc: 0.6923. Patience left: 10\n",
            "Epoch 88 took 0.56s. Train loss: -1.8594 acc: 0.6598. Val loss: -2.1701 acc: 0.6918. Patience left: 10\n",
            "Epoch 89 took 0.56s. Train loss: -1.8760 acc: 0.6591. Val loss: -2.1897 acc: 0.6912. Patience left: 10\n",
            "Epoch 90 took 0.55s. Train loss: -1.8925 acc: 0.6585. Val loss: -2.2092 acc: 0.6907. Patience left: 10\n",
            "Epoch 91 took 0.55s. Train loss: -1.9091 acc: 0.6578. Val loss: -2.2287 acc: 0.6901. Patience left: 10\n",
            "Epoch 92 took 0.55s. Train loss: -1.9256 acc: 0.6571. Val loss: -2.2483 acc: 0.6894. Patience left: 10\n",
            "Epoch 93 took 0.56s. Train loss: -1.9421 acc: 0.6564. Val loss: -2.2678 acc: 0.6887. Patience left: 10\n",
            "Epoch 94 took 0.56s. Train loss: -1.9587 acc: 0.6556. Val loss: -2.2873 acc: 0.6880. Patience left: 10\n",
            "Epoch 95 took 0.56s. Train loss: -1.9752 acc: 0.6547. Val loss: -2.3069 acc: 0.6871. Patience left: 10\n",
            "Epoch 96 took 0.56s. Train loss: -1.9919 acc: 0.6536. Val loss: -2.3266 acc: 0.6861. Patience left: 10\n",
            "Epoch 97 took 0.55s. Train loss: -2.0087 acc: 0.6524. Val loss: -2.3464 acc: 0.6851. Patience left: 10\n",
            "Epoch 98 took 0.55s. Train loss: -2.0258 acc: 0.6514. Val loss: -2.3665 acc: 0.6845. Patience left: 10\n",
            "Epoch 99 took 0.55s. Train loss: -2.0432 acc: 0.6507. Val loss: -2.3869 acc: 0.6841. Patience left: 10\n",
            "Epoch 100 took 0.55s. Train loss: -2.0609 acc: 0.6506. Val loss: -2.4075 acc: 0.6841. Patience left: 10\n",
            "0.654272\n",
            "Epoch 1 took 0.55s. Train loss: -0.4917 acc: 0.4742. Val loss: -0.5654 acc: 0.4946. Patience left: 10\n",
            "Epoch 2 took 0.55s. Train loss: -0.4953 acc: 0.5053. Val loss: -0.5696 acc: 0.5315. Patience left: 10\n",
            "Epoch 3 took 0.55s. Train loss: -0.4991 acc: 0.5394. Val loss: -0.5743 acc: 0.5700. Patience left: 10\n",
            "Epoch 4 took 0.55s. Train loss: -0.5033 acc: 0.5756. Val loss: -0.5796 acc: 0.6075. Patience left: 10\n",
            "Epoch 5 took 0.56s. Train loss: -0.5082 acc: 0.6097. Val loss: -0.5858 acc: 0.6368. Patience left: 10\n",
            "Epoch 6 took 0.56s. Train loss: -0.5139 acc: 0.6348. Val loss: -0.5931 acc: 0.6548. Patience left: 10\n",
            "Epoch 7 took 0.55s. Train loss: -0.5206 acc: 0.6488. Val loss: -0.6018 acc: 0.6669. Patience left: 10\n",
            "Epoch 8 took 0.56s. Train loss: -0.5284 acc: 0.6580. Val loss: -0.6120 acc: 0.6748. Patience left: 10\n",
            "Epoch 9 took 0.56s. Train loss: -0.5377 acc: 0.6618. Val loss: -0.6239 acc: 0.6783. Patience left: 10\n",
            "Epoch 10 took 0.55s. Train loss: -0.5483 acc: 0.6620. Val loss: -0.6375 acc: 0.6792. Patience left: 10\n",
            "Epoch 11 took 0.56s. Train loss: -0.5603 acc: 0.6603. Val loss: -0.6527 acc: 0.6786. Patience left: 10\n",
            "Epoch 12 took 0.55s. Train loss: -0.5736 acc: 0.6584. Val loss: -0.6693 acc: 0.6783. Patience left: 10\n",
            "Epoch 13 took 0.55s. Train loss: -0.5880 acc: 0.6569. Val loss: -0.6871 acc: 0.6788. Patience left: 10\n",
            "Epoch 14 took 0.55s. Train loss: -0.6036 acc: 0.6568. Val loss: -0.7059 acc: 0.6809. Patience left: 10\n",
            "Epoch 15 took 0.55s. Train loss: -0.6202 acc: 0.6580. Val loss: -0.7257 acc: 0.6842. Patience left: 10\n",
            "Epoch 16 took 0.55s. Train loss: -0.6376 acc: 0.6612. Val loss: -0.7460 acc: 0.6891. Patience left: 10\n",
            "Epoch 17 took 0.56s. Train loss: -0.6553 acc: 0.6660. Val loss: -0.7666 acc: 0.6953. Patience left: 10\n",
            "Epoch 18 took 0.56s. Train loss: -0.6735 acc: 0.6720. Val loss: -0.7879 acc: 0.7006. Patience left: 10\n",
            "Epoch 19 took 0.55s. Train loss: -0.6923 acc: 0.6773. Val loss: -0.8101 acc: 0.7048. Patience left: 10\n",
            "Epoch 20 took 0.58s. Train loss: -0.7120 acc: 0.6811. Val loss: -0.8330 acc: 0.7076. Patience left: 10\n",
            "Epoch 21 took 0.56s. Train loss: -0.7321 acc: 0.6829. Val loss: -0.8561 acc: 0.7083. Patience left: 10\n",
            "Epoch 22 took 0.56s. Train loss: -0.7522 acc: 0.6831. Val loss: -0.8791 acc: 0.7083. Patience left: 10\n",
            "Epoch 23 took 0.56s. Train loss: -0.7722 acc: 0.6835. Val loss: -0.9024 acc: 0.7087. Patience left: 10\n",
            "Epoch 24 took 0.55s. Train loss: -0.7926 acc: 0.6835. Val loss: -0.9263 acc: 0.7097. Patience left: 10\n",
            "Epoch 25 took 0.55s. Train loss: -0.8136 acc: 0.6856. Val loss: -0.9506 acc: 0.7129. Patience left: 10\n",
            "Epoch 26 took 0.56s. Train loss: -0.8348 acc: 0.6872. Val loss: -0.9754 acc: 0.7121. Patience left: 10\n",
            "Epoch 27 took 0.55s. Train loss: -0.8561 acc: 0.6855. Val loss: -1.0002 acc: 0.7109. Patience left: 10\n",
            "Epoch 28 took 0.55s. Train loss: -0.8777 acc: 0.6847. Val loss: -1.0251 acc: 0.7118. Patience left: 10\n",
            "Epoch 29 took 0.56s. Train loss: -0.8993 acc: 0.6858. Val loss: -1.0504 acc: 0.7132. Patience left: 10\n",
            "Epoch 30 took 0.54s. Train loss: -0.9211 acc: 0.6870. Val loss: -1.0759 acc: 0.7146. Patience left: 10\n",
            "Epoch 31 took 0.56s. Train loss: -0.9432 acc: 0.6886. Val loss: -1.1015 acc: 0.7165. Patience left: 10\n",
            "Epoch 32 took 0.55s. Train loss: -0.9652 acc: 0.6908. Val loss: -1.1271 acc: 0.7191. Patience left: 10\n",
            "Epoch 33 took 0.55s. Train loss: -0.9873 acc: 0.6940. Val loss: -1.1527 acc: 0.7222. Patience left: 10\n",
            "Epoch 34 took 0.55s. Train loss: -1.0093 acc: 0.6978. Val loss: -1.1784 acc: 0.7297. Patience left: 10\n",
            "Epoch 35 took 0.55s. Train loss: -1.0315 acc: 0.7054. Val loss: -1.2042 acc: 0.7329. Patience left: 10\n",
            "Epoch 36 took 0.55s. Train loss: -1.0536 acc: 0.7086. Val loss: -1.2299 acc: 0.7366. Patience left: 10\n",
            "Epoch 37 took 0.55s. Train loss: -1.0759 acc: 0.7126. Val loss: -1.2557 acc: 0.7406. Patience left: 10\n",
            "Epoch 38 took 0.56s. Train loss: -1.0981 acc: 0.7167. Val loss: -1.2816 acc: 0.7448. Patience left: 10\n",
            "Epoch 39 took 0.55s. Train loss: -1.1203 acc: 0.7209. Val loss: -1.3075 acc: 0.7487. Patience left: 10\n",
            "Epoch 40 took 0.55s. Train loss: -1.1425 acc: 0.7245. Val loss: -1.3332 acc: 0.7521. Patience left: 10\n",
            "Epoch 41 took 0.56s. Train loss: -1.1646 acc: 0.7274. Val loss: -1.3590 acc: 0.7545. Patience left: 10\n",
            "Epoch 42 took 0.55s. Train loss: -1.1867 acc: 0.7294. Val loss: -1.3847 acc: 0.7556. Patience left: 10\n",
            "Epoch 43 took 0.56s. Train loss: -1.2087 acc: 0.7301. Val loss: -1.4104 acc: 0.7560. Patience left: 10\n",
            "Epoch 44 took 0.55s. Train loss: -1.2307 acc: 0.7303. Val loss: -1.4361 acc: 0.7620. Patience left: 10\n",
            "Epoch 45 took 0.56s. Train loss: -1.2526 acc: 0.7355. Val loss: -1.4616 acc: 0.7618. Patience left: 10\n",
            "Epoch 46 took 0.55s. Train loss: -1.2745 acc: 0.7352. Val loss: -1.4871 acc: 0.7615. Patience left: 10\n",
            "Epoch 47 took 0.54s. Train loss: -1.2963 acc: 0.7348. Val loss: -1.5126 acc: 0.7611. Patience left: 10\n",
            "Epoch 48 took 0.55s. Train loss: -1.3181 acc: 0.7341. Val loss: -1.5380 acc: 0.7606. Patience left: 10\n",
            "Epoch 49 took 0.55s. Train loss: -1.3399 acc: 0.7334. Val loss: -1.5634 acc: 0.7601. Patience left: 10\n",
            "Epoch 50 took 0.55s. Train loss: -1.3616 acc: 0.7328. Val loss: -1.5888 acc: 0.7596. Patience left: 10\n",
            "Epoch 51 took 0.55s. Train loss: -1.3833 acc: 0.7322. Val loss: -1.6141 acc: 0.7592. Patience left: 10\n",
            "Epoch 52 took 0.55s. Train loss: -1.4050 acc: 0.7316. Val loss: -1.6393 acc: 0.7588. Patience left: 10\n",
            "Epoch 53 took 0.55s. Train loss: -1.4266 acc: 0.7312. Val loss: -1.6646 acc: 0.7585. Patience left: 10\n",
            "Epoch 54 took 0.56s. Train loss: -1.4482 acc: 0.7308. Val loss: -1.6897 acc: 0.7583. Patience left: 10\n",
            "Epoch 55 took 0.55s. Train loss: -1.4698 acc: 0.7306. Val loss: -1.7149 acc: 0.7583. Patience left: 10\n",
            "Epoch 56 took 0.55s. Train loss: -1.4913 acc: 0.7305. Val loss: -1.7400 acc: 0.7583. Patience left: 10\n",
            "Epoch 57 took 0.55s. Train loss: -1.5128 acc: 0.7305. Val loss: -1.7651 acc: 0.7582. Patience left: 10\n",
            "Epoch 58 took 0.55s. Train loss: -1.5343 acc: 0.7304. Val loss: -1.7901 acc: 0.7582. Patience left: 10\n",
            "Epoch 59 took 0.55s. Train loss: -1.5557 acc: 0.7305. Val loss: -1.8150 acc: 0.7582. Patience left: 10\n",
            "Epoch 60 took 0.71s. Train loss: -1.5771 acc: 0.7305. Val loss: -1.8400 acc: 0.7582. Patience left: 10\n",
            "Epoch 61 took 0.55s. Train loss: -1.5984 acc: 0.7306. Val loss: -1.8648 acc: 0.7583. Patience left: 10\n",
            "Epoch 62 took 0.55s. Train loss: -1.6198 acc: 0.7307. Val loss: -1.8896 acc: 0.7583. Patience left: 10\n",
            "Epoch 63 took 0.56s. Train loss: -1.6411 acc: 0.7307. Val loss: -1.9144 acc: 0.7584. Patience left: 10\n",
            "Epoch 64 took 0.56s. Train loss: -1.6623 acc: 0.7307. Val loss: -1.9391 acc: 0.7584. Patience left: 10\n",
            "Epoch 65 took 0.55s. Train loss: -1.6836 acc: 0.7308. Val loss: -1.9638 acc: 0.7585. Patience left: 10\n",
            "Epoch 66 took 0.55s. Train loss: -1.7048 acc: 0.7310. Val loss: -1.9884 acc: 0.7585. Patience left: 10\n",
            "Epoch 67 took 0.55s. Train loss: -1.7259 acc: 0.7311. Val loss: -2.0130 acc: 0.7585. Patience left: 10\n",
            "Epoch 68 took 0.55s. Train loss: -1.7471 acc: 0.7312. Val loss: -2.0376 acc: 0.7585. Patience left: 10\n",
            "Epoch 69 took 0.55s. Train loss: -1.7682 acc: 0.7312. Val loss: -2.0621 acc: 0.7585. Patience left: 10\n",
            "Epoch 70 took 0.55s. Train loss: -1.7893 acc: 0.7313. Val loss: -2.0866 acc: 0.7586. Patience left: 10\n",
            "Epoch 71 took 0.56s. Train loss: -1.8103 acc: 0.7314. Val loss: -2.1110 acc: 0.7587. Patience left: 10\n",
            "Epoch 72 took 0.56s. Train loss: -1.8313 acc: 0.7315. Val loss: -2.1354 acc: 0.7587. Patience left: 10\n",
            "Epoch 73 took 0.55s. Train loss: -1.8523 acc: 0.7316. Val loss: -2.1598 acc: 0.7587. Patience left: 10\n",
            "Epoch 74 took 0.56s. Train loss: -1.8733 acc: 0.7317. Val loss: -2.1842 acc: 0.7588. Patience left: 10\n",
            "Epoch 75 took 0.55s. Train loss: -1.8943 acc: 0.7317. Val loss: -2.2085 acc: 0.7587. Patience left: 10\n",
            "Epoch 76 took 0.55s. Train loss: -1.9152 acc: 0.7317. Val loss: -2.2327 acc: 0.7587. Patience left: 10\n",
            "Epoch 77 took 0.56s. Train loss: -1.9361 acc: 0.7317. Val loss: -2.2570 acc: 0.7587. Patience left: 10\n",
            "Epoch 78 took 0.56s. Train loss: -1.9570 acc: 0.7318. Val loss: -2.2812 acc: 0.7587. Patience left: 10\n",
            "Epoch 79 took 0.55s. Train loss: -1.9779 acc: 0.7319. Val loss: -2.3054 acc: 0.7586. Patience left: 10\n",
            "Epoch 80 took 0.56s. Train loss: -1.9988 acc: 0.7319. Val loss: -2.3296 acc: 0.7585. Patience left: 10\n",
            "Epoch 81 took 0.55s. Train loss: -2.0196 acc: 0.7318. Val loss: -2.3538 acc: 0.7585. Patience left: 10\n",
            "Epoch 82 took 0.56s. Train loss: -2.0405 acc: 0.7319. Val loss: -2.3779 acc: 0.7585. Patience left: 10\n",
            "Epoch 83 took 0.56s. Train loss: -2.0613 acc: 0.7319. Val loss: -2.4020 acc: 0.7583. Patience left: 10\n",
            "Epoch 84 took 0.55s. Train loss: -2.0821 acc: 0.7318. Val loss: -2.4261 acc: 0.7583. Patience left: 10\n",
            "Epoch 85 took 0.57s. Train loss: -2.1029 acc: 0.7318. Val loss: -2.4502 acc: 0.7582. Patience left: 10\n",
            "Epoch 86 took 0.56s. Train loss: -2.1237 acc: 0.7317. Val loss: -2.4743 acc: 0.7581. Patience left: 10\n",
            "Epoch 87 took 0.55s. Train loss: -2.1445 acc: 0.7317. Val loss: -2.4983 acc: 0.7580. Patience left: 10\n",
            "Epoch 88 took 0.55s. Train loss: -2.1653 acc: 0.7317. Val loss: -2.5223 acc: 0.7579. Patience left: 10\n",
            "Epoch 89 took 0.56s. Train loss: -2.1860 acc: 0.7316. Val loss: -2.5463 acc: 0.7578. Patience left: 10\n",
            "Epoch 90 took 0.56s. Train loss: -2.2067 acc: 0.7315. Val loss: -2.5702 acc: 0.7576. Patience left: 10\n",
            "Epoch 91 took 0.55s. Train loss: -2.2274 acc: 0.7314. Val loss: -2.5941 acc: 0.7574. Patience left: 10\n",
            "Epoch 92 took 0.55s. Train loss: -2.2481 acc: 0.7313. Val loss: -2.6179 acc: 0.7573. Patience left: 10\n",
            "Epoch 93 took 0.56s. Train loss: -2.2687 acc: 0.7312. Val loss: -2.6418 acc: 0.7572. Patience left: 10\n",
            "Epoch 94 took 0.56s. Train loss: -2.2893 acc: 0.7311. Val loss: -2.6655 acc: 0.7571. Patience left: 10\n",
            "Epoch 95 took 0.55s. Train loss: -2.3098 acc: 0.7310. Val loss: -2.6892 acc: 0.7570. Patience left: 10\n",
            "Epoch 96 took 0.56s. Train loss: -2.3303 acc: 0.7309. Val loss: -2.7129 acc: 0.7569. Patience left: 10\n",
            "Epoch 97 took 0.56s. Train loss: -2.3507 acc: 0.7308. Val loss: -2.7365 acc: 0.7567. Patience left: 10\n",
            "Epoch 98 took 0.56s. Train loss: -2.3711 acc: 0.7307. Val loss: -2.7601 acc: 0.7566. Patience left: 10\n",
            "Epoch 99 took 0.55s. Train loss: -2.3915 acc: 0.7306. Val loss: -2.7836 acc: 0.7565. Patience left: 10\n",
            "Epoch 100 took 0.56s. Train loss: -2.4118 acc: 0.7306. Val loss: -2.8071 acc: 0.7564. Patience left: 10\n",
            "0.734217\n"
          ]
        }
      ]
    },
    {
      "cell_type": "code",
      "source": [
        "import math\n",
        "\n",
        "rnn_final2 = [sum([i[0] for i in rnn_results2]) / 3, sum([i[1] for i in rnn_results2]) / 3, sum([i[2] for i in rnn_results2]) / 3]\n",
        "GRU_final2 = [sum([i[0] for i in GRU_results2]) / 3, sum([i[1] for i in GRU_results2]) / 3, sum([i[2] for i in GRU_results2]) / 3]\n",
        "LSTM_final2 = [sum([i[0] for i in LSTM_results2]) / 3, sum([i[1] for i in LSTM_results2]) / 3, sum([i[2] for i in LSTM_results2]) / 3]\n",
        "\n",
        "plt.rcParams[\"figure.figsize\"] = (15,3)\n",
        "\n",
        "categories = [\"train acc\", \"val acc\", \"test acc\"]\n",
        "\n",
        "N = 3\n",
        "ind = np.arange(N) \n",
        "width = 0.25\n",
        "\n",
        "\n",
        "low = min(rnn_final2 + GRU_final2 + LSTM_final2)\n",
        "high = max(rnn_final2 + GRU_final2 + LSTM_final2)\n",
        "plt.ylim([low-0.5*(high-low), high+0.5*(high-low)])\n",
        "\n",
        "bar1 = plt.bar(ind, rnn_final2, width, color = 'r')\n",
        "bar2 = plt.bar(ind+width, GRU_final2, width, color='g')\n",
        "bar3 = plt.bar(ind+width*2, LSTM_final2, width, color = 'b')\n",
        "\n",
        "plt.xlabel(\"Accuracy Types\")\n",
        "plt.ylabel('Accuracy Numbers')\n",
        "plt.title(\"Accuracies for each RNN\")\n",
        "  \n",
        "plt.xticks(ind+width, categories)\n",
        "plt.legend( (bar1, bar2, bar3), ('rnn', 'GRU', 'LSTM') )\n",
        "plt.show()\n"
      ],
      "metadata": {
        "colab": {
          "base_uri": "https://localhost:8080/",
          "height": 241
        },
        "id": "ObhV2PE1yi6r",
        "outputId": "0e2a805d-eea3-49dc-c81a-34985dc4a5a1"
      },
      "execution_count": null,
      "outputs": [
        {
          "output_type": "display_data",
          "data": {
            "text/plain": [
              "<Figure size 1080x216 with 1 Axes>"
            ],
            "image/png": "[encoded data removed]"
          },
          "metadata": {
            "needs_background": "light"
          }
        }
      ]
    },
    {
      "cell_type": "markdown",
      "source": [
        "Unlike the last trial, the GRU performs the best for each accuracy type, going pretty close to the accuraciies of RNN and with LSTM coming in the rear. The difference between the accuracies in this case though doesn't make much difference even though GRU is performing the best, the difference between average test accuraccy for GRU vs LSTM is less than 0.1, suggesting that it's possible for any of these three to produce the best results given experimentation with hyperparameters."
      ],
      "metadata": {
        "id": "H4t5ttNd1vcH"
      }
    }
  ]
}